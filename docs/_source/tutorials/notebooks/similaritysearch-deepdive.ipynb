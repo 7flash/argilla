{
 "cells": [
  {
   "cell_type": "markdown",
   "source": [
    "# Similarity Search Deep Dive Post"
   ],
   "metadata": {
    "collapsed": false
   }
  },
  {
   "cell_type": "markdown",
   "source": [
    "## Document Scope:\n",
    "\n",
    "- This document will be the go to page for Argilla users for the Vector Search\n"
   ],
   "metadata": {
    "collapsed": false
   }
  },
  {
   "cell_type": "markdown",
   "source": [
    "## Outline:\n",
    "\n",
    "- What is Similarity Search\n",
    "\n",
    "- Benefits of Similarity Search\n",
    "    - UI experience\n",
    "    - Fast annotation\n",
    "    - Data deduplication\n",
    "    - Near duplicate detection\n",
    "\n",
    "- UI intro with examples\n",
    "\n",
    "- Python client intro with examples\n",
    "\n",
    "- A complete usage to provide possible usage flows:\n",
    "  - Log data with Python client and UI based annotation functionality\n",
    "  - Log data with Python client and then UI and Python client similarity search usage\n",
    "\n",
    "- A use case study with small amount of data to get the reader engaged to functionality\n"
   ],
   "metadata": {
    "collapsed": false
   }
  },
  {
   "cell_type": "markdown",
   "source": [
    "## Dataset:\n",
    "\n",
    "A task other than text classification may be good to introduce variety. Because in the case study tutorial we use a text classification dataset.\n"
   ],
   "metadata": {
    "collapsed": false
   }
  },
  {
   "cell_type": "code",
   "execution_count": null,
   "outputs": [],
   "source": [],
   "metadata": {
    "collapsed": false
   }
  }
 ],
 "metadata": {
  "kernelspec": {
   "display_name": "Python 3.9.13 ('argilla')",
   "language": "python",
   "name": "python3"
  },
  "language_info": {
   "codemirror_mode": {
    "name": "ipython",
    "version": 3
   },
   "file_extension": ".py",
   "mimetype": "text/x-python",
   "name": "python",
   "nbconvert_exporter": "python",
   "pygments_lexer": "ipython3",
   "version": "3.9.13"
  },
  "orig_nbformat": 4,
  "vscode": {
   "interpreter": {
    "hash": "83e13ff0de9ea08cace169d1016bf08ce368842307fd88824f08736a0a9ca04b"
   }
  }
 },
 "nbformat": 4,
 "nbformat_minor": 2
}
