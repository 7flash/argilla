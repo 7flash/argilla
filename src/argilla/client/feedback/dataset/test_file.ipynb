{
 "cells": [
  {
   "cell_type": "code",
   "execution_count": 40,
   "metadata": {},
   "outputs": [
    {
     "name": "stdout",
     "output_type": "stream",
     "text": [
      "The autoreload extension is already loaded. To reload it, use:\n",
      "  %reload_ext autoreload\n"
     ]
    }
   ],
   "source": [
    "%load_ext autoreload\n",
    "%autoreload 2"
   ]
  },
  {
   "cell_type": "code",
   "execution_count": 41,
   "metadata": {},
   "outputs": [],
   "source": [
    "import argilla as rg"
   ]
  },
  {
   "cell_type": "code",
   "execution_count": 42,
   "metadata": {},
   "outputs": [],
   "source": [
    "rg.init(\n",
    "    api_url=\"http://localhost:6900\",\n",
    "    api_key=\"owner.apikey\"\n",
    ")\n",
    "x = str(3)"
   ]
  },
  {
   "cell_type": "markdown",
   "metadata": {},
   "source": [
    "QUESTION ANSWERING"
   ]
  },
  {
   "cell_type": "code",
   "execution_count": 43,
   "metadata": {},
   "outputs": [
    {
     "name": "stderr",
     "output_type": "stream",
     "text": [
      "Pushing records to Argilla...: 100%|██████████| 1/1 [00:00<00:00, 64.19it/s]\n"
     ]
    }
   ],
   "source": [
    "items_qa = {\"question\": [\"What is the capital of Germany?\", \"What is the fastest animal?\"], \"context\": [\"Berlin is the capital of Germany.\",\"Cheetah is the fastest animal.\"]}\n",
    "dataset_qa = rg.FeedbackDataset.for_question_answering()\n",
    "dataset_qa.add_item(items_qa)\n",
    "remote_dataset_qa = dataset_qa.push_to_argilla(name=\"sample_question_answering\"+x, workspace=\"admin\")"
   ]
  },
  {
   "cell_type": "markdown",
   "metadata": {},
   "source": [
    "TEXT CLASSIFICATION"
   ]
  },
  {
   "cell_type": "code",
   "execution_count": 44,
   "metadata": {},
   "outputs": [
    {
     "name": "stderr",
     "output_type": "stream",
     "text": [
      "Pushing records to Argilla...: 100%|██████████| 1/1 [00:00<00:00, 70.37it/s]\n"
     ]
    }
   ],
   "source": [
    "items_textcat = {\"text\": [\"This is a positive text.\", \"This is a negative text.\"]}\n",
    "labels_textcat = [\"positive\", \"negative\"]\n",
    "dataset_textcat = rg.FeedbackDataset.for_text_classification(labels_textcat)\n",
    "dataset_textcat.add_item(items_textcat)\n",
    "remote_dataset_textcat = dataset_textcat.push_to_argilla(name=\"sample_text_classification\"+x, workspace=\"admin\")"
   ]
  },
  {
   "cell_type": "markdown",
   "metadata": {},
   "source": [
    "SUPERVISED FINETUNING"
   ]
  },
  {
   "cell_type": "code",
   "execution_count": 45,
   "metadata": {},
   "outputs": [
    {
     "name": "stderr",
     "output_type": "stream",
     "text": [
      "Pushing records to Argilla...: 100%|██████████| 1/1 [00:00<00:00, 68.18it/s]\n"
     ]
    }
   ],
   "source": [
    "items_sft = {\"instruction\": [\"This is a positive text.\", \"This is a negative text.\"], \"context\": [\"This text is positive.\", \"This text is negative.\"]}\n",
    "dataset_sft = rg.FeedbackDataset.for_supervised_fine_tuning(context=True)\n",
    "dataset_sft.add_item(items_sft)\n",
    "remote_dataset_sft = dataset_sft.push_to_argilla(name=\"sample_supervised_fine_tuning\"+x, workspace=\"admin\")"
   ]
  },
  {
   "cell_type": "markdown",
   "metadata": {},
   "source": [
    "SUMMARIZATION"
   ]
  },
  {
   "cell_type": "code",
   "execution_count": 46,
   "metadata": {},
   "outputs": [
    {
     "name": "stderr",
     "output_type": "stream",
     "text": [
      "Pushing records to Argilla...: 100%|██████████| 1/1 [00:00<00:00, 72.20it/s]\n"
     ]
    }
   ],
   "source": [
    "items_summarization = {\"text\": [\"The Eiffel Tower is an iconic wrought-iron lattice structure located in Paris, France, and is one of the world's most famous landmarks.\", \"The Louvre or the Louvre Museum is the world's largest art museum and a historic monument in Paris, France.\"]}\n",
    "dataset_summarization = rg.FeedbackDataset.for_summarization()\n",
    "dataset_summarization.add_item(items_summarization)\n",
    "remote_dataset_summarization = dataset_summarization.push_to_argilla(name=\"sample_summarization\"+x, workspace=\"admin\")"
   ]
  },
  {
   "cell_type": "markdown",
   "metadata": {},
   "source": [
    "TRANSLATION"
   ]
  },
  {
   "cell_type": "code",
   "execution_count": 47,
   "metadata": {},
   "outputs": [
    {
     "name": "stderr",
     "output_type": "stream",
     "text": [
      "Pushing records to Argilla...: 100%|██████████| 1/1 [00:00<00:00, 64.97it/s]\n"
     ]
    }
   ],
   "source": [
    "items_translation = {\"text\": [\"The Eiffel Tower is an iconic wrought-iron lattice structure located in Paris, France, and is one of the world's most famous landmarks.\", \"The Louvre or the Louvre Museum is the world's largest art museum and a historic monument in Paris, France.\"]}\n",
    "dataset_translation = rg.FeedbackDataset.for_translation()\n",
    "dataset_translation.add_item(items_translation)\n",
    "remote_dataset_translation = dataset_translation.push_to_argilla(name=\"sample_translation\"+x, workspace=\"admin\")"
   ]
  },
  {
   "cell_type": "markdown",
   "metadata": {},
   "source": [
    "CONVERSATIONAL"
   ]
  },
  {
   "cell_type": "code",
   "execution_count": 48,
   "metadata": {},
   "outputs": [
    {
     "name": "stderr",
     "output_type": "stream",
     "text": [
      "Pushing records to Argilla...: 100%|██████████| 1/1 [00:00<00:00, 33.47it/s]\n"
     ]
    }
   ],
   "source": [
    "items_conversational = {\"context\": [\"Hello, how are you?\", \"How do you feel, today?\"], \"system_prompt\": [\"You are a close friend of mine.\", \"You are a stranger.\"]}\n",
    "dataset_conversational = rg.FeedbackDataset.for_conversational(system_prompt=True)\n",
    "dataset_conversational.add_item(items_conversational)\n",
    "remote_dataset_conversational = dataset_conversational.push_to_argilla(name=\"sample_conversational\"+x, workspace=\"admin\")"
   ]
  },
  {
   "cell_type": "markdown",
   "metadata": {},
   "source": [
    "RETRIEVAL AUGMENTED GENERATION"
   ]
  },
  {
   "cell_type": "code",
   "execution_count": 49,
   "metadata": {},
   "outputs": [
    {
     "name": "stderr",
     "output_type": "stream",
     "text": [
      "Pushing records to Argilla...: 100%|██████████| 1/1 [00:00<00:00, 70.33it/s]\n"
     ]
    }
   ],
   "source": [
    "items_rag = {\"query\": [\"What is the status of the war?\", \"Is United Kindgdom still a member of the EU?\"], \"retrieved_document\": [\"The war is over.\", \"The UK left the EU at the end of 31 January 2020.\"]}\n",
    "dataset_rag = rg.FeedbackDataset.for_retrieval_augmented_generation()\n",
    "dataset_rag.add_item(items_rag)\n",
    "remote_dataset_rag = dataset_rag.push_to_argilla(name=\"sample_retrieval_augmented_generation\"+x, workspace=\"admin\")"
   ]
  },
  {
   "cell_type": "markdown",
   "metadata": {},
   "source": [
    "SENTENCE SIMILARITY"
   ]
  },
  {
   "cell_type": "code",
   "execution_count": 50,
   "metadata": {},
   "outputs": [
    {
     "name": "stderr",
     "output_type": "stream",
     "text": [
      "Pushing records to Argilla...: 100%|██████████| 1/1 [00:00<00:00, 21.11it/s]\n"
     ]
    }
   ],
   "source": [
    "items_sentsim = {\"sentence1\": [\"The window is fully open.\", \"The party is nearly full.\"], \"sentence2\": [\"The window is open.\", \"The party is full.\"]}\n",
    "dataset_sentsim = rg.FeedbackDataset.for_sentence_similarity()\n",
    "dataset_sentsim.add_item(items_sentsim)\n",
    "remote_dataset_sentsim = dataset_sentsim.push_to_argilla(name=\"sample_sentence_similarity\"+x, workspace=\"admin\")"
   ]
  },
  {
   "cell_type": "markdown",
   "metadata": {},
   "source": [
    "PREFERENCE"
   ]
  },
  {
   "cell_type": "code",
   "execution_count": 51,
   "metadata": {},
   "outputs": [
    {
     "name": "stderr",
     "output_type": "stream",
     "text": [
      "Pushing records to Argilla...: 100%|██████████| 1/1 [00:00<00:00, 38.61it/s]\n"
     ]
    }
   ],
   "source": [
    "item_preference = {\"context\": [\"Where is the bus station?\", \"Where is the train station?\"], \"option1\": [\"The bus station is on the left.\", \"The train station is on the right.\"], \"option2\": [\"The bus station is on the right.\", \"The train station is on the left.\"]}\n",
    "dataset_preference = rg.FeedbackDataset.for_preference()\n",
    "dataset_preference.add_item(item_preference)\n",
    "remote_dataset_preference = dataset_preference.push_to_argilla(name=\"sample_preference\"+x, workspace=\"admin\")"
   ]
  }
 ],
 "metadata": {
  "kernelspec": {
   "display_name": "argilla",
   "language": "python",
   "name": "python3"
  },
  "language_info": {
   "codemirror_mode": {
    "name": "ipython",
    "version": 3
   },
   "file_extension": ".py",
   "mimetype": "text/x-python",
   "name": "python",
   "nbconvert_exporter": "python",
   "pygments_lexer": "ipython3",
   "version": "3.8.17"
  },
  "orig_nbformat": 4
 },
 "nbformat": 4,
 "nbformat_minor": 2
}
