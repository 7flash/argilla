{
 "cells": [
  {
   "cell_type": "code",
   "execution_count": 1,
   "metadata": {},
   "outputs": [],
   "source": [
    "%load_ext autoreload\n",
    "%autoreload 2"
   ]
  },
  {
   "cell_type": "code",
   "execution_count": 2,
   "metadata": {},
   "outputs": [],
   "source": [
    "import argilla as rg"
   ]
  },
  {
   "cell_type": "code",
   "execution_count": 3,
   "metadata": {},
   "outputs": [
    {
     "name": "stderr",
     "output_type": "stream",
     "text": [
      "/Users/kursat/argilla/src/argilla/client/client.py:165: UserWarning: No workspace configuration was detected. To work with Argilla datasets, specify a valid workspace name on `rg.init` or set it up through the `rg.set_workspace` function.\n",
      "  warnings.warn(\n",
      "/Users/kursat/argilla/src/argilla/client/client.py:182: UserWarning: You're connecting to Argilla Server 1.14.1 using a different client version (1.17.0-dev).\n",
      "This may lead to potential compatibility issues during your experience.\n",
      "To ensure a seamless and optimized connection, we highly recommend aligning your client version with the server version.\n",
      "  warnings.warn(\n"
     ]
    }
   ],
   "source": [
    "rg.init(\n",
    "    api_url=\"http://localhost:6900\",\n",
    "    api_key=\"owner.apikey\"\n",
    ")"
   ]
  },
  {
   "cell_type": "markdown",
   "metadata": {},
   "source": [
    "QUESTION ANSWERING"
   ]
  },
  {
   "cell_type": "code",
   "execution_count": 5,
   "metadata": {},
   "outputs": [
    {
     "name": "stderr",
     "output_type": "stream",
     "text": [
      "Pushing records to Argilla...: 100%|██████████| 1/1 [00:00<00:00, 44.36it/s]\n"
     ]
    }
   ],
   "source": [
    "items_qa = {\"question\": [\"What is the capital of Germany?\", \"What is the fastest animal?\"], \"context\": [\"Berlin is the capital of Germany.\",\"Cheetah is the fastest animal.\"]}\n",
    "dataset_qa = rg.FeedbackDataset.for_question_answering()\n",
    "dataset_qa.add_item(items_qa)\n",
    "remote_dataset_qa = dataset_qa.push_to_argilla(name=\"sample_question_answering\", workspace=\"admin\")"
   ]
  },
  {
   "cell_type": "markdown",
   "metadata": {},
   "source": [
    "TEXT CLASSIFICATION"
   ]
  },
  {
   "cell_type": "code",
   "execution_count": 9,
   "metadata": {},
   "outputs": [
    {
     "name": "stderr",
     "output_type": "stream",
     "text": [
      "Pushing records to Argilla...: 100%|██████████| 1/1 [00:00<00:00, 44.16it/s]\n"
     ]
    }
   ],
   "source": [
    "items_textcat = {\"text\": [\"This is a positive text.\", \"This is a negative text.\"]}\n",
    "labels_textcat = [\"positive\", \"negative\"]\n",
    "dataset_textcat = rg.FeedbackDataset.for_text_classification(labels_textcat)\n",
    "dataset_textcat.add_item(items_textcat)\n",
    "remote_dataset_textcat = dataset_textcat.push_to_argilla(name=\"sample_text_classification\", workspace=\"admin\")"
   ]
  },
  {
   "cell_type": "markdown",
   "metadata": {},
   "source": [
    "SUPERVISED FINETUNING"
   ]
  },
  {
   "cell_type": "code",
   "execution_count": 5,
   "metadata": {},
   "outputs": [
    {
     "name": "stderr",
     "output_type": "stream",
     "text": [
      "Pushing records to Argilla...: 100%|██████████| 1/1 [00:00<00:00, 71.29it/s]\n"
     ]
    }
   ],
   "source": [
    "items_sft = {\"instruction\": [\"This is a positive text.\", \"This is a negative text.\"], \"context\": [\"This text is positive.\", \"This text is negative.\"]}\n",
    "dataset_sft = rg.FeedbackDataset.for_supervised_fine_tuning(context=True)\n",
    "dataset_sft.add_item(items_sft)\n",
    "remote_dataset_sft = dataset_sft.push_to_argilla(name=\"sample_supervised_fine_tuning\", workspace=\"admin\")"
   ]
  },
  {
   "cell_type": "markdown",
   "metadata": {},
   "source": [
    "SENTENCE SIMILARITY"
   ]
  },
  {
   "cell_type": "code",
   "execution_count": 14,
   "metadata": {},
   "outputs": [
    {
     "name": "stderr",
     "output_type": "stream",
     "text": [
      "Pushing records to Argilla...: 100%|██████████| 1/1 [00:00<00:00, 43.48it/s]\n"
     ]
    }
   ],
   "source": [
    "items_sentsim = {\"sentence1\": [\"The window is fully open.\", \"The party is nearly full.\"], \"sentence2\": [\"The window is open.\", \"The party is full.\"]}\n",
    "dataset_sentsim = rg.FeedbackDataset.for_sentence_similarity()\n",
    "dataset_sentsim.add_item(items_sentsim)\n",
    "remote_dataset_sentsim = dataset_sentsim.push_to_argilla(name=\"sample_sentence_similarity\", workspace=\"admin\")"
   ]
  },
  {
   "cell_type": "markdown",
   "metadata": {},
   "source": [
    "SUMMARIZATION"
   ]
  },
  {
   "cell_type": "code",
   "execution_count": 15,
   "metadata": {},
   "outputs": [
    {
     "name": "stderr",
     "output_type": "stream",
     "text": [
      "Pushing records to Argilla...: 100%|██████████| 1/1 [00:00<00:00, 34.01it/s]\n"
     ]
    }
   ],
   "source": [
    "items_summarization = {\"text\": [\"The Eiffel Tower is an iconic wrought-iron lattice structure located in Paris, France, and is one of the world's most famous landmarks.\", \"The Louvre or the Louvre Museum is the world's largest art museum and a historic monument in Paris, France.\"]}\n",
    "dataset_summarization = rg.FeedbackDataset.for_summarization()\n",
    "dataset_summarization.add_item(items_summarization)\n",
    "remote_dataset_summarization = dataset_summarization.push_to_argilla(name=\"sample_summarization\", workspace=\"admin\")"
   ]
  },
  {
   "cell_type": "markdown",
   "metadata": {},
   "source": [
    "TRANSLATION"
   ]
  },
  {
   "cell_type": "code",
   "execution_count": 10,
   "metadata": {},
   "outputs": [
    {
     "name": "stderr",
     "output_type": "stream",
     "text": [
      "Pushing records to Argilla...: 100%|██████████| 1/1 [00:00<00:00, 37.80it/s]\n"
     ]
    }
   ],
   "source": [
    "items_translation = {\"text\": [\"The Eiffel Tower is an iconic wrought-iron lattice structure located in Paris, France, and is one of the world's most famous landmarks.\", \"The Louvre or the Louvre Museum is the world's largest art museum and a historic monument in Paris, France.\"]}\n",
    "labels_translation = [\"positive\", \"negative\"]\n",
    "dataset_translation = rg.FeedbackDataset.for_translation(labels=labels_translation)\n",
    "dataset_translation.add_item(items_translation)\n",
    "remote_dataset_translation = dataset_translation.push_to_argilla(name=\"sample_translation\", workspace=\"admin\")"
   ]
  },
  {
   "cell_type": "markdown",
   "metadata": {},
   "source": [
    "CONVERSATIONAL"
   ]
  },
  {
   "cell_type": "code",
   "execution_count": 42,
   "metadata": {},
   "outputs": [
    {
     "name": "stderr",
     "output_type": "stream",
     "text": [
      "Pushing records to Argilla...: 100%|██████████| 1/1 [00:00<00:00, 65.97it/s]\n"
     ]
    }
   ],
   "source": [
    "items_conversational = {\"context\": [\"Hello, how are you?\", \"How do you feel, today?\"], \"system_prompt\": [\"You are a close friend of mine.\", \"You are a stranger.\"]}\n",
    "dataset_conversational = rg.FeedbackDataset.for_conversational(system_prompt=True)\n",
    "dataset_conversational.add_item(items_conversational)\n",
    "remote_dataset_conversational = dataset_conversational.push_to_argilla(name=\"sample_conversational\", workspace=\"admin\")"
   ]
  },
  {
   "cell_type": "markdown",
   "metadata": {},
   "source": [
    "RETRIEVAL AUGMENTED GENERATION"
   ]
  },
  {
   "cell_type": "code",
   "execution_count": 4,
   "metadata": {},
   "outputs": [
    {
     "name": "stderr",
     "output_type": "stream",
     "text": [
      "Pushing records to Argilla...: 100%|██████████| 1/1 [00:00<00:00, 43.19it/s]\n"
     ]
    }
   ],
   "source": [
    "items_rag = {\"query\": [\"What is the status of the war?\", \"Is United Kindgdom still a member of the EU?\"], \"retrieved_document\": [\"The war is over.\", \"The UK left the EU at the end of 31 January 2020.\"], \"retrieval_source\": [\"wikipedia\", \"wikipedia\"]}\n",
    "dataset_rag = rg.FeedbackDataset.for_retrieval_augmented_generation(retrieval_source=True)\n",
    "dataset_rag.add_item(items_rag)\n",
    "remote_dataset_rag = dataset_rag.push_to_argilla(name=\"sample_retrieval_augmented_generation\", workspace=\"admin\")"
   ]
  }
 ],
 "metadata": {
  "kernelspec": {
   "display_name": "argilla",
   "language": "python",
   "name": "python3"
  },
  "language_info": {
   "codemirror_mode": {
    "name": "ipython",
    "version": 3
   },
   "file_extension": ".py",
   "mimetype": "text/x-python",
   "name": "python",
   "nbconvert_exporter": "python",
   "pygments_lexer": "ipython3",
   "version": "3.8.17"
  },
  "orig_nbformat": 4
 },
 "nbformat": 4,
 "nbformat_minor": 2
}
