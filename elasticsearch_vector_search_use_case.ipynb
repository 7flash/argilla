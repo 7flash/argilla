{
 "cells": [
  {
   "cell_type": "code",
   "execution_count": 1,
   "metadata": {},
   "outputs": [
    {
     "name": "stdout",
     "output_type": "stream",
     "text": [
      "Requirement already satisfied: faiss-cpu in /home/ufuk/anaconda3/envs/argilla/lib/python3.9/site-packages (1.7.3)\r\n",
      "Requirement already satisfied: sentence_transformers in /home/ufuk/anaconda3/envs/argilla/lib/python3.9/site-packages (2.2.2)\r\n",
      "Requirement already satisfied: transformers in /home/ufuk/anaconda3/envs/argilla/lib/python3.9/site-packages (4.18.0)\r\n",
      "Requirement already satisfied: datasets in /home/ufuk/anaconda3/envs/argilla/lib/python3.9/site-packages (2.2.2)\r\n",
      "Requirement already satisfied: nltk in /home/ufuk/anaconda3/envs/argilla/lib/python3.9/site-packages (from sentence_transformers) (3.7)\r\n",
      "Requirement already satisfied: numpy in /home/ufuk/anaconda3/envs/argilla/lib/python3.9/site-packages (from sentence_transformers) (1.23.5)\r\n",
      "Requirement already satisfied: torch>=1.6.0 in /home/ufuk/anaconda3/envs/argilla/lib/python3.9/site-packages (from sentence_transformers) (1.13.0)\r\n",
      "Requirement already satisfied: tqdm in /home/ufuk/anaconda3/envs/argilla/lib/python3.9/site-packages (from sentence_transformers) (4.64.1)\r\n",
      "Requirement already satisfied: huggingface-hub>=0.4.0 in /home/ufuk/anaconda3/envs/argilla/lib/python3.9/site-packages (from sentence_transformers) (0.11.0)\r\n",
      "Requirement already satisfied: scipy in /home/ufuk/anaconda3/envs/argilla/lib/python3.9/site-packages (from sentence_transformers) (1.9.3)\r\n",
      "Requirement already satisfied: torchvision in /home/ufuk/anaconda3/envs/argilla/lib/python3.9/site-packages (from sentence_transformers) (0.14.0)\r\n",
      "Requirement already satisfied: sentencepiece in /home/ufuk/anaconda3/envs/argilla/lib/python3.9/site-packages (from sentence_transformers) (0.1.95)\r\n",
      "Requirement already satisfied: scikit-learn in /home/ufuk/anaconda3/envs/argilla/lib/python3.9/site-packages (from sentence_transformers) (1.1.3)\r\n",
      "Requirement already satisfied: packaging>=20.0 in /home/ufuk/anaconda3/envs/argilla/lib/python3.9/site-packages (from transformers) (21.3)\r\n",
      "Requirement already satisfied: pyyaml>=5.1 in /home/ufuk/anaconda3/envs/argilla/lib/python3.9/site-packages (from transformers) (5.4.1)\r\n",
      "Requirement already satisfied: regex!=2019.12.17 in /home/ufuk/anaconda3/envs/argilla/lib/python3.9/site-packages (from transformers) (2022.10.31)\r\n",
      "Requirement already satisfied: sacremoses in /home/ufuk/anaconda3/envs/argilla/lib/python3.9/site-packages (from transformers) (0.0.53)\r\n",
      "Requirement already satisfied: tokenizers!=0.11.3,<0.13,>=0.11.1 in /home/ufuk/anaconda3/envs/argilla/lib/python3.9/site-packages (from transformers) (0.12.1)\r\n",
      "Requirement already satisfied: requests in /home/ufuk/anaconda3/envs/argilla/lib/python3.9/site-packages (from transformers) (2.28.1)\r\n",
      "Requirement already satisfied: filelock in /home/ufuk/anaconda3/envs/argilla/lib/python3.9/site-packages (from transformers) (3.8.0)\r\n",
      "Requirement already satisfied: responses<0.19 in /home/ufuk/anaconda3/envs/argilla/lib/python3.9/site-packages (from datasets) (0.18.0)\r\n",
      "Requirement already satisfied: aiohttp in /home/ufuk/anaconda3/envs/argilla/lib/python3.9/site-packages (from datasets) (3.8.3)\r\n",
      "Requirement already satisfied: fsspec[http]>=2021.05.0 in /home/ufuk/anaconda3/envs/argilla/lib/python3.9/site-packages (from datasets) (2022.11.0)\r\n",
      "Requirement already satisfied: dill<0.3.5 in /home/ufuk/anaconda3/envs/argilla/lib/python3.9/site-packages (from datasets) (0.3.4)\r\n",
      "Requirement already satisfied: pyarrow>=6.0.0 in /home/ufuk/anaconda3/envs/argilla/lib/python3.9/site-packages (from datasets) (10.0.1)\r\n",
      "Requirement already satisfied: multiprocess in /home/ufuk/anaconda3/envs/argilla/lib/python3.9/site-packages (from datasets) (0.70.12.2)\r\n",
      "Requirement already satisfied: pandas in /home/ufuk/anaconda3/envs/argilla/lib/python3.9/site-packages (from datasets) (1.5.2)\r\n",
      "Requirement already satisfied: xxhash in /home/ufuk/anaconda3/envs/argilla/lib/python3.9/site-packages (from datasets) (3.1.0)\r\n",
      "Requirement already satisfied: charset-normalizer<3.0,>=2.0 in /home/ufuk/anaconda3/envs/argilla/lib/python3.9/site-packages (from aiohttp->datasets) (2.1.1)\r\n",
      "Requirement already satisfied: async-timeout<5.0,>=4.0.0a3 in /home/ufuk/anaconda3/envs/argilla/lib/python3.9/site-packages (from aiohttp->datasets) (4.0.2)\r\n",
      "Requirement already satisfied: yarl<2.0,>=1.0 in /home/ufuk/anaconda3/envs/argilla/lib/python3.9/site-packages (from aiohttp->datasets) (1.8.1)\r\n",
      "Requirement already satisfied: frozenlist>=1.1.1 in /home/ufuk/anaconda3/envs/argilla/lib/python3.9/site-packages (from aiohttp->datasets) (1.3.3)\r\n",
      "Requirement already satisfied: attrs>=17.3.0 in /home/ufuk/anaconda3/envs/argilla/lib/python3.9/site-packages (from aiohttp->datasets) (22.1.0)\r\n",
      "Requirement already satisfied: aiosignal>=1.1.2 in /home/ufuk/anaconda3/envs/argilla/lib/python3.9/site-packages (from aiohttp->datasets) (1.3.1)\r\n",
      "Requirement already satisfied: multidict<7.0,>=4.5 in /home/ufuk/anaconda3/envs/argilla/lib/python3.9/site-packages (from aiohttp->datasets) (6.0.2)\r\n",
      "Requirement already satisfied: typing-extensions>=3.7.4.3 in /home/ufuk/anaconda3/envs/argilla/lib/python3.9/site-packages (from huggingface-hub>=0.4.0->sentence_transformers) (4.4.0)\r\n",
      "Requirement already satisfied: pyparsing!=3.0.5,>=2.0.2 in /home/ufuk/anaconda3/envs/argilla/lib/python3.9/site-packages (from packaging>=20.0->transformers) (3.0.9)\r\n",
      "Requirement already satisfied: certifi>=2017.4.17 in /home/ufuk/anaconda3/envs/argilla/lib/python3.9/site-packages (from requests->transformers) (2022.9.24)\r\n",
      "Requirement already satisfied: idna<4,>=2.5 in /home/ufuk/anaconda3/envs/argilla/lib/python3.9/site-packages (from requests->transformers) (3.4)\r\n",
      "Requirement already satisfied: urllib3<1.27,>=1.21.1 in /home/ufuk/anaconda3/envs/argilla/lib/python3.9/site-packages (from requests->transformers) (1.26.12)\r\n",
      "Requirement already satisfied: nvidia-cuda-nvrtc-cu11==11.7.99 in /home/ufuk/anaconda3/envs/argilla/lib/python3.9/site-packages (from torch>=1.6.0->sentence_transformers) (11.7.99)\r\n",
      "Requirement already satisfied: nvidia-cudnn-cu11==8.5.0.96 in /home/ufuk/anaconda3/envs/argilla/lib/python3.9/site-packages (from torch>=1.6.0->sentence_transformers) (8.5.0.96)\r\n",
      "Requirement already satisfied: nvidia-cuda-runtime-cu11==11.7.99 in /home/ufuk/anaconda3/envs/argilla/lib/python3.9/site-packages (from torch>=1.6.0->sentence_transformers) (11.7.99)\r\n",
      "Requirement already satisfied: nvidia-cublas-cu11==11.10.3.66 in /home/ufuk/anaconda3/envs/argilla/lib/python3.9/site-packages (from torch>=1.6.0->sentence_transformers) (11.10.3.66)\r\n",
      "Requirement already satisfied: setuptools in /home/ufuk/anaconda3/envs/argilla/lib/python3.9/site-packages (from nvidia-cublas-cu11==11.10.3.66->torch>=1.6.0->sentence_transformers) (65.5.1)\r\n",
      "Requirement already satisfied: wheel in /home/ufuk/anaconda3/envs/argilla/lib/python3.9/site-packages (from nvidia-cublas-cu11==11.10.3.66->torch>=1.6.0->sentence_transformers) (0.38.4)\r\n",
      "Requirement already satisfied: joblib in /home/ufuk/anaconda3/envs/argilla/lib/python3.9/site-packages (from nltk->sentence_transformers) (1.2.0)\r\n",
      "Requirement already satisfied: click in /home/ufuk/anaconda3/envs/argilla/lib/python3.9/site-packages (from nltk->sentence_transformers) (7.1.2)\r\n",
      "Requirement already satisfied: python-dateutil>=2.8.1 in /home/ufuk/anaconda3/envs/argilla/lib/python3.9/site-packages (from pandas->datasets) (2.8.2)\r\n",
      "Requirement already satisfied: pytz>=2020.1 in /home/ufuk/anaconda3/envs/argilla/lib/python3.9/site-packages (from pandas->datasets) (2022.6)\r\n",
      "Requirement already satisfied: six in /home/ufuk/anaconda3/envs/argilla/lib/python3.9/site-packages (from sacremoses->transformers) (1.16.0)\r\n",
      "Requirement already satisfied: threadpoolctl>=2.0.0 in /home/ufuk/anaconda3/envs/argilla/lib/python3.9/site-packages (from scikit-learn->sentence_transformers) (3.1.0)\r\n",
      "Requirement already satisfied: pillow!=8.3.*,>=5.3.0 in /home/ufuk/anaconda3/envs/argilla/lib/python3.9/site-packages (from torchvision->sentence_transformers) (9.3.0)\r\n",
      "Note: you may need to restart the kernel to use updated packages.\n"
     ]
    }
   ],
   "source": [
    "%pip install faiss-cpu sentence_transformers transformers datasets"
   ]
  },
  {
   "cell_type": "code",
   "execution_count": 1,
   "outputs": [],
   "source": [
    "import argilla as rg"
   ],
   "metadata": {
    "collapsed": false
   }
  },
  {
   "cell_type": "code",
   "execution_count": 2,
   "outputs": [],
   "source": [
    "from sentence_transformers import SentenceTransformer\n",
    "\n",
    "# instantiate the model for the sentence embeddings\n",
    "# we strongly recommend using a GPU for the computation of the embeddings\n",
    "model = SentenceTransformer(\"all-mpnet-base-v2\", device=\"cuda\")"
   ],
   "metadata": {
    "collapsed": false
   }
  },
  {
   "cell_type": "code",
   "execution_count": 3,
   "outputs": [
    {
     "name": "stderr",
     "output_type": "stream",
     "text": [
      "2022-12-02 12:23:55.834 | WARNING  | datasets.builder:_create_builder_config:412 - Using custom data configuration default\n",
      "2022-12-02 12:23:55.836 | WARNING  | datasets.builder:download_and_prepare:577 - Reusing dataset ag_news (/home/ufuk/.cache/huggingface/datasets/ag_news/default/0.0.0/bc2bcb40336ace1a0374767fc29bb0296cdaf8a6da7298436239c54d79180548)\n"
     ]
    },
    {
     "data": {
      "text/plain": "  0%|          | 0/2 [00:00<?, ?it/s]",
      "application/vnd.jupyter.widget-view+json": {
       "version_major": 2,
       "version_minor": 0,
       "model_id": "9ccfcc1baf894eb4b0e56d371edc2e07"
      }
     },
     "metadata": {},
     "output_type": "display_data"
    },
    {
     "name": "stderr",
     "output_type": "stream",
     "text": [
      "2022-12-02 12:23:55.868 | WARNING  | datasets.arrow_dataset:train_test_split:3426 - Loading cached split indices for dataset at /home/ufuk/.cache/huggingface/datasets/ag_news/default/0.0.0/bc2bcb40336ace1a0374767fc29bb0296cdaf8a6da7298436239c54d79180548/cache-0fb8fdf64cc3fcc4.arrow and /home/ufuk/.cache/huggingface/datasets/ag_news/default/0.0.0/bc2bcb40336ace1a0374767fc29bb0296cdaf8a6da7298436239c54d79180548/cache-80423eae5320d3cb.arrow\n"
     ]
    }
   ],
   "source": [
    "from datasets import load_dataset\n",
    "\n",
    "agnews = load_dataset(\"ag_news\")\n",
    "\n",
    "agnews_train, agnews_valid = (\n",
    "    agnews[\"train\"].train_test_split(test_size=7600, seed=43).values()\n",
    ")\n"
   ],
   "metadata": {
    "collapsed": false
   }
  },
  {
   "cell_type": "code",
   "execution_count": 4,
   "outputs": [],
   "source": [
    "def record_generator(hf_dataset, split, vector_name, batch_size=32):\n",
    "    record_batch = []\n",
    "    for idx, record in enumerate(hf_dataset):\n",
    "        vector = model.encode(record[\"text\"]).tolist()\n",
    "        record = rg.TextClassificationRecord(\n",
    "            text=record[\"text\"],\n",
    "            embeddings = {\n",
    "                vector_name: {\n",
    "                    \"vector\": vector\n",
    "                }\n",
    "            },\n",
    "            metadata={\"split\": split},\n",
    "            id=f\"train_{idx}\",\n",
    "        )\n",
    "        record_batch.append(record)\n",
    "        if len(record_batch) == batch_size:\n",
    "            yield record_batch\n",
    "            record_batch = []\n",
    "    if record_batch:\n",
    "        yield record_batch"
   ],
   "metadata": {
    "collapsed": false
   }
  },
  {
   "cell_type": "code",
   "execution_count": 5,
   "outputs": [
    {
     "data": {
      "text/plain": "  0%|          | 0/32 [00:00<?, ?it/s]",
      "application/vnd.jupyter.widget-view+json": {
       "version_major": 2,
       "version_minor": 0,
       "model_id": "0fc3e6b864564d4593b0817825381942"
      }
     },
     "metadata": {},
     "output_type": "display_data"
    },
    {
     "name": "stdout",
     "output_type": "stream",
     "text": [
      "32 records logged to http://localhost:6900/datasets/argilla/ag_news\n"
     ]
    },
    {
     "data": {
      "text/plain": "  0%|          | 0/32 [00:00<?, ?it/s]",
      "application/vnd.jupyter.widget-view+json": {
       "version_major": 2,
       "version_minor": 0,
       "model_id": "bdc88f5e35a74e84b1c0b0e7b2892945"
      }
     },
     "metadata": {},
     "output_type": "display_data"
    },
    {
     "name": "stdout",
     "output_type": "stream",
     "text": [
      "32 records logged to http://localhost:6900/datasets/argilla/ag_news\n"
     ]
    },
    {
     "data": {
      "text/plain": "  0%|          | 0/32 [00:00<?, ?it/s]",
      "application/vnd.jupyter.widget-view+json": {
       "version_major": 2,
       "version_minor": 0,
       "model_id": "566be155d975452ea9b7d129f27041cd"
      }
     },
     "metadata": {},
     "output_type": "display_data"
    },
    {
     "name": "stdout",
     "output_type": "stream",
     "text": [
      "32 records logged to http://localhost:6900/datasets/argilla/ag_news\n"
     ]
    },
    {
     "data": {
      "text/plain": "  0%|          | 0/32 [00:00<?, ?it/s]",
      "application/vnd.jupyter.widget-view+json": {
       "version_major": 2,
       "version_minor": 0,
       "model_id": "e7a97b02b29e4df8aece9c53f5f96cc5"
      }
     },
     "metadata": {},
     "output_type": "display_data"
    },
    {
     "name": "stdout",
     "output_type": "stream",
     "text": [
      "32 records logged to http://localhost:6900/datasets/argilla/ag_news\n"
     ]
    },
    {
     "data": {
      "text/plain": "  0%|          | 0/32 [00:00<?, ?it/s]",
      "application/vnd.jupyter.widget-view+json": {
       "version_major": 2,
       "version_minor": 0,
       "model_id": "fa2fa272c9124c9fb3510ed315d8f84f"
      }
     },
     "metadata": {},
     "output_type": "display_data"
    },
    {
     "name": "stdout",
     "output_type": "stream",
     "text": [
      "32 records logged to http://localhost:6900/datasets/argilla/ag_news\n"
     ]
    },
    {
     "data": {
      "text/plain": "  0%|          | 0/32 [00:00<?, ?it/s]",
      "application/vnd.jupyter.widget-view+json": {
       "version_major": 2,
       "version_minor": 0,
       "model_id": "d53201f5dc884b75ab92cd54f0ff39e2"
      }
     },
     "metadata": {},
     "output_type": "display_data"
    },
    {
     "name": "stdout",
     "output_type": "stream",
     "text": [
      "32 records logged to http://localhost:6900/datasets/argilla/ag_news\n"
     ]
    },
    {
     "data": {
      "text/plain": "  0%|          | 0/32 [00:00<?, ?it/s]",
      "application/vnd.jupyter.widget-view+json": {
       "version_major": 2,
       "version_minor": 0,
       "model_id": "a181ad4246d845d4958200ff297b8a14"
      }
     },
     "metadata": {},
     "output_type": "display_data"
    },
    {
     "name": "stdout",
     "output_type": "stream",
     "text": [
      "32 records logged to http://localhost:6900/datasets/argilla/ag_news\n"
     ]
    },
    {
     "data": {
      "text/plain": "  0%|          | 0/32 [00:00<?, ?it/s]",
      "application/vnd.jupyter.widget-view+json": {
       "version_major": 2,
       "version_minor": 0,
       "model_id": "17e85caf8ea04eee81c04f3e61b0bf12"
      }
     },
     "metadata": {},
     "output_type": "display_data"
    },
    {
     "name": "stdout",
     "output_type": "stream",
     "text": [
      "32 records logged to http://localhost:6900/datasets/argilla/ag_news\n"
     ]
    },
    {
     "data": {
      "text/plain": "  0%|          | 0/32 [00:00<?, ?it/s]",
      "application/vnd.jupyter.widget-view+json": {
       "version_major": 2,
       "version_minor": 0,
       "model_id": "c3476f831c59437abbf964a4a9eb59f6"
      }
     },
     "metadata": {},
     "output_type": "display_data"
    },
    {
     "name": "stdout",
     "output_type": "stream",
     "text": [
      "32 records logged to http://localhost:6900/datasets/argilla/ag_news\n"
     ]
    },
    {
     "data": {
      "text/plain": "  0%|          | 0/32 [00:00<?, ?it/s]",
      "application/vnd.jupyter.widget-view+json": {
       "version_major": 2,
       "version_minor": 0,
       "model_id": "ac0e0654c1c14071a95c73b1eff6f372"
      }
     },
     "metadata": {},
     "output_type": "display_data"
    },
    {
     "name": "stdout",
     "output_type": "stream",
     "text": [
      "32 records logged to http://localhost:6900/datasets/argilla/ag_news\n"
     ]
    },
    {
     "data": {
      "text/plain": "  0%|          | 0/32 [00:00<?, ?it/s]",
      "application/vnd.jupyter.widget-view+json": {
       "version_major": 2,
       "version_minor": 0,
       "model_id": "5ddaeeb2b1a14e19a49567fea5cd6fbe"
      }
     },
     "metadata": {},
     "output_type": "display_data"
    },
    {
     "name": "stdout",
     "output_type": "stream",
     "text": [
      "32 records logged to http://localhost:6900/datasets/argilla/ag_news\n"
     ]
    },
    {
     "data": {
      "text/plain": "  0%|          | 0/32 [00:00<?, ?it/s]",
      "application/vnd.jupyter.widget-view+json": {
       "version_major": 2,
       "version_minor": 0,
       "model_id": "94ae56d6e19448f6b9b8fc72557e3d0d"
      }
     },
     "metadata": {},
     "output_type": "display_data"
    },
    {
     "name": "stdout",
     "output_type": "stream",
     "text": [
      "32 records logged to http://localhost:6900/datasets/argilla/ag_news\n"
     ]
    },
    {
     "data": {
      "text/plain": "  0%|          | 0/32 [00:00<?, ?it/s]",
      "application/vnd.jupyter.widget-view+json": {
       "version_major": 2,
       "version_minor": 0,
       "model_id": "51056410b50c48a4b4f089d0247484cb"
      }
     },
     "metadata": {},
     "output_type": "display_data"
    },
    {
     "name": "stdout",
     "output_type": "stream",
     "text": [
      "32 records logged to http://localhost:6900/datasets/argilla/ag_news\n"
     ]
    },
    {
     "data": {
      "text/plain": "  0%|          | 0/32 [00:00<?, ?it/s]",
      "application/vnd.jupyter.widget-view+json": {
       "version_major": 2,
       "version_minor": 0,
       "model_id": "5b8c1db2853647b7a332c9556ac79afb"
      }
     },
     "metadata": {},
     "output_type": "display_data"
    },
    {
     "name": "stdout",
     "output_type": "stream",
     "text": [
      "32 records logged to http://localhost:6900/datasets/argilla/ag_news\n"
     ]
    },
    {
     "data": {
      "text/plain": "  0%|          | 0/32 [00:00<?, ?it/s]",
      "application/vnd.jupyter.widget-view+json": {
       "version_major": 2,
       "version_minor": 0,
       "model_id": "94a2502ae0ad40b892a5421e3fd5ba6d"
      }
     },
     "metadata": {},
     "output_type": "display_data"
    },
    {
     "name": "stdout",
     "output_type": "stream",
     "text": [
      "32 records logged to http://localhost:6900/datasets/argilla/ag_news\n"
     ]
    },
    {
     "data": {
      "text/plain": "  0%|          | 0/32 [00:00<?, ?it/s]",
      "application/vnd.jupyter.widget-view+json": {
       "version_major": 2,
       "version_minor": 0,
       "model_id": "413ee57149ce4de2aa4d60b7006780ef"
      }
     },
     "metadata": {},
     "output_type": "display_data"
    },
    {
     "name": "stdout",
     "output_type": "stream",
     "text": [
      "32 records logged to http://localhost:6900/datasets/argilla/ag_news\n"
     ]
    },
    {
     "data": {
      "text/plain": "  0%|          | 0/32 [00:00<?, ?it/s]",
      "application/vnd.jupyter.widget-view+json": {
       "version_major": 2,
       "version_minor": 0,
       "model_id": "e0a3779271544b69876b0d7c85cf7e2b"
      }
     },
     "metadata": {},
     "output_type": "display_data"
    },
    {
     "name": "stdout",
     "output_type": "stream",
     "text": [
      "32 records logged to http://localhost:6900/datasets/argilla/ag_news\n"
     ]
    },
    {
     "data": {
      "text/plain": "  0%|          | 0/32 [00:00<?, ?it/s]",
      "application/vnd.jupyter.widget-view+json": {
       "version_major": 2,
       "version_minor": 0,
       "model_id": "9f8ab2468141425bb97e0ec669b1eeb5"
      }
     },
     "metadata": {},
     "output_type": "display_data"
    },
    {
     "name": "stdout",
     "output_type": "stream",
     "text": [
      "32 records logged to http://localhost:6900/datasets/argilla/ag_news\n"
     ]
    },
    {
     "data": {
      "text/plain": "  0%|          | 0/32 [00:00<?, ?it/s]",
      "application/vnd.jupyter.widget-view+json": {
       "version_major": 2,
       "version_minor": 0,
       "model_id": "c31c44d7a2fa4bc79c1336d25091acb3"
      }
     },
     "metadata": {},
     "output_type": "display_data"
    },
    {
     "name": "stdout",
     "output_type": "stream",
     "text": [
      "32 records logged to http://localhost:6900/datasets/argilla/ag_news\n"
     ]
    },
    {
     "data": {
      "text/plain": "  0%|          | 0/32 [00:00<?, ?it/s]",
      "application/vnd.jupyter.widget-view+json": {
       "version_major": 2,
       "version_minor": 0,
       "model_id": "fdc1afdc82764d7dbbeb9dfee35253e4"
      }
     },
     "metadata": {},
     "output_type": "display_data"
    },
    {
     "name": "stdout",
     "output_type": "stream",
     "text": [
      "32 records logged to http://localhost:6900/datasets/argilla/ag_news\n"
     ]
    },
    {
     "data": {
      "text/plain": "  0%|          | 0/32 [00:00<?, ?it/s]",
      "application/vnd.jupyter.widget-view+json": {
       "version_major": 2,
       "version_minor": 0,
       "model_id": "8824fcef9274429794085ba34fb85d1c"
      }
     },
     "metadata": {},
     "output_type": "display_data"
    },
    {
     "name": "stdout",
     "output_type": "stream",
     "text": [
      "32 records logged to http://localhost:6900/datasets/argilla/ag_news\n"
     ]
    },
    {
     "data": {
      "text/plain": "  0%|          | 0/32 [00:00<?, ?it/s]",
      "application/vnd.jupyter.widget-view+json": {
       "version_major": 2,
       "version_minor": 0,
       "model_id": "e79a3e1373744a38a2c55c62eb723a11"
      }
     },
     "metadata": {},
     "output_type": "display_data"
    },
    {
     "name": "stdout",
     "output_type": "stream",
     "text": [
      "32 records logged to http://localhost:6900/datasets/argilla/ag_news\n"
     ]
    },
    {
     "data": {
      "text/plain": "  0%|          | 0/32 [00:00<?, ?it/s]",
      "application/vnd.jupyter.widget-view+json": {
       "version_major": 2,
       "version_minor": 0,
       "model_id": "fe60b5afdefd44599e05c1d56b32a789"
      }
     },
     "metadata": {},
     "output_type": "display_data"
    },
    {
     "name": "stdout",
     "output_type": "stream",
     "text": [
      "32 records logged to http://localhost:6900/datasets/argilla/ag_news\n"
     ]
    },
    {
     "data": {
      "text/plain": "  0%|          | 0/32 [00:00<?, ?it/s]",
      "application/vnd.jupyter.widget-view+json": {
       "version_major": 2,
       "version_minor": 0,
       "model_id": "4cb96f8319684aa3ba73e0cdca82e710"
      }
     },
     "metadata": {},
     "output_type": "display_data"
    },
    {
     "name": "stdout",
     "output_type": "stream",
     "text": [
      "32 records logged to http://localhost:6900/datasets/argilla/ag_news\n"
     ]
    },
    {
     "data": {
      "text/plain": "  0%|          | 0/32 [00:00<?, ?it/s]",
      "application/vnd.jupyter.widget-view+json": {
       "version_major": 2,
       "version_minor": 0,
       "model_id": "d41108506f01486bbfbebbe3b5e28e6f"
      }
     },
     "metadata": {},
     "output_type": "display_data"
    },
    {
     "name": "stdout",
     "output_type": "stream",
     "text": [
      "32 records logged to http://localhost:6900/datasets/argilla/ag_news\n"
     ]
    },
    {
     "data": {
      "text/plain": "  0%|          | 0/32 [00:00<?, ?it/s]",
      "application/vnd.jupyter.widget-view+json": {
       "version_major": 2,
       "version_minor": 0,
       "model_id": "b3fbdf1fd0914cce90e746e641de3a8d"
      }
     },
     "metadata": {},
     "output_type": "display_data"
    },
    {
     "name": "stdout",
     "output_type": "stream",
     "text": [
      "32 records logged to http://localhost:6900/datasets/argilla/ag_news\n"
     ]
    },
    {
     "data": {
      "text/plain": "  0%|          | 0/32 [00:00<?, ?it/s]",
      "application/vnd.jupyter.widget-view+json": {
       "version_major": 2,
       "version_minor": 0,
       "model_id": "9281c20d708a49f88c4482e16cc7410e"
      }
     },
     "metadata": {},
     "output_type": "display_data"
    },
    {
     "name": "stdout",
     "output_type": "stream",
     "text": [
      "32 records logged to http://localhost:6900/datasets/argilla/ag_news\n"
     ]
    },
    {
     "data": {
      "text/plain": "  0%|          | 0/32 [00:00<?, ?it/s]",
      "application/vnd.jupyter.widget-view+json": {
       "version_major": 2,
       "version_minor": 0,
       "model_id": "60b0155b05624f56ac9be6d144f358d5"
      }
     },
     "metadata": {},
     "output_type": "display_data"
    },
    {
     "name": "stdout",
     "output_type": "stream",
     "text": [
      "32 records logged to http://localhost:6900/datasets/argilla/ag_news\n"
     ]
    },
    {
     "data": {
      "text/plain": "  0%|          | 0/32 [00:00<?, ?it/s]",
      "application/vnd.jupyter.widget-view+json": {
       "version_major": 2,
       "version_minor": 0,
       "model_id": "bc811db624604498a630ddf0b5ff008a"
      }
     },
     "metadata": {},
     "output_type": "display_data"
    },
    {
     "name": "stdout",
     "output_type": "stream",
     "text": [
      "32 records logged to http://localhost:6900/datasets/argilla/ag_news\n"
     ]
    },
    {
     "data": {
      "text/plain": "  0%|          | 0/32 [00:00<?, ?it/s]",
      "application/vnd.jupyter.widget-view+json": {
       "version_major": 2,
       "version_minor": 0,
       "model_id": "f33438b5be594fbb8bdb943a6c3ee893"
      }
     },
     "metadata": {},
     "output_type": "display_data"
    },
    {
     "name": "stdout",
     "output_type": "stream",
     "text": [
      "32 records logged to http://localhost:6900/datasets/argilla/ag_news\n"
     ]
    },
    {
     "data": {
      "text/plain": "  0%|          | 0/32 [00:00<?, ?it/s]",
      "application/vnd.jupyter.widget-view+json": {
       "version_major": 2,
       "version_minor": 0,
       "model_id": "6153be0fd665417ab48dc6a7dae959e8"
      }
     },
     "metadata": {},
     "output_type": "display_data"
    },
    {
     "name": "stdout",
     "output_type": "stream",
     "text": [
      "32 records logged to http://localhost:6900/datasets/argilla/ag_news\n"
     ]
    },
    {
     "data": {
      "text/plain": "  0%|          | 0/32 [00:00<?, ?it/s]",
      "application/vnd.jupyter.widget-view+json": {
       "version_major": 2,
       "version_minor": 0,
       "model_id": "b9b95ba44907499dbf2f25df4a0f87ed"
      }
     },
     "metadata": {},
     "output_type": "display_data"
    },
    {
     "name": "stdout",
     "output_type": "stream",
     "text": [
      "32 records logged to http://localhost:6900/datasets/argilla/ag_news\n"
     ]
    },
    {
     "data": {
      "text/plain": "  0%|          | 0/32 [00:00<?, ?it/s]",
      "application/vnd.jupyter.widget-view+json": {
       "version_major": 2,
       "version_minor": 0,
       "model_id": "34d7d74435f94bd99c475244b860980c"
      }
     },
     "metadata": {},
     "output_type": "display_data"
    },
    {
     "name": "stdout",
     "output_type": "stream",
     "text": [
      "32 records logged to http://localhost:6900/datasets/argilla/ag_news\n"
     ]
    },
    {
     "data": {
      "text/plain": "  0%|          | 0/32 [00:00<?, ?it/s]",
      "application/vnd.jupyter.widget-view+json": {
       "version_major": 2,
       "version_minor": 0,
       "model_id": "ea21b8ed00c242f1a55e244d0550b608"
      }
     },
     "metadata": {},
     "output_type": "display_data"
    },
    {
     "name": "stdout",
     "output_type": "stream",
     "text": [
      "32 records logged to http://localhost:6900/datasets/argilla/ag_news\n"
     ]
    },
    {
     "data": {
      "text/plain": "  0%|          | 0/32 [00:00<?, ?it/s]",
      "application/vnd.jupyter.widget-view+json": {
       "version_major": 2,
       "version_minor": 0,
       "model_id": "e6a628402e0d42d5beae82bb487b4ab0"
      }
     },
     "metadata": {},
     "output_type": "display_data"
    },
    {
     "name": "stdout",
     "output_type": "stream",
     "text": [
      "32 records logged to http://localhost:6900/datasets/argilla/ag_news\n"
     ]
    },
    {
     "data": {
      "text/plain": "  0%|          | 0/32 [00:00<?, ?it/s]",
      "application/vnd.jupyter.widget-view+json": {
       "version_major": 2,
       "version_minor": 0,
       "model_id": "d5bfd31ab45b4943b802f4e3535ba071"
      }
     },
     "metadata": {},
     "output_type": "display_data"
    },
    {
     "name": "stdout",
     "output_type": "stream",
     "text": [
      "32 records logged to http://localhost:6900/datasets/argilla/ag_news\n"
     ]
    },
    {
     "data": {
      "text/plain": "  0%|          | 0/32 [00:00<?, ?it/s]",
      "application/vnd.jupyter.widget-view+json": {
       "version_major": 2,
       "version_minor": 0,
       "model_id": "b8323431c1f24fbfa29fe7a403240a96"
      }
     },
     "metadata": {},
     "output_type": "display_data"
    },
    {
     "name": "stdout",
     "output_type": "stream",
     "text": [
      "32 records logged to http://localhost:6900/datasets/argilla/ag_news\n"
     ]
    },
    {
     "data": {
      "text/plain": "  0%|          | 0/32 [00:00<?, ?it/s]",
      "application/vnd.jupyter.widget-view+json": {
       "version_major": 2,
       "version_minor": 0,
       "model_id": "c2c2c7788586491a9deb54309e3021f0"
      }
     },
     "metadata": {},
     "output_type": "display_data"
    },
    {
     "name": "stdout",
     "output_type": "stream",
     "text": [
      "32 records logged to http://localhost:6900/datasets/argilla/ag_news\n"
     ]
    },
    {
     "data": {
      "text/plain": "  0%|          | 0/32 [00:00<?, ?it/s]",
      "application/vnd.jupyter.widget-view+json": {
       "version_major": 2,
       "version_minor": 0,
       "model_id": "2fb745d80ca746e5bc9541097c84353e"
      }
     },
     "metadata": {},
     "output_type": "display_data"
    },
    {
     "name": "stdout",
     "output_type": "stream",
     "text": [
      "32 records logged to http://localhost:6900/datasets/argilla/ag_news\n"
     ]
    },
    {
     "data": {
      "text/plain": "  0%|          | 0/32 [00:00<?, ?it/s]",
      "application/vnd.jupyter.widget-view+json": {
       "version_major": 2,
       "version_minor": 0,
       "model_id": "afee53a3652a4fbea3c8bf13a80a2d9a"
      }
     },
     "metadata": {},
     "output_type": "display_data"
    },
    {
     "name": "stdout",
     "output_type": "stream",
     "text": [
      "32 records logged to http://localhost:6900/datasets/argilla/ag_news\n"
     ]
    },
    {
     "data": {
      "text/plain": "  0%|          | 0/32 [00:00<?, ?it/s]",
      "application/vnd.jupyter.widget-view+json": {
       "version_major": 2,
       "version_minor": 0,
       "model_id": "bf9883262551410484818cef79075239"
      }
     },
     "metadata": {},
     "output_type": "display_data"
    },
    {
     "name": "stdout",
     "output_type": "stream",
     "text": [
      "32 records logged to http://localhost:6900/datasets/argilla/ag_news\n"
     ]
    },
    {
     "data": {
      "text/plain": "  0%|          | 0/32 [00:00<?, ?it/s]",
      "application/vnd.jupyter.widget-view+json": {
       "version_major": 2,
       "version_minor": 0,
       "model_id": "5155e193946045aa8959cbbeea111780"
      }
     },
     "metadata": {},
     "output_type": "display_data"
    },
    {
     "name": "stdout",
     "output_type": "stream",
     "text": [
      "32 records logged to http://localhost:6900/datasets/argilla/ag_news\n"
     ]
    },
    {
     "data": {
      "text/plain": "  0%|          | 0/32 [00:00<?, ?it/s]",
      "application/vnd.jupyter.widget-view+json": {
       "version_major": 2,
       "version_minor": 0,
       "model_id": "8d63be59c6ca4b768ca6e07010cb6215"
      }
     },
     "metadata": {},
     "output_type": "display_data"
    },
    {
     "name": "stdout",
     "output_type": "stream",
     "text": [
      "32 records logged to http://localhost:6900/datasets/argilla/ag_news\n"
     ]
    },
    {
     "data": {
      "text/plain": "  0%|          | 0/32 [00:00<?, ?it/s]",
      "application/vnd.jupyter.widget-view+json": {
       "version_major": 2,
       "version_minor": 0,
       "model_id": "f21ffa4c75b648a59fce292076a432ed"
      }
     },
     "metadata": {},
     "output_type": "display_data"
    },
    {
     "name": "stdout",
     "output_type": "stream",
     "text": [
      "32 records logged to http://localhost:6900/datasets/argilla/ag_news\n"
     ]
    },
    {
     "data": {
      "text/plain": "  0%|          | 0/32 [00:00<?, ?it/s]",
      "application/vnd.jupyter.widget-view+json": {
       "version_major": 2,
       "version_minor": 0,
       "model_id": "a6112d3c88a04736ac0d20396beac405"
      }
     },
     "metadata": {},
     "output_type": "display_data"
    },
    {
     "name": "stdout",
     "output_type": "stream",
     "text": [
      "32 records logged to http://localhost:6900/datasets/argilla/ag_news\n"
     ]
    },
    {
     "data": {
      "text/plain": "  0%|          | 0/32 [00:00<?, ?it/s]",
      "application/vnd.jupyter.widget-view+json": {
       "version_major": 2,
       "version_minor": 0,
       "model_id": "b00739a6a3204a8d9cd1c11a2993d0c1"
      }
     },
     "metadata": {},
     "output_type": "display_data"
    },
    {
     "name": "stdout",
     "output_type": "stream",
     "text": [
      "32 records logged to http://localhost:6900/datasets/argilla/ag_news\n"
     ]
    },
    {
     "data": {
      "text/plain": "  0%|          | 0/32 [00:00<?, ?it/s]",
      "application/vnd.jupyter.widget-view+json": {
       "version_major": 2,
       "version_minor": 0,
       "model_id": "b884e67f89cc4fa8928a3a9e6828b9c1"
      }
     },
     "metadata": {},
     "output_type": "display_data"
    },
    {
     "name": "stdout",
     "output_type": "stream",
     "text": [
      "32 records logged to http://localhost:6900/datasets/argilla/ag_news\n"
     ]
    },
    {
     "data": {
      "text/plain": "  0%|          | 0/32 [00:00<?, ?it/s]",
      "application/vnd.jupyter.widget-view+json": {
       "version_major": 2,
       "version_minor": 0,
       "model_id": "88fc6b84a4c2401fbead3e618bbe3aea"
      }
     },
     "metadata": {},
     "output_type": "display_data"
    },
    {
     "name": "stdout",
     "output_type": "stream",
     "text": [
      "32 records logged to http://localhost:6900/datasets/argilla/ag_news\n"
     ]
    },
    {
     "data": {
      "text/plain": "  0%|          | 0/32 [00:00<?, ?it/s]",
      "application/vnd.jupyter.widget-view+json": {
       "version_major": 2,
       "version_minor": 0,
       "model_id": "087200f5acad4d048deb94c0693de783"
      }
     },
     "metadata": {},
     "output_type": "display_data"
    },
    {
     "name": "stdout",
     "output_type": "stream",
     "text": [
      "32 records logged to http://localhost:6900/datasets/argilla/ag_news\n"
     ]
    },
    {
     "data": {
      "text/plain": "  0%|          | 0/32 [00:00<?, ?it/s]",
      "application/vnd.jupyter.widget-view+json": {
       "version_major": 2,
       "version_minor": 0,
       "model_id": "f1465eb3fb334b35a3b9dd687f51cf3b"
      }
     },
     "metadata": {},
     "output_type": "display_data"
    },
    {
     "name": "stdout",
     "output_type": "stream",
     "text": [
      "32 records logged to http://localhost:6900/datasets/argilla/ag_news\n"
     ]
    },
    {
     "data": {
      "text/plain": "  0%|          | 0/32 [00:00<?, ?it/s]",
      "application/vnd.jupyter.widget-view+json": {
       "version_major": 2,
       "version_minor": 0,
       "model_id": "22b83ffa112f40aca6729c06f2a39e50"
      }
     },
     "metadata": {},
     "output_type": "display_data"
    },
    {
     "name": "stdout",
     "output_type": "stream",
     "text": [
      "32 records logged to http://localhost:6900/datasets/argilla/ag_news\n"
     ]
    },
    {
     "data": {
      "text/plain": "  0%|          | 0/32 [00:00<?, ?it/s]",
      "application/vnd.jupyter.widget-view+json": {
       "version_major": 2,
       "version_minor": 0,
       "model_id": "7ed8665379784e28846c8911f03f1f47"
      }
     },
     "metadata": {},
     "output_type": "display_data"
    },
    {
     "name": "stdout",
     "output_type": "stream",
     "text": [
      "32 records logged to http://localhost:6900/datasets/argilla/ag_news\n"
     ]
    },
    {
     "data": {
      "text/plain": "  0%|          | 0/32 [00:00<?, ?it/s]",
      "application/vnd.jupyter.widget-view+json": {
       "version_major": 2,
       "version_minor": 0,
       "model_id": "3d04c6c85a52457fa4789ed043f34369"
      }
     },
     "metadata": {},
     "output_type": "display_data"
    },
    {
     "name": "stdout",
     "output_type": "stream",
     "text": [
      "32 records logged to http://localhost:6900/datasets/argilla/ag_news\n"
     ]
    },
    {
     "data": {
      "text/plain": "  0%|          | 0/32 [00:00<?, ?it/s]",
      "application/vnd.jupyter.widget-view+json": {
       "version_major": 2,
       "version_minor": 0,
       "model_id": "37af9098244946fcb6c71e1cd6b5f170"
      }
     },
     "metadata": {},
     "output_type": "display_data"
    },
    {
     "name": "stdout",
     "output_type": "stream",
     "text": [
      "32 records logged to http://localhost:6900/datasets/argilla/ag_news\n"
     ]
    },
    {
     "data": {
      "text/plain": "  0%|          | 0/32 [00:00<?, ?it/s]",
      "application/vnd.jupyter.widget-view+json": {
       "version_major": 2,
       "version_minor": 0,
       "model_id": "ea393bd575d0480dacfc91e8d12d9f56"
      }
     },
     "metadata": {},
     "output_type": "display_data"
    },
    {
     "name": "stdout",
     "output_type": "stream",
     "text": [
      "32 records logged to http://localhost:6900/datasets/argilla/ag_news\n"
     ]
    },
    {
     "data": {
      "text/plain": "  0%|          | 0/32 [00:00<?, ?it/s]",
      "application/vnd.jupyter.widget-view+json": {
       "version_major": 2,
       "version_minor": 0,
       "model_id": "9ab42d4985e84ca3b8b7702d62639a79"
      }
     },
     "metadata": {},
     "output_type": "display_data"
    },
    {
     "name": "stdout",
     "output_type": "stream",
     "text": [
      "32 records logged to http://localhost:6900/datasets/argilla/ag_news\n"
     ]
    },
    {
     "data": {
      "text/plain": "  0%|          | 0/32 [00:00<?, ?it/s]",
      "application/vnd.jupyter.widget-view+json": {
       "version_major": 2,
       "version_minor": 0,
       "model_id": "c587697c24e6473d963d5db5b945e70e"
      }
     },
     "metadata": {},
     "output_type": "display_data"
    },
    {
     "name": "stdout",
     "output_type": "stream",
     "text": [
      "32 records logged to http://localhost:6900/datasets/argilla/ag_news\n"
     ]
    },
    {
     "data": {
      "text/plain": "  0%|          | 0/32 [00:00<?, ?it/s]",
      "application/vnd.jupyter.widget-view+json": {
       "version_major": 2,
       "version_minor": 0,
       "model_id": "8c81e9a803824e3f81407ace4a2c031c"
      }
     },
     "metadata": {},
     "output_type": "display_data"
    },
    {
     "name": "stdout",
     "output_type": "stream",
     "text": [
      "32 records logged to http://localhost:6900/datasets/argilla/ag_news\n"
     ]
    },
    {
     "data": {
      "text/plain": "  0%|          | 0/32 [00:00<?, ?it/s]",
      "application/vnd.jupyter.widget-view+json": {
       "version_major": 2,
       "version_minor": 0,
       "model_id": "b09e7770c72a47da8b38945abc5cb069"
      }
     },
     "metadata": {},
     "output_type": "display_data"
    },
    {
     "name": "stdout",
     "output_type": "stream",
     "text": [
      "32 records logged to http://localhost:6900/datasets/argilla/ag_news\n"
     ]
    },
    {
     "data": {
      "text/plain": "  0%|          | 0/32 [00:00<?, ?it/s]",
      "application/vnd.jupyter.widget-view+json": {
       "version_major": 2,
       "version_minor": 0,
       "model_id": "f617ea12dc404644904dd537006177af"
      }
     },
     "metadata": {},
     "output_type": "display_data"
    },
    {
     "name": "stdout",
     "output_type": "stream",
     "text": [
      "32 records logged to http://localhost:6900/datasets/argilla/ag_news\n"
     ]
    },
    {
     "data": {
      "text/plain": "  0%|          | 0/32 [00:00<?, ?it/s]",
      "application/vnd.jupyter.widget-view+json": {
       "version_major": 2,
       "version_minor": 0,
       "model_id": "69f04a5415fa482d93f497ecd04ca030"
      }
     },
     "metadata": {},
     "output_type": "display_data"
    },
    {
     "name": "stdout",
     "output_type": "stream",
     "text": [
      "32 records logged to http://localhost:6900/datasets/argilla/ag_news\n"
     ]
    },
    {
     "data": {
      "text/plain": "  0%|          | 0/32 [00:00<?, ?it/s]",
      "application/vnd.jupyter.widget-view+json": {
       "version_major": 2,
       "version_minor": 0,
       "model_id": "6f0ebbad83384528b538e649e04b94d8"
      }
     },
     "metadata": {},
     "output_type": "display_data"
    },
    {
     "name": "stdout",
     "output_type": "stream",
     "text": [
      "32 records logged to http://localhost:6900/datasets/argilla/ag_news\n"
     ]
    },
    {
     "data": {
      "text/plain": "  0%|          | 0/32 [00:00<?, ?it/s]",
      "application/vnd.jupyter.widget-view+json": {
       "version_major": 2,
       "version_minor": 0,
       "model_id": "f9e6cd7c61fb49e095b392606644741e"
      }
     },
     "metadata": {},
     "output_type": "display_data"
    },
    {
     "name": "stdout",
     "output_type": "stream",
     "text": [
      "32 records logged to http://localhost:6900/datasets/argilla/ag_news\n"
     ]
    },
    {
     "data": {
      "text/plain": "  0%|          | 0/32 [00:00<?, ?it/s]",
      "application/vnd.jupyter.widget-view+json": {
       "version_major": 2,
       "version_minor": 0,
       "model_id": "c0022b0edc9d4a599e71cd9f642b7b77"
      }
     },
     "metadata": {},
     "output_type": "display_data"
    },
    {
     "name": "stdout",
     "output_type": "stream",
     "text": [
      "32 records logged to http://localhost:6900/datasets/argilla/ag_news\n"
     ]
    },
    {
     "data": {
      "text/plain": "  0%|          | 0/32 [00:00<?, ?it/s]",
      "application/vnd.jupyter.widget-view+json": {
       "version_major": 2,
       "version_minor": 0,
       "model_id": "3a5299bc8e9940138293e7bcde03499d"
      }
     },
     "metadata": {},
     "output_type": "display_data"
    },
    {
     "name": "stdout",
     "output_type": "stream",
     "text": [
      "32 records logged to http://localhost:6900/datasets/argilla/ag_news\n"
     ]
    },
    {
     "data": {
      "text/plain": "  0%|          | 0/32 [00:00<?, ?it/s]",
      "application/vnd.jupyter.widget-view+json": {
       "version_major": 2,
       "version_minor": 0,
       "model_id": "3894ae223c05415aaadff39cef17544d"
      }
     },
     "metadata": {},
     "output_type": "display_data"
    },
    {
     "name": "stdout",
     "output_type": "stream",
     "text": [
      "32 records logged to http://localhost:6900/datasets/argilla/ag_news\n"
     ]
    },
    {
     "data": {
      "text/plain": "  0%|          | 0/32 [00:00<?, ?it/s]",
      "application/vnd.jupyter.widget-view+json": {
       "version_major": 2,
       "version_minor": 0,
       "model_id": "d05da01fb6804bbc802fa60f5c790e66"
      }
     },
     "metadata": {},
     "output_type": "display_data"
    },
    {
     "name": "stdout",
     "output_type": "stream",
     "text": [
      "32 records logged to http://localhost:6900/datasets/argilla/ag_news\n"
     ]
    },
    {
     "data": {
      "text/plain": "  0%|          | 0/32 [00:00<?, ?it/s]",
      "application/vnd.jupyter.widget-view+json": {
       "version_major": 2,
       "version_minor": 0,
       "model_id": "6f5c3f172d3c4f5eb401d365f708639e"
      }
     },
     "metadata": {},
     "output_type": "display_data"
    },
    {
     "name": "stdout",
     "output_type": "stream",
     "text": [
      "32 records logged to http://localhost:6900/datasets/argilla/ag_news\n"
     ]
    },
    {
     "data": {
      "text/plain": "  0%|          | 0/32 [00:00<?, ?it/s]",
      "application/vnd.jupyter.widget-view+json": {
       "version_major": 2,
       "version_minor": 0,
       "model_id": "1ad8b298a9fe4a24a45a3547a359a482"
      }
     },
     "metadata": {},
     "output_type": "display_data"
    },
    {
     "name": "stdout",
     "output_type": "stream",
     "text": [
      "32 records logged to http://localhost:6900/datasets/argilla/ag_news\n"
     ]
    },
    {
     "data": {
      "text/plain": "  0%|          | 0/32 [00:00<?, ?it/s]",
      "application/vnd.jupyter.widget-view+json": {
       "version_major": 2,
       "version_minor": 0,
       "model_id": "f1d9dbcf421d47fb8dc8ae43efe9bb94"
      }
     },
     "metadata": {},
     "output_type": "display_data"
    },
    {
     "name": "stdout",
     "output_type": "stream",
     "text": [
      "32 records logged to http://localhost:6900/datasets/argilla/ag_news\n"
     ]
    },
    {
     "data": {
      "text/plain": "  0%|          | 0/32 [00:00<?, ?it/s]",
      "application/vnd.jupyter.widget-view+json": {
       "version_major": 2,
       "version_minor": 0,
       "model_id": "0ba9f861f5a44f79abde26da787f35c3"
      }
     },
     "metadata": {},
     "output_type": "display_data"
    },
    {
     "name": "stdout",
     "output_type": "stream",
     "text": [
      "32 records logged to http://localhost:6900/datasets/argilla/ag_news\n"
     ]
    },
    {
     "data": {
      "text/plain": "  0%|          | 0/32 [00:00<?, ?it/s]",
      "application/vnd.jupyter.widget-view+json": {
       "version_major": 2,
       "version_minor": 0,
       "model_id": "c99d03caa72f46858055e191e1598c09"
      }
     },
     "metadata": {},
     "output_type": "display_data"
    },
    {
     "name": "stdout",
     "output_type": "stream",
     "text": [
      "32 records logged to http://localhost:6900/datasets/argilla/ag_news\n"
     ]
    },
    {
     "data": {
      "text/plain": "  0%|          | 0/32 [00:00<?, ?it/s]",
      "application/vnd.jupyter.widget-view+json": {
       "version_major": 2,
       "version_minor": 0,
       "model_id": "bfee76059716436a9c695aefa8283caf"
      }
     },
     "metadata": {},
     "output_type": "display_data"
    },
    {
     "name": "stdout",
     "output_type": "stream",
     "text": [
      "32 records logged to http://localhost:6900/datasets/argilla/ag_news\n"
     ]
    },
    {
     "data": {
      "text/plain": "  0%|          | 0/32 [00:00<?, ?it/s]",
      "application/vnd.jupyter.widget-view+json": {
       "version_major": 2,
       "version_minor": 0,
       "model_id": "1d0219302f9c411887970031833fd2c9"
      }
     },
     "metadata": {},
     "output_type": "display_data"
    },
    {
     "name": "stdout",
     "output_type": "stream",
     "text": [
      "32 records logged to http://localhost:6900/datasets/argilla/ag_news\n"
     ]
    },
    {
     "data": {
      "text/plain": "  0%|          | 0/32 [00:00<?, ?it/s]",
      "application/vnd.jupyter.widget-view+json": {
       "version_major": 2,
       "version_minor": 0,
       "model_id": "8d6e8b2003204f99b3dcfc26af4a03eb"
      }
     },
     "metadata": {},
     "output_type": "display_data"
    },
    {
     "name": "stdout",
     "output_type": "stream",
     "text": [
      "32 records logged to http://localhost:6900/datasets/argilla/ag_news\n"
     ]
    },
    {
     "data": {
      "text/plain": "  0%|          | 0/32 [00:00<?, ?it/s]",
      "application/vnd.jupyter.widget-view+json": {
       "version_major": 2,
       "version_minor": 0,
       "model_id": "dc4997a183c64464b3c2a19371761e34"
      }
     },
     "metadata": {},
     "output_type": "display_data"
    },
    {
     "name": "stdout",
     "output_type": "stream",
     "text": [
      "32 records logged to http://localhost:6900/datasets/argilla/ag_news\n"
     ]
    },
    {
     "data": {
      "text/plain": "  0%|          | 0/32 [00:00<?, ?it/s]",
      "application/vnd.jupyter.widget-view+json": {
       "version_major": 2,
       "version_minor": 0,
       "model_id": "ccf8989067294512981f73e41137fa15"
      }
     },
     "metadata": {},
     "output_type": "display_data"
    },
    {
     "name": "stdout",
     "output_type": "stream",
     "text": [
      "32 records logged to http://localhost:6900/datasets/argilla/ag_news\n"
     ]
    },
    {
     "data": {
      "text/plain": "  0%|          | 0/32 [00:00<?, ?it/s]",
      "application/vnd.jupyter.widget-view+json": {
       "version_major": 2,
       "version_minor": 0,
       "model_id": "991d24edf2db4439a0d09ecae36f9274"
      }
     },
     "metadata": {},
     "output_type": "display_data"
    },
    {
     "name": "stdout",
     "output_type": "stream",
     "text": [
      "32 records logged to http://localhost:6900/datasets/argilla/ag_news\n"
     ]
    },
    {
     "data": {
      "text/plain": "  0%|          | 0/32 [00:00<?, ?it/s]",
      "application/vnd.jupyter.widget-view+json": {
       "version_major": 2,
       "version_minor": 0,
       "model_id": "ad52051ca94445a7b8e4ae823d83085d"
      }
     },
     "metadata": {},
     "output_type": "display_data"
    },
    {
     "name": "stdout",
     "output_type": "stream",
     "text": [
      "32 records logged to http://localhost:6900/datasets/argilla/ag_news\n"
     ]
    },
    {
     "data": {
      "text/plain": "  0%|          | 0/32 [00:00<?, ?it/s]",
      "application/vnd.jupyter.widget-view+json": {
       "version_major": 2,
       "version_minor": 0,
       "model_id": "390e18d9a9274e1a93d1e97742047381"
      }
     },
     "metadata": {},
     "output_type": "display_data"
    },
    {
     "name": "stdout",
     "output_type": "stream",
     "text": [
      "32 records logged to http://localhost:6900/datasets/argilla/ag_news\n"
     ]
    },
    {
     "data": {
      "text/plain": "  0%|          | 0/32 [00:00<?, ?it/s]",
      "application/vnd.jupyter.widget-view+json": {
       "version_major": 2,
       "version_minor": 0,
       "model_id": "df507f15a290452197d32a1603b1682d"
      }
     },
     "metadata": {},
     "output_type": "display_data"
    },
    {
     "name": "stdout",
     "output_type": "stream",
     "text": [
      "32 records logged to http://localhost:6900/datasets/argilla/ag_news\n"
     ]
    },
    {
     "data": {
      "text/plain": "  0%|          | 0/32 [00:00<?, ?it/s]",
      "application/vnd.jupyter.widget-view+json": {
       "version_major": 2,
       "version_minor": 0,
       "model_id": "257be60e958547c1b136442547d6cdf7"
      }
     },
     "metadata": {},
     "output_type": "display_data"
    },
    {
     "name": "stdout",
     "output_type": "stream",
     "text": [
      "32 records logged to http://localhost:6900/datasets/argilla/ag_news\n"
     ]
    },
    {
     "data": {
      "text/plain": "  0%|          | 0/32 [00:00<?, ?it/s]",
      "application/vnd.jupyter.widget-view+json": {
       "version_major": 2,
       "version_minor": 0,
       "model_id": "a8e7c1aefece415d8e49961ab954b908"
      }
     },
     "metadata": {},
     "output_type": "display_data"
    },
    {
     "name": "stdout",
     "output_type": "stream",
     "text": [
      "32 records logged to http://localhost:6900/datasets/argilla/ag_news\n"
     ]
    },
    {
     "data": {
      "text/plain": "  0%|          | 0/32 [00:00<?, ?it/s]",
      "application/vnd.jupyter.widget-view+json": {
       "version_major": 2,
       "version_minor": 0,
       "model_id": "8ae7f1b9524a44918220d5d50117b4cf"
      }
     },
     "metadata": {},
     "output_type": "display_data"
    },
    {
     "name": "stdout",
     "output_type": "stream",
     "text": [
      "32 records logged to http://localhost:6900/datasets/argilla/ag_news\n"
     ]
    },
    {
     "data": {
      "text/plain": "  0%|          | 0/32 [00:00<?, ?it/s]",
      "application/vnd.jupyter.widget-view+json": {
       "version_major": 2,
       "version_minor": 0,
       "model_id": "206da6ac898141498d8a1f595202e334"
      }
     },
     "metadata": {},
     "output_type": "display_data"
    },
    {
     "name": "stdout",
     "output_type": "stream",
     "text": [
      "32 records logged to http://localhost:6900/datasets/argilla/ag_news\n"
     ]
    },
    {
     "data": {
      "text/plain": "  0%|          | 0/32 [00:00<?, ?it/s]",
      "application/vnd.jupyter.widget-view+json": {
       "version_major": 2,
       "version_minor": 0,
       "model_id": "e9aa044999ce44218d145ae2e531792f"
      }
     },
     "metadata": {},
     "output_type": "display_data"
    },
    {
     "name": "stdout",
     "output_type": "stream",
     "text": [
      "32 records logged to http://localhost:6900/datasets/argilla/ag_news\n"
     ]
    },
    {
     "data": {
      "text/plain": "  0%|          | 0/32 [00:00<?, ?it/s]",
      "application/vnd.jupyter.widget-view+json": {
       "version_major": 2,
       "version_minor": 0,
       "model_id": "cd5e7a7e3431408d87cbb500abcadc9a"
      }
     },
     "metadata": {},
     "output_type": "display_data"
    },
    {
     "name": "stdout",
     "output_type": "stream",
     "text": [
      "32 records logged to http://localhost:6900/datasets/argilla/ag_news\n"
     ]
    },
    {
     "data": {
      "text/plain": "  0%|          | 0/32 [00:00<?, ?it/s]",
      "application/vnd.jupyter.widget-view+json": {
       "version_major": 2,
       "version_minor": 0,
       "model_id": "a5e143f55d5340a4beaab8944bcd7a36"
      }
     },
     "metadata": {},
     "output_type": "display_data"
    },
    {
     "name": "stdout",
     "output_type": "stream",
     "text": [
      "32 records logged to http://localhost:6900/datasets/argilla/ag_news\n"
     ]
    },
    {
     "data": {
      "text/plain": "  0%|          | 0/32 [00:00<?, ?it/s]",
      "application/vnd.jupyter.widget-view+json": {
       "version_major": 2,
       "version_minor": 0,
       "model_id": "0ba2eb16781f48b69e1d53c3186b7986"
      }
     },
     "metadata": {},
     "output_type": "display_data"
    },
    {
     "name": "stdout",
     "output_type": "stream",
     "text": [
      "32 records logged to http://localhost:6900/datasets/argilla/ag_news\n"
     ]
    },
    {
     "data": {
      "text/plain": "  0%|          | 0/32 [00:00<?, ?it/s]",
      "application/vnd.jupyter.widget-view+json": {
       "version_major": 2,
       "version_minor": 0,
       "model_id": "a27e5c6d80314beca6bfce8f213f421c"
      }
     },
     "metadata": {},
     "output_type": "display_data"
    },
    {
     "name": "stdout",
     "output_type": "stream",
     "text": [
      "32 records logged to http://localhost:6900/datasets/argilla/ag_news\n"
     ]
    },
    {
     "data": {
      "text/plain": "  0%|          | 0/32 [00:00<?, ?it/s]",
      "application/vnd.jupyter.widget-view+json": {
       "version_major": 2,
       "version_minor": 0,
       "model_id": "522c17ab91b24b35aff820226113275a"
      }
     },
     "metadata": {},
     "output_type": "display_data"
    },
    {
     "name": "stdout",
     "output_type": "stream",
     "text": [
      "32 records logged to http://localhost:6900/datasets/argilla/ag_news\n"
     ]
    },
    {
     "data": {
      "text/plain": "  0%|          | 0/32 [00:00<?, ?it/s]",
      "application/vnd.jupyter.widget-view+json": {
       "version_major": 2,
       "version_minor": 0,
       "model_id": "3f6982d60f954159bb932b5dd2404d9e"
      }
     },
     "metadata": {},
     "output_type": "display_data"
    },
    {
     "name": "stdout",
     "output_type": "stream",
     "text": [
      "32 records logged to http://localhost:6900/datasets/argilla/ag_news\n"
     ]
    },
    {
     "data": {
      "text/plain": "  0%|          | 0/32 [00:00<?, ?it/s]",
      "application/vnd.jupyter.widget-view+json": {
       "version_major": 2,
       "version_minor": 0,
       "model_id": "78e499dc48ba493084a5085100d521bc"
      }
     },
     "metadata": {},
     "output_type": "display_data"
    },
    {
     "name": "stdout",
     "output_type": "stream",
     "text": [
      "32 records logged to http://localhost:6900/datasets/argilla/ag_news\n"
     ]
    },
    {
     "data": {
      "text/plain": "  0%|          | 0/32 [00:00<?, ?it/s]",
      "application/vnd.jupyter.widget-view+json": {
       "version_major": 2,
       "version_minor": 0,
       "model_id": "699ba93e4b5149179f6a7838adba5c8c"
      }
     },
     "metadata": {},
     "output_type": "display_data"
    },
    {
     "name": "stdout",
     "output_type": "stream",
     "text": [
      "32 records logged to http://localhost:6900/datasets/argilla/ag_news\n"
     ]
    },
    {
     "data": {
      "text/plain": "  0%|          | 0/32 [00:00<?, ?it/s]",
      "application/vnd.jupyter.widget-view+json": {
       "version_major": 2,
       "version_minor": 0,
       "model_id": "7ad8b45e5c754d4997f7d235e299b488"
      }
     },
     "metadata": {},
     "output_type": "display_data"
    },
    {
     "name": "stdout",
     "output_type": "stream",
     "text": [
      "32 records logged to http://localhost:6900/datasets/argilla/ag_news\n"
     ]
    },
    {
     "data": {
      "text/plain": "  0%|          | 0/32 [00:00<?, ?it/s]",
      "application/vnd.jupyter.widget-view+json": {
       "version_major": 2,
       "version_minor": 0,
       "model_id": "683099f007b5490f89df4d20e4451dcf"
      }
     },
     "metadata": {},
     "output_type": "display_data"
    },
    {
     "name": "stdout",
     "output_type": "stream",
     "text": [
      "32 records logged to http://localhost:6900/datasets/argilla/ag_news\n"
     ]
    },
    {
     "data": {
      "text/plain": "  0%|          | 0/32 [00:00<?, ?it/s]",
      "application/vnd.jupyter.widget-view+json": {
       "version_major": 2,
       "version_minor": 0,
       "model_id": "e79da65d295b4a67bc0d6c7bbb9d5d8d"
      }
     },
     "metadata": {},
     "output_type": "display_data"
    },
    {
     "name": "stdout",
     "output_type": "stream",
     "text": [
      "32 records logged to http://localhost:6900/datasets/argilla/ag_news\n"
     ]
    },
    {
     "data": {
      "text/plain": "  0%|          | 0/32 [00:00<?, ?it/s]",
      "application/vnd.jupyter.widget-view+json": {
       "version_major": 2,
       "version_minor": 0,
       "model_id": "e5a3795fc0f84b92b7c3059d1fd98772"
      }
     },
     "metadata": {},
     "output_type": "display_data"
    },
    {
     "name": "stdout",
     "output_type": "stream",
     "text": [
      "32 records logged to http://localhost:6900/datasets/argilla/ag_news\n"
     ]
    },
    {
     "data": {
      "text/plain": "  0%|          | 0/32 [00:00<?, ?it/s]",
      "application/vnd.jupyter.widget-view+json": {
       "version_major": 2,
       "version_minor": 0,
       "model_id": "ca262f5a90714c1b8b3c560d4b4e9d53"
      }
     },
     "metadata": {},
     "output_type": "display_data"
    },
    {
     "name": "stdout",
     "output_type": "stream",
     "text": [
      "32 records logged to http://localhost:6900/datasets/argilla/ag_news\n"
     ]
    },
    {
     "data": {
      "text/plain": "  0%|          | 0/32 [00:00<?, ?it/s]",
      "application/vnd.jupyter.widget-view+json": {
       "version_major": 2,
       "version_minor": 0,
       "model_id": "c2c6e0b238874306a54959ef434ba3ed"
      }
     },
     "metadata": {},
     "output_type": "display_data"
    },
    {
     "name": "stdout",
     "output_type": "stream",
     "text": [
      "32 records logged to http://localhost:6900/datasets/argilla/ag_news\n"
     ]
    },
    {
     "data": {
      "text/plain": "  0%|          | 0/32 [00:00<?, ?it/s]",
      "application/vnd.jupyter.widget-view+json": {
       "version_major": 2,
       "version_minor": 0,
       "model_id": "d66f1d5430e44605ad464a09d6df0afd"
      }
     },
     "metadata": {},
     "output_type": "display_data"
    },
    {
     "name": "stdout",
     "output_type": "stream",
     "text": [
      "32 records logged to http://localhost:6900/datasets/argilla/ag_news\n"
     ]
    },
    {
     "data": {
      "text/plain": "  0%|          | 0/32 [00:00<?, ?it/s]",
      "application/vnd.jupyter.widget-view+json": {
       "version_major": 2,
       "version_minor": 0,
       "model_id": "0317681e3d10408c81b28cb4080dbfd4"
      }
     },
     "metadata": {},
     "output_type": "display_data"
    },
    {
     "name": "stdout",
     "output_type": "stream",
     "text": [
      "32 records logged to http://localhost:6900/datasets/argilla/ag_news\n"
     ]
    },
    {
     "data": {
      "text/plain": "  0%|          | 0/32 [00:00<?, ?it/s]",
      "application/vnd.jupyter.widget-view+json": {
       "version_major": 2,
       "version_minor": 0,
       "model_id": "bd15ac23d4824e33b662ae2d37a5641e"
      }
     },
     "metadata": {},
     "output_type": "display_data"
    },
    {
     "name": "stdout",
     "output_type": "stream",
     "text": [
      "32 records logged to http://localhost:6900/datasets/argilla/ag_news\n"
     ]
    },
    {
     "data": {
      "text/plain": "  0%|          | 0/32 [00:00<?, ?it/s]",
      "application/vnd.jupyter.widget-view+json": {
       "version_major": 2,
       "version_minor": 0,
       "model_id": "4b70d2e2d1864f0f89e2a0dc1a79e5f2"
      }
     },
     "metadata": {},
     "output_type": "display_data"
    },
    {
     "name": "stdout",
     "output_type": "stream",
     "text": [
      "32 records logged to http://localhost:6900/datasets/argilla/ag_news\n"
     ]
    },
    {
     "data": {
      "text/plain": "  0%|          | 0/32 [00:00<?, ?it/s]",
      "application/vnd.jupyter.widget-view+json": {
       "version_major": 2,
       "version_minor": 0,
       "model_id": "5bee4c7d9fde41fdb255c51d964b86c7"
      }
     },
     "metadata": {},
     "output_type": "display_data"
    },
    {
     "name": "stdout",
     "output_type": "stream",
     "text": [
      "32 records logged to http://localhost:6900/datasets/argilla/ag_news\n"
     ]
    },
    {
     "data": {
      "text/plain": "  0%|          | 0/32 [00:00<?, ?it/s]",
      "application/vnd.jupyter.widget-view+json": {
       "version_major": 2,
       "version_minor": 0,
       "model_id": "07804bd82d254e0f8dd9f17f690fed9d"
      }
     },
     "metadata": {},
     "output_type": "display_data"
    },
    {
     "name": "stdout",
     "output_type": "stream",
     "text": [
      "32 records logged to http://localhost:6900/datasets/argilla/ag_news\n"
     ]
    },
    {
     "data": {
      "text/plain": "  0%|          | 0/32 [00:00<?, ?it/s]",
      "application/vnd.jupyter.widget-view+json": {
       "version_major": 2,
       "version_minor": 0,
       "model_id": "faab8c0cdc43471d803bd6003f735f53"
      }
     },
     "metadata": {},
     "output_type": "display_data"
    },
    {
     "name": "stdout",
     "output_type": "stream",
     "text": [
      "32 records logged to http://localhost:6900/datasets/argilla/ag_news\n"
     ]
    },
    {
     "data": {
      "text/plain": "  0%|          | 0/32 [00:00<?, ?it/s]",
      "application/vnd.jupyter.widget-view+json": {
       "version_major": 2,
       "version_minor": 0,
       "model_id": "3b9498c2c8714688b30ee3241f503ea3"
      }
     },
     "metadata": {},
     "output_type": "display_data"
    },
    {
     "name": "stdout",
     "output_type": "stream",
     "text": [
      "32 records logged to http://localhost:6900/datasets/argilla/ag_news\n"
     ]
    },
    {
     "data": {
      "text/plain": "  0%|          | 0/32 [00:00<?, ?it/s]",
      "application/vnd.jupyter.widget-view+json": {
       "version_major": 2,
       "version_minor": 0,
       "model_id": "c1962b99f67e4c2a93536337426858be"
      }
     },
     "metadata": {},
     "output_type": "display_data"
    },
    {
     "name": "stdout",
     "output_type": "stream",
     "text": [
      "32 records logged to http://localhost:6900/datasets/argilla/ag_news\n"
     ]
    },
    {
     "data": {
      "text/plain": "  0%|          | 0/32 [00:00<?, ?it/s]",
      "application/vnd.jupyter.widget-view+json": {
       "version_major": 2,
       "version_minor": 0,
       "model_id": "94196acb3e2a4fa685e5220fd6433c39"
      }
     },
     "metadata": {},
     "output_type": "display_data"
    },
    {
     "name": "stdout",
     "output_type": "stream",
     "text": [
      "32 records logged to http://localhost:6900/datasets/argilla/ag_news\n"
     ]
    },
    {
     "data": {
      "text/plain": "  0%|          | 0/32 [00:00<?, ?it/s]",
      "application/vnd.jupyter.widget-view+json": {
       "version_major": 2,
       "version_minor": 0,
       "model_id": "1d6764c271d2477aa4811c5242304250"
      }
     },
     "metadata": {},
     "output_type": "display_data"
    },
    {
     "name": "stdout",
     "output_type": "stream",
     "text": [
      "32 records logged to http://localhost:6900/datasets/argilla/ag_news\n"
     ]
    },
    {
     "data": {
      "text/plain": "  0%|          | 0/32 [00:00<?, ?it/s]",
      "application/vnd.jupyter.widget-view+json": {
       "version_major": 2,
       "version_minor": 0,
       "model_id": "fa4aa44eaf7f4dc68f82a04c6c0101fb"
      }
     },
     "metadata": {},
     "output_type": "display_data"
    },
    {
     "name": "stdout",
     "output_type": "stream",
     "text": [
      "32 records logged to http://localhost:6900/datasets/argilla/ag_news\n"
     ]
    },
    {
     "data": {
      "text/plain": "  0%|          | 0/32 [00:00<?, ?it/s]",
      "application/vnd.jupyter.widget-view+json": {
       "version_major": 2,
       "version_minor": 0,
       "model_id": "5021db1374dc48cda69d25993c080733"
      }
     },
     "metadata": {},
     "output_type": "display_data"
    },
    {
     "name": "stdout",
     "output_type": "stream",
     "text": [
      "32 records logged to http://localhost:6900/datasets/argilla/ag_news\n"
     ]
    },
    {
     "data": {
      "text/plain": "  0%|          | 0/32 [00:00<?, ?it/s]",
      "application/vnd.jupyter.widget-view+json": {
       "version_major": 2,
       "version_minor": 0,
       "model_id": "2498653c91734ce9bca2c45d659100ce"
      }
     },
     "metadata": {},
     "output_type": "display_data"
    },
    {
     "name": "stdout",
     "output_type": "stream",
     "text": [
      "32 records logged to http://localhost:6900/datasets/argilla/ag_news\n"
     ]
    },
    {
     "data": {
      "text/plain": "  0%|          | 0/32 [00:00<?, ?it/s]",
      "application/vnd.jupyter.widget-view+json": {
       "version_major": 2,
       "version_minor": 0,
       "model_id": "b9b517959ec343c89142c6c11b9ef511"
      }
     },
     "metadata": {},
     "output_type": "display_data"
    },
    {
     "name": "stdout",
     "output_type": "stream",
     "text": [
      "32 records logged to http://localhost:6900/datasets/argilla/ag_news\n"
     ]
    },
    {
     "data": {
      "text/plain": "  0%|          | 0/32 [00:00<?, ?it/s]",
      "application/vnd.jupyter.widget-view+json": {
       "version_major": 2,
       "version_minor": 0,
       "model_id": "7918141c9b944aec9d4e460ee0a52fff"
      }
     },
     "metadata": {},
     "output_type": "display_data"
    },
    {
     "name": "stdout",
     "output_type": "stream",
     "text": [
      "32 records logged to http://localhost:6900/datasets/argilla/ag_news\n"
     ]
    },
    {
     "data": {
      "text/plain": "  0%|          | 0/32 [00:00<?, ?it/s]",
      "application/vnd.jupyter.widget-view+json": {
       "version_major": 2,
       "version_minor": 0,
       "model_id": "48c344f5c5b64bacbf463e9e2127d8f5"
      }
     },
     "metadata": {},
     "output_type": "display_data"
    },
    {
     "name": "stdout",
     "output_type": "stream",
     "text": [
      "32 records logged to http://localhost:6900/datasets/argilla/ag_news\n"
     ]
    },
    {
     "data": {
      "text/plain": "  0%|          | 0/32 [00:00<?, ?it/s]",
      "application/vnd.jupyter.widget-view+json": {
       "version_major": 2,
       "version_minor": 0,
       "model_id": "934108a4520b41a1852ca2984c90aacf"
      }
     },
     "metadata": {},
     "output_type": "display_data"
    },
    {
     "name": "stdout",
     "output_type": "stream",
     "text": [
      "32 records logged to http://localhost:6900/datasets/argilla/ag_news\n"
     ]
    },
    {
     "data": {
      "text/plain": "  0%|          | 0/32 [00:00<?, ?it/s]",
      "application/vnd.jupyter.widget-view+json": {
       "version_major": 2,
       "version_minor": 0,
       "model_id": "c5ab5f99945d484b91724ecd2e32c957"
      }
     },
     "metadata": {},
     "output_type": "display_data"
    },
    {
     "name": "stdout",
     "output_type": "stream",
     "text": [
      "32 records logged to http://localhost:6900/datasets/argilla/ag_news\n"
     ]
    },
    {
     "data": {
      "text/plain": "  0%|          | 0/32 [00:00<?, ?it/s]",
      "application/vnd.jupyter.widget-view+json": {
       "version_major": 2,
       "version_minor": 0,
       "model_id": "2ddaacc1699b4e8fa4008a483a94a745"
      }
     },
     "metadata": {},
     "output_type": "display_data"
    },
    {
     "name": "stdout",
     "output_type": "stream",
     "text": [
      "32 records logged to http://localhost:6900/datasets/argilla/ag_news\n"
     ]
    },
    {
     "data": {
      "text/plain": "  0%|          | 0/32 [00:00<?, ?it/s]",
      "application/vnd.jupyter.widget-view+json": {
       "version_major": 2,
       "version_minor": 0,
       "model_id": "17802fa9f88946998dafe6ebcf1b1c23"
      }
     },
     "metadata": {},
     "output_type": "display_data"
    },
    {
     "name": "stdout",
     "output_type": "stream",
     "text": [
      "32 records logged to http://localhost:6900/datasets/argilla/ag_news\n"
     ]
    },
    {
     "data": {
      "text/plain": "  0%|          | 0/32 [00:00<?, ?it/s]",
      "application/vnd.jupyter.widget-view+json": {
       "version_major": 2,
       "version_minor": 0,
       "model_id": "8257fecdd0ee4caa9fe5830935c46b0b"
      }
     },
     "metadata": {},
     "output_type": "display_data"
    },
    {
     "name": "stdout",
     "output_type": "stream",
     "text": [
      "32 records logged to http://localhost:6900/datasets/argilla/ag_news\n"
     ]
    },
    {
     "data": {
      "text/plain": "  0%|          | 0/32 [00:00<?, ?it/s]",
      "application/vnd.jupyter.widget-view+json": {
       "version_major": 2,
       "version_minor": 0,
       "model_id": "c976c2a342074d66923a05584f98be40"
      }
     },
     "metadata": {},
     "output_type": "display_data"
    },
    {
     "name": "stdout",
     "output_type": "stream",
     "text": [
      "32 records logged to http://localhost:6900/datasets/argilla/ag_news\n"
     ]
    },
    {
     "data": {
      "text/plain": "  0%|          | 0/32 [00:00<?, ?it/s]",
      "application/vnd.jupyter.widget-view+json": {
       "version_major": 2,
       "version_minor": 0,
       "model_id": "26a9396f3f4940c58a372063471a694d"
      }
     },
     "metadata": {},
     "output_type": "display_data"
    },
    {
     "name": "stdout",
     "output_type": "stream",
     "text": [
      "32 records logged to http://localhost:6900/datasets/argilla/ag_news\n"
     ]
    },
    {
     "data": {
      "text/plain": "  0%|          | 0/32 [00:00<?, ?it/s]",
      "application/vnd.jupyter.widget-view+json": {
       "version_major": 2,
       "version_minor": 0,
       "model_id": "f7a9cc291baf41b3981257a602646a4f"
      }
     },
     "metadata": {},
     "output_type": "display_data"
    },
    {
     "name": "stdout",
     "output_type": "stream",
     "text": [
      "32 records logged to http://localhost:6900/datasets/argilla/ag_news\n"
     ]
    },
    {
     "data": {
      "text/plain": "  0%|          | 0/32 [00:00<?, ?it/s]",
      "application/vnd.jupyter.widget-view+json": {
       "version_major": 2,
       "version_minor": 0,
       "model_id": "dbdbe8ab673b45348cea61d7fadf61e2"
      }
     },
     "metadata": {},
     "output_type": "display_data"
    },
    {
     "name": "stdout",
     "output_type": "stream",
     "text": [
      "32 records logged to http://localhost:6900/datasets/argilla/ag_news\n"
     ]
    },
    {
     "data": {
      "text/plain": "  0%|          | 0/32 [00:00<?, ?it/s]",
      "application/vnd.jupyter.widget-view+json": {
       "version_major": 2,
       "version_minor": 0,
       "model_id": "cba80be80b14473c9329641937a6dacf"
      }
     },
     "metadata": {},
     "output_type": "display_data"
    },
    {
     "name": "stdout",
     "output_type": "stream",
     "text": [
      "32 records logged to http://localhost:6900/datasets/argilla/ag_news\n"
     ]
    },
    {
     "data": {
      "text/plain": "  0%|          | 0/32 [00:00<?, ?it/s]",
      "application/vnd.jupyter.widget-view+json": {
       "version_major": 2,
       "version_minor": 0,
       "model_id": "4d57a1a3f9234cbf9dcd76ab062f86dd"
      }
     },
     "metadata": {},
     "output_type": "display_data"
    },
    {
     "name": "stdout",
     "output_type": "stream",
     "text": [
      "32 records logged to http://localhost:6900/datasets/argilla/ag_news\n"
     ]
    },
    {
     "data": {
      "text/plain": "  0%|          | 0/32 [00:00<?, ?it/s]",
      "application/vnd.jupyter.widget-view+json": {
       "version_major": 2,
       "version_minor": 0,
       "model_id": "462ca4dad15448e8a81f3d12eac03427"
      }
     },
     "metadata": {},
     "output_type": "display_data"
    },
    {
     "name": "stdout",
     "output_type": "stream",
     "text": [
      "32 records logged to http://localhost:6900/datasets/argilla/ag_news\n"
     ]
    },
    {
     "data": {
      "text/plain": "  0%|          | 0/32 [00:00<?, ?it/s]",
      "application/vnd.jupyter.widget-view+json": {
       "version_major": 2,
       "version_minor": 0,
       "model_id": "d1f6554b3f024e5987b082ca7ce9d43c"
      }
     },
     "metadata": {},
     "output_type": "display_data"
    },
    {
     "name": "stdout",
     "output_type": "stream",
     "text": [
      "32 records logged to http://localhost:6900/datasets/argilla/ag_news\n"
     ]
    },
    {
     "data": {
      "text/plain": "  0%|          | 0/32 [00:00<?, ?it/s]",
      "application/vnd.jupyter.widget-view+json": {
       "version_major": 2,
       "version_minor": 0,
       "model_id": "ce9086b0c0d84f5ba02fd0e4ef168e5b"
      }
     },
     "metadata": {},
     "output_type": "display_data"
    },
    {
     "name": "stdout",
     "output_type": "stream",
     "text": [
      "32 records logged to http://localhost:6900/datasets/argilla/ag_news\n"
     ]
    },
    {
     "data": {
      "text/plain": "  0%|          | 0/32 [00:00<?, ?it/s]",
      "application/vnd.jupyter.widget-view+json": {
       "version_major": 2,
       "version_minor": 0,
       "model_id": "21c91b4652ad4712b1c6201a0c218e1a"
      }
     },
     "metadata": {},
     "output_type": "display_data"
    },
    {
     "name": "stdout",
     "output_type": "stream",
     "text": [
      "32 records logged to http://localhost:6900/datasets/argilla/ag_news\n"
     ]
    },
    {
     "data": {
      "text/plain": "  0%|          | 0/32 [00:00<?, ?it/s]",
      "application/vnd.jupyter.widget-view+json": {
       "version_major": 2,
       "version_minor": 0,
       "model_id": "d64b9997abbf4464a9c3378313aa6be4"
      }
     },
     "metadata": {},
     "output_type": "display_data"
    },
    {
     "name": "stdout",
     "output_type": "stream",
     "text": [
      "32 records logged to http://localhost:6900/datasets/argilla/ag_news\n"
     ]
    },
    {
     "data": {
      "text/plain": "  0%|          | 0/32 [00:00<?, ?it/s]",
      "application/vnd.jupyter.widget-view+json": {
       "version_major": 2,
       "version_minor": 0,
       "model_id": "01c9155fc5cc43608e65d44d9a7f0245"
      }
     },
     "metadata": {},
     "output_type": "display_data"
    },
    {
     "name": "stdout",
     "output_type": "stream",
     "text": [
      "32 records logged to http://localhost:6900/datasets/argilla/ag_news\n"
     ]
    },
    {
     "data": {
      "text/plain": "  0%|          | 0/32 [00:00<?, ?it/s]",
      "application/vnd.jupyter.widget-view+json": {
       "version_major": 2,
       "version_minor": 0,
       "model_id": "368a7f5dbe19403eb9dfcaa305812369"
      }
     },
     "metadata": {},
     "output_type": "display_data"
    },
    {
     "name": "stdout",
     "output_type": "stream",
     "text": [
      "32 records logged to http://localhost:6900/datasets/argilla/ag_news\n"
     ]
    },
    {
     "data": {
      "text/plain": "  0%|          | 0/32 [00:00<?, ?it/s]",
      "application/vnd.jupyter.widget-view+json": {
       "version_major": 2,
       "version_minor": 0,
       "model_id": "34c46f7efd254e1287c4ee3018b346a6"
      }
     },
     "metadata": {},
     "output_type": "display_data"
    },
    {
     "name": "stdout",
     "output_type": "stream",
     "text": [
      "32 records logged to http://localhost:6900/datasets/argilla/ag_news\n"
     ]
    },
    {
     "data": {
      "text/plain": "  0%|          | 0/32 [00:00<?, ?it/s]",
      "application/vnd.jupyter.widget-view+json": {
       "version_major": 2,
       "version_minor": 0,
       "model_id": "36a20bfcd0424ac38f3b46f3bd9a5b7a"
      }
     },
     "metadata": {},
     "output_type": "display_data"
    },
    {
     "name": "stdout",
     "output_type": "stream",
     "text": [
      "32 records logged to http://localhost:6900/datasets/argilla/ag_news\n"
     ]
    },
    {
     "data": {
      "text/plain": "  0%|          | 0/32 [00:00<?, ?it/s]",
      "application/vnd.jupyter.widget-view+json": {
       "version_major": 2,
       "version_minor": 0,
       "model_id": "f8358bf6f1c14c6bb5e7d5f63f084d9a"
      }
     },
     "metadata": {},
     "output_type": "display_data"
    },
    {
     "name": "stdout",
     "output_type": "stream",
     "text": [
      "32 records logged to http://localhost:6900/datasets/argilla/ag_news\n"
     ]
    },
    {
     "data": {
      "text/plain": "  0%|          | 0/32 [00:00<?, ?it/s]",
      "application/vnd.jupyter.widget-view+json": {
       "version_major": 2,
       "version_minor": 0,
       "model_id": "db5c268bb9cb42418c189f8e8a23eedd"
      }
     },
     "metadata": {},
     "output_type": "display_data"
    },
    {
     "name": "stdout",
     "output_type": "stream",
     "text": [
      "32 records logged to http://localhost:6900/datasets/argilla/ag_news\n"
     ]
    },
    {
     "data": {
      "text/plain": "  0%|          | 0/32 [00:00<?, ?it/s]",
      "application/vnd.jupyter.widget-view+json": {
       "version_major": 2,
       "version_minor": 0,
       "model_id": "3aa3d5f16728445ebf81f585f3b88f12"
      }
     },
     "metadata": {},
     "output_type": "display_data"
    },
    {
     "name": "stdout",
     "output_type": "stream",
     "text": [
      "32 records logged to http://localhost:6900/datasets/argilla/ag_news\n"
     ]
    },
    {
     "data": {
      "text/plain": "  0%|          | 0/32 [00:00<?, ?it/s]",
      "application/vnd.jupyter.widget-view+json": {
       "version_major": 2,
       "version_minor": 0,
       "model_id": "a0acaba9840c47b1a7df3708f616f2ed"
      }
     },
     "metadata": {},
     "output_type": "display_data"
    },
    {
     "name": "stdout",
     "output_type": "stream",
     "text": [
      "32 records logged to http://localhost:6900/datasets/argilla/ag_news\n"
     ]
    },
    {
     "data": {
      "text/plain": "  0%|          | 0/32 [00:00<?, ?it/s]",
      "application/vnd.jupyter.widget-view+json": {
       "version_major": 2,
       "version_minor": 0,
       "model_id": "76189754d55b4f35b1efd7412c2f0627"
      }
     },
     "metadata": {},
     "output_type": "display_data"
    },
    {
     "name": "stdout",
     "output_type": "stream",
     "text": [
      "32 records logged to http://localhost:6900/datasets/argilla/ag_news\n"
     ]
    },
    {
     "data": {
      "text/plain": "  0%|          | 0/32 [00:00<?, ?it/s]",
      "application/vnd.jupyter.widget-view+json": {
       "version_major": 2,
       "version_minor": 0,
       "model_id": "505682eecb0046ec97d4fda7254d5cd1"
      }
     },
     "metadata": {},
     "output_type": "display_data"
    },
    {
     "name": "stdout",
     "output_type": "stream",
     "text": [
      "32 records logged to http://localhost:6900/datasets/argilla/ag_news\n"
     ]
    },
    {
     "data": {
      "text/plain": "  0%|          | 0/32 [00:00<?, ?it/s]",
      "application/vnd.jupyter.widget-view+json": {
       "version_major": 2,
       "version_minor": 0,
       "model_id": "848237b9a8184ec68be4121f74408552"
      }
     },
     "metadata": {},
     "output_type": "display_data"
    },
    {
     "name": "stdout",
     "output_type": "stream",
     "text": [
      "32 records logged to http://localhost:6900/datasets/argilla/ag_news\n"
     ]
    },
    {
     "data": {
      "text/plain": "  0%|          | 0/32 [00:00<?, ?it/s]",
      "application/vnd.jupyter.widget-view+json": {
       "version_major": 2,
       "version_minor": 0,
       "model_id": "6b0a7d409f0f4965bff920335781c061"
      }
     },
     "metadata": {},
     "output_type": "display_data"
    },
    {
     "name": "stdout",
     "output_type": "stream",
     "text": [
      "32 records logged to http://localhost:6900/datasets/argilla/ag_news\n"
     ]
    },
    {
     "data": {
      "text/plain": "  0%|          | 0/32 [00:00<?, ?it/s]",
      "application/vnd.jupyter.widget-view+json": {
       "version_major": 2,
       "version_minor": 0,
       "model_id": "86a09e4111be45a8a4d873d337d00e64"
      }
     },
     "metadata": {},
     "output_type": "display_data"
    },
    {
     "name": "stdout",
     "output_type": "stream",
     "text": [
      "32 records logged to http://localhost:6900/datasets/argilla/ag_news\n"
     ]
    },
    {
     "data": {
      "text/plain": "  0%|          | 0/32 [00:00<?, ?it/s]",
      "application/vnd.jupyter.widget-view+json": {
       "version_major": 2,
       "version_minor": 0,
       "model_id": "122a060bea324a09b9d9d6270f1e64e7"
      }
     },
     "metadata": {},
     "output_type": "display_data"
    },
    {
     "name": "stdout",
     "output_type": "stream",
     "text": [
      "32 records logged to http://localhost:6900/datasets/argilla/ag_news\n"
     ]
    },
    {
     "data": {
      "text/plain": "  0%|          | 0/32 [00:00<?, ?it/s]",
      "application/vnd.jupyter.widget-view+json": {
       "version_major": 2,
       "version_minor": 0,
       "model_id": "763bd08a51aa45018b4d8f27ec9488e0"
      }
     },
     "metadata": {},
     "output_type": "display_data"
    },
    {
     "name": "stdout",
     "output_type": "stream",
     "text": [
      "32 records logged to http://localhost:6900/datasets/argilla/ag_news\n"
     ]
    },
    {
     "data": {
      "text/plain": "  0%|          | 0/32 [00:00<?, ?it/s]",
      "application/vnd.jupyter.widget-view+json": {
       "version_major": 2,
       "version_minor": 0,
       "model_id": "30c58a6926ce46328f604767e0377b10"
      }
     },
     "metadata": {},
     "output_type": "display_data"
    },
    {
     "name": "stdout",
     "output_type": "stream",
     "text": [
      "32 records logged to http://localhost:6900/datasets/argilla/ag_news\n"
     ]
    },
    {
     "data": {
      "text/plain": "  0%|          | 0/32 [00:00<?, ?it/s]",
      "application/vnd.jupyter.widget-view+json": {
       "version_major": 2,
       "version_minor": 0,
       "model_id": "9db9362a368f43e397ee213168fa805c"
      }
     },
     "metadata": {},
     "output_type": "display_data"
    },
    {
     "name": "stdout",
     "output_type": "stream",
     "text": [
      "32 records logged to http://localhost:6900/datasets/argilla/ag_news\n"
     ]
    },
    {
     "data": {
      "text/plain": "  0%|          | 0/32 [00:00<?, ?it/s]",
      "application/vnd.jupyter.widget-view+json": {
       "version_major": 2,
       "version_minor": 0,
       "model_id": "232fdec3ed7b40fda8d8a6f2a6e967c1"
      }
     },
     "metadata": {},
     "output_type": "display_data"
    },
    {
     "name": "stdout",
     "output_type": "stream",
     "text": [
      "32 records logged to http://localhost:6900/datasets/argilla/ag_news\n"
     ]
    },
    {
     "data": {
      "text/plain": "  0%|          | 0/32 [00:00<?, ?it/s]",
      "application/vnd.jupyter.widget-view+json": {
       "version_major": 2,
       "version_minor": 0,
       "model_id": "8a6695e7a2ab474983b1d8d0da417f7b"
      }
     },
     "metadata": {},
     "output_type": "display_data"
    },
    {
     "name": "stdout",
     "output_type": "stream",
     "text": [
      "32 records logged to http://localhost:6900/datasets/argilla/ag_news\n"
     ]
    },
    {
     "data": {
      "text/plain": "  0%|          | 0/32 [00:00<?, ?it/s]",
      "application/vnd.jupyter.widget-view+json": {
       "version_major": 2,
       "version_minor": 0,
       "model_id": "fc8a704b793b44d0b02bbd14208afaa1"
      }
     },
     "metadata": {},
     "output_type": "display_data"
    },
    {
     "name": "stdout",
     "output_type": "stream",
     "text": [
      "32 records logged to http://localhost:6900/datasets/argilla/ag_news\n"
     ]
    },
    {
     "data": {
      "text/plain": "  0%|          | 0/32 [00:00<?, ?it/s]",
      "application/vnd.jupyter.widget-view+json": {
       "version_major": 2,
       "version_minor": 0,
       "model_id": "c4aff4bc1b7944c58c383456b4e0b575"
      }
     },
     "metadata": {},
     "output_type": "display_data"
    },
    {
     "name": "stdout",
     "output_type": "stream",
     "text": [
      "32 records logged to http://localhost:6900/datasets/argilla/ag_news\n"
     ]
    },
    {
     "data": {
      "text/plain": "  0%|          | 0/32 [00:00<?, ?it/s]",
      "application/vnd.jupyter.widget-view+json": {
       "version_major": 2,
       "version_minor": 0,
       "model_id": "fcefff45f2eb430f87f97ee2204089f3"
      }
     },
     "metadata": {},
     "output_type": "display_data"
    },
    {
     "name": "stdout",
     "output_type": "stream",
     "text": [
      "32 records logged to http://localhost:6900/datasets/argilla/ag_news\n"
     ]
    },
    {
     "data": {
      "text/plain": "  0%|          | 0/32 [00:00<?, ?it/s]",
      "application/vnd.jupyter.widget-view+json": {
       "version_major": 2,
       "version_minor": 0,
       "model_id": "d9123976c2ab426e92ccbffd7a3ef3b3"
      }
     },
     "metadata": {},
     "output_type": "display_data"
    },
    {
     "name": "stdout",
     "output_type": "stream",
     "text": [
      "32 records logged to http://localhost:6900/datasets/argilla/ag_news\n"
     ]
    },
    {
     "data": {
      "text/plain": "  0%|          | 0/32 [00:00<?, ?it/s]",
      "application/vnd.jupyter.widget-view+json": {
       "version_major": 2,
       "version_minor": 0,
       "model_id": "e6c4a7a664324e23a67b5e08d2e5fd1e"
      }
     },
     "metadata": {},
     "output_type": "display_data"
    },
    {
     "name": "stdout",
     "output_type": "stream",
     "text": [
      "32 records logged to http://localhost:6900/datasets/argilla/ag_news\n"
     ]
    },
    {
     "data": {
      "text/plain": "  0%|          | 0/32 [00:00<?, ?it/s]",
      "application/vnd.jupyter.widget-view+json": {
       "version_major": 2,
       "version_minor": 0,
       "model_id": "e94095186e4c4c8eb2ab26b74253ca04"
      }
     },
     "metadata": {},
     "output_type": "display_data"
    },
    {
     "name": "stdout",
     "output_type": "stream",
     "text": [
      "32 records logged to http://localhost:6900/datasets/argilla/ag_news\n"
     ]
    },
    {
     "data": {
      "text/plain": "  0%|          | 0/32 [00:00<?, ?it/s]",
      "application/vnd.jupyter.widget-view+json": {
       "version_major": 2,
       "version_minor": 0,
       "model_id": "a0748843160c4973952fbafd944e0d3a"
      }
     },
     "metadata": {},
     "output_type": "display_data"
    },
    {
     "name": "stdout",
     "output_type": "stream",
     "text": [
      "32 records logged to http://localhost:6900/datasets/argilla/ag_news\n"
     ]
    },
    {
     "data": {
      "text/plain": "  0%|          | 0/32 [00:00<?, ?it/s]",
      "application/vnd.jupyter.widget-view+json": {
       "version_major": 2,
       "version_minor": 0,
       "model_id": "d963de715345455eb5a7f500e73a1937"
      }
     },
     "metadata": {},
     "output_type": "display_data"
    },
    {
     "name": "stdout",
     "output_type": "stream",
     "text": [
      "32 records logged to http://localhost:6900/datasets/argilla/ag_news\n"
     ]
    },
    {
     "data": {
      "text/plain": "  0%|          | 0/32 [00:00<?, ?it/s]",
      "application/vnd.jupyter.widget-view+json": {
       "version_major": 2,
       "version_minor": 0,
       "model_id": "16e3551f5c7e40ad8ca6317bb812dead"
      }
     },
     "metadata": {},
     "output_type": "display_data"
    },
    {
     "name": "stdout",
     "output_type": "stream",
     "text": [
      "32 records logged to http://localhost:6900/datasets/argilla/ag_news\n"
     ]
    },
    {
     "data": {
      "text/plain": "  0%|          | 0/32 [00:00<?, ?it/s]",
      "application/vnd.jupyter.widget-view+json": {
       "version_major": 2,
       "version_minor": 0,
       "model_id": "43c1eefb458b4c44abc9252b82f360b6"
      }
     },
     "metadata": {},
     "output_type": "display_data"
    },
    {
     "name": "stdout",
     "output_type": "stream",
     "text": [
      "32 records logged to http://localhost:6900/datasets/argilla/ag_news\n"
     ]
    },
    {
     "data": {
      "text/plain": "  0%|          | 0/32 [00:00<?, ?it/s]",
      "application/vnd.jupyter.widget-view+json": {
       "version_major": 2,
       "version_minor": 0,
       "model_id": "95368bd26ccc49f9b11bfa9f3fe568dc"
      }
     },
     "metadata": {},
     "output_type": "display_data"
    },
    {
     "name": "stdout",
     "output_type": "stream",
     "text": [
      "32 records logged to http://localhost:6900/datasets/argilla/ag_news\n"
     ]
    },
    {
     "data": {
      "text/plain": "  0%|          | 0/32 [00:00<?, ?it/s]",
      "application/vnd.jupyter.widget-view+json": {
       "version_major": 2,
       "version_minor": 0,
       "model_id": "c5db141e1a064006a8d302ff41f7a4dd"
      }
     },
     "metadata": {},
     "output_type": "display_data"
    },
    {
     "name": "stdout",
     "output_type": "stream",
     "text": [
      "32 records logged to http://localhost:6900/datasets/argilla/ag_news\n"
     ]
    },
    {
     "data": {
      "text/plain": "  0%|          | 0/32 [00:00<?, ?it/s]",
      "application/vnd.jupyter.widget-view+json": {
       "version_major": 2,
       "version_minor": 0,
       "model_id": "47f387db059c42809dd65c52b3b2f56d"
      }
     },
     "metadata": {},
     "output_type": "display_data"
    },
    {
     "name": "stdout",
     "output_type": "stream",
     "text": [
      "32 records logged to http://localhost:6900/datasets/argilla/ag_news\n"
     ]
    },
    {
     "data": {
      "text/plain": "  0%|          | 0/32 [00:00<?, ?it/s]",
      "application/vnd.jupyter.widget-view+json": {
       "version_major": 2,
       "version_minor": 0,
       "model_id": "2296c271f2084b34847aceabc3191227"
      }
     },
     "metadata": {},
     "output_type": "display_data"
    },
    {
     "name": "stdout",
     "output_type": "stream",
     "text": [
      "32 records logged to http://localhost:6900/datasets/argilla/ag_news\n"
     ]
    },
    {
     "data": {
      "text/plain": "  0%|          | 0/32 [00:00<?, ?it/s]",
      "application/vnd.jupyter.widget-view+json": {
       "version_major": 2,
       "version_minor": 0,
       "model_id": "8f8d41d47dc840d2b3f7cb8c2a686ca6"
      }
     },
     "metadata": {},
     "output_type": "display_data"
    },
    {
     "name": "stdout",
     "output_type": "stream",
     "text": [
      "32 records logged to http://localhost:6900/datasets/argilla/ag_news\n"
     ]
    },
    {
     "data": {
      "text/plain": "  0%|          | 0/32 [00:00<?, ?it/s]",
      "application/vnd.jupyter.widget-view+json": {
       "version_major": 2,
       "version_minor": 0,
       "model_id": "d927838dc3a6439ca5677dc81f539cdb"
      }
     },
     "metadata": {},
     "output_type": "display_data"
    },
    {
     "name": "stdout",
     "output_type": "stream",
     "text": [
      "32 records logged to http://localhost:6900/datasets/argilla/ag_news\n"
     ]
    },
    {
     "data": {
      "text/plain": "  0%|          | 0/32 [00:00<?, ?it/s]",
      "application/vnd.jupyter.widget-view+json": {
       "version_major": 2,
       "version_minor": 0,
       "model_id": "e7cca5c140a449168f16934ec156a5cb"
      }
     },
     "metadata": {},
     "output_type": "display_data"
    },
    {
     "name": "stdout",
     "output_type": "stream",
     "text": [
      "32 records logged to http://localhost:6900/datasets/argilla/ag_news\n"
     ]
    },
    {
     "data": {
      "text/plain": "  0%|          | 0/32 [00:00<?, ?it/s]",
      "application/vnd.jupyter.widget-view+json": {
       "version_major": 2,
       "version_minor": 0,
       "model_id": "69f29ad8ae95469487bbd6526e363ea2"
      }
     },
     "metadata": {},
     "output_type": "display_data"
    },
    {
     "name": "stdout",
     "output_type": "stream",
     "text": [
      "32 records logged to http://localhost:6900/datasets/argilla/ag_news\n"
     ]
    },
    {
     "data": {
      "text/plain": "  0%|          | 0/32 [00:00<?, ?it/s]",
      "application/vnd.jupyter.widget-view+json": {
       "version_major": 2,
       "version_minor": 0,
       "model_id": "b76d2700011f4b2ab604e0104062756c"
      }
     },
     "metadata": {},
     "output_type": "display_data"
    },
    {
     "name": "stdout",
     "output_type": "stream",
     "text": [
      "32 records logged to http://localhost:6900/datasets/argilla/ag_news\n"
     ]
    },
    {
     "data": {
      "text/plain": "  0%|          | 0/32 [00:00<?, ?it/s]",
      "application/vnd.jupyter.widget-view+json": {
       "version_major": 2,
       "version_minor": 0,
       "model_id": "d2f901d5168d4025bb31da61ea90ac92"
      }
     },
     "metadata": {},
     "output_type": "display_data"
    },
    {
     "name": "stdout",
     "output_type": "stream",
     "text": [
      "32 records logged to http://localhost:6900/datasets/argilla/ag_news\n"
     ]
    },
    {
     "data": {
      "text/plain": "  0%|          | 0/32 [00:00<?, ?it/s]",
      "application/vnd.jupyter.widget-view+json": {
       "version_major": 2,
       "version_minor": 0,
       "model_id": "de97c1e4cf544cffa5e216909c22e0ef"
      }
     },
     "metadata": {},
     "output_type": "display_data"
    },
    {
     "name": "stdout",
     "output_type": "stream",
     "text": [
      "32 records logged to http://localhost:6900/datasets/argilla/ag_news\n"
     ]
    },
    {
     "data": {
      "text/plain": "  0%|          | 0/32 [00:00<?, ?it/s]",
      "application/vnd.jupyter.widget-view+json": {
       "version_major": 2,
       "version_minor": 0,
       "model_id": "9c999d10e4d04b7fb8361dfa248b961b"
      }
     },
     "metadata": {},
     "output_type": "display_data"
    },
    {
     "name": "stdout",
     "output_type": "stream",
     "text": [
      "32 records logged to http://localhost:6900/datasets/argilla/ag_news\n"
     ]
    },
    {
     "data": {
      "text/plain": "  0%|          | 0/32 [00:00<?, ?it/s]",
      "application/vnd.jupyter.widget-view+json": {
       "version_major": 2,
       "version_minor": 0,
       "model_id": "26bb2f38c53645848b50a69c206300da"
      }
     },
     "metadata": {},
     "output_type": "display_data"
    },
    {
     "name": "stdout",
     "output_type": "stream",
     "text": [
      "32 records logged to http://localhost:6900/datasets/argilla/ag_news\n"
     ]
    },
    {
     "data": {
      "text/plain": "  0%|          | 0/32 [00:00<?, ?it/s]",
      "application/vnd.jupyter.widget-view+json": {
       "version_major": 2,
       "version_minor": 0,
       "model_id": "9fcde1435aca451b80a70c2b90e00b0d"
      }
     },
     "metadata": {},
     "output_type": "display_data"
    },
    {
     "name": "stdout",
     "output_type": "stream",
     "text": [
      "32 records logged to http://localhost:6900/datasets/argilla/ag_news\n"
     ]
    },
    {
     "data": {
      "text/plain": "  0%|          | 0/32 [00:00<?, ?it/s]",
      "application/vnd.jupyter.widget-view+json": {
       "version_major": 2,
       "version_minor": 0,
       "model_id": "96389df2ac9f4cf0a1d2e9c4b0d88368"
      }
     },
     "metadata": {},
     "output_type": "display_data"
    },
    {
     "name": "stdout",
     "output_type": "stream",
     "text": [
      "32 records logged to http://localhost:6900/datasets/argilla/ag_news\n"
     ]
    },
    {
     "data": {
      "text/plain": "  0%|          | 0/32 [00:00<?, ?it/s]",
      "application/vnd.jupyter.widget-view+json": {
       "version_major": 2,
       "version_minor": 0,
       "model_id": "1186b802d22541bf90156cc5af6fb0a6"
      }
     },
     "metadata": {},
     "output_type": "display_data"
    },
    {
     "name": "stdout",
     "output_type": "stream",
     "text": [
      "32 records logged to http://localhost:6900/datasets/argilla/ag_news\n"
     ]
    },
    {
     "data": {
      "text/plain": "  0%|          | 0/32 [00:00<?, ?it/s]",
      "application/vnd.jupyter.widget-view+json": {
       "version_major": 2,
       "version_minor": 0,
       "model_id": "c25e3a61357b4673bbbb8cf6ca573805"
      }
     },
     "metadata": {},
     "output_type": "display_data"
    },
    {
     "name": "stdout",
     "output_type": "stream",
     "text": [
      "32 records logged to http://localhost:6900/datasets/argilla/ag_news\n"
     ]
    },
    {
     "data": {
      "text/plain": "  0%|          | 0/32 [00:00<?, ?it/s]",
      "application/vnd.jupyter.widget-view+json": {
       "version_major": 2,
       "version_minor": 0,
       "model_id": "aa48bb381531433dafe36695971e936b"
      }
     },
     "metadata": {},
     "output_type": "display_data"
    },
    {
     "name": "stdout",
     "output_type": "stream",
     "text": [
      "32 records logged to http://localhost:6900/datasets/argilla/ag_news\n"
     ]
    },
    {
     "data": {
      "text/plain": "  0%|          | 0/32 [00:00<?, ?it/s]",
      "application/vnd.jupyter.widget-view+json": {
       "version_major": 2,
       "version_minor": 0,
       "model_id": "868e988a175d48faa3e00d3f8cc8be13"
      }
     },
     "metadata": {},
     "output_type": "display_data"
    },
    {
     "name": "stdout",
     "output_type": "stream",
     "text": [
      "32 records logged to http://localhost:6900/datasets/argilla/ag_news\n"
     ]
    },
    {
     "data": {
      "text/plain": "  0%|          | 0/32 [00:00<?, ?it/s]",
      "application/vnd.jupyter.widget-view+json": {
       "version_major": 2,
       "version_minor": 0,
       "model_id": "fb159acb8b11402d90cdac63ed023d3f"
      }
     },
     "metadata": {},
     "output_type": "display_data"
    },
    {
     "name": "stdout",
     "output_type": "stream",
     "text": [
      "32 records logged to http://localhost:6900/datasets/argilla/ag_news\n"
     ]
    },
    {
     "data": {
      "text/plain": "  0%|          | 0/32 [00:00<?, ?it/s]",
      "application/vnd.jupyter.widget-view+json": {
       "version_major": 2,
       "version_minor": 0,
       "model_id": "c76aa221ed134bd7814ba90b7d125b98"
      }
     },
     "metadata": {},
     "output_type": "display_data"
    },
    {
     "name": "stdout",
     "output_type": "stream",
     "text": [
      "32 records logged to http://localhost:6900/datasets/argilla/ag_news\n"
     ]
    },
    {
     "data": {
      "text/plain": "  0%|          | 0/32 [00:00<?, ?it/s]",
      "application/vnd.jupyter.widget-view+json": {
       "version_major": 2,
       "version_minor": 0,
       "model_id": "a011f9e727814854b6f934ad26e1dabc"
      }
     },
     "metadata": {},
     "output_type": "display_data"
    },
    {
     "name": "stdout",
     "output_type": "stream",
     "text": [
      "32 records logged to http://localhost:6900/datasets/argilla/ag_news\n"
     ]
    },
    {
     "data": {
      "text/plain": "  0%|          | 0/32 [00:00<?, ?it/s]",
      "application/vnd.jupyter.widget-view+json": {
       "version_major": 2,
       "version_minor": 0,
       "model_id": "9c29fc2ad0b8424b96405b2545a83da5"
      }
     },
     "metadata": {},
     "output_type": "display_data"
    },
    {
     "name": "stdout",
     "output_type": "stream",
     "text": [
      "32 records logged to http://localhost:6900/datasets/argilla/ag_news\n"
     ]
    },
    {
     "data": {
      "text/plain": "  0%|          | 0/32 [00:00<?, ?it/s]",
      "application/vnd.jupyter.widget-view+json": {
       "version_major": 2,
       "version_minor": 0,
       "model_id": "fd9f4a2e3a614af68eac896ada29c7a1"
      }
     },
     "metadata": {},
     "output_type": "display_data"
    },
    {
     "name": "stdout",
     "output_type": "stream",
     "text": [
      "32 records logged to http://localhost:6900/datasets/argilla/ag_news\n"
     ]
    },
    {
     "data": {
      "text/plain": "  0%|          | 0/32 [00:00<?, ?it/s]",
      "application/vnd.jupyter.widget-view+json": {
       "version_major": 2,
       "version_minor": 0,
       "model_id": "cae9f675d7fb44be9ba79c7fa728bed3"
      }
     },
     "metadata": {},
     "output_type": "display_data"
    },
    {
     "name": "stdout",
     "output_type": "stream",
     "text": [
      "32 records logged to http://localhost:6900/datasets/argilla/ag_news\n"
     ]
    },
    {
     "data": {
      "text/plain": "  0%|          | 0/32 [00:00<?, ?it/s]",
      "application/vnd.jupyter.widget-view+json": {
       "version_major": 2,
       "version_minor": 0,
       "model_id": "e1edbbaf19ff4acfbaa3f2a9da83427c"
      }
     },
     "metadata": {},
     "output_type": "display_data"
    },
    {
     "name": "stdout",
     "output_type": "stream",
     "text": [
      "32 records logged to http://localhost:6900/datasets/argilla/ag_news\n"
     ]
    },
    {
     "data": {
      "text/plain": "  0%|          | 0/32 [00:00<?, ?it/s]",
      "application/vnd.jupyter.widget-view+json": {
       "version_major": 2,
       "version_minor": 0,
       "model_id": "0ad84d3df9364966b4c17d6fcf1546b5"
      }
     },
     "metadata": {},
     "output_type": "display_data"
    },
    {
     "name": "stdout",
     "output_type": "stream",
     "text": [
      "32 records logged to http://localhost:6900/datasets/argilla/ag_news\n"
     ]
    },
    {
     "data": {
      "text/plain": "  0%|          | 0/32 [00:00<?, ?it/s]",
      "application/vnd.jupyter.widget-view+json": {
       "version_major": 2,
       "version_minor": 0,
       "model_id": "b8f45fc9d47345cbacb69477f000780d"
      }
     },
     "metadata": {},
     "output_type": "display_data"
    },
    {
     "name": "stdout",
     "output_type": "stream",
     "text": [
      "32 records logged to http://localhost:6900/datasets/argilla/ag_news\n"
     ]
    },
    {
     "data": {
      "text/plain": "  0%|          | 0/32 [00:00<?, ?it/s]",
      "application/vnd.jupyter.widget-view+json": {
       "version_major": 2,
       "version_minor": 0,
       "model_id": "abdc359ca3d648bcbea42d3c0755b6a3"
      }
     },
     "metadata": {},
     "output_type": "display_data"
    },
    {
     "name": "stdout",
     "output_type": "stream",
     "text": [
      "32 records logged to http://localhost:6900/datasets/argilla/ag_news\n"
     ]
    },
    {
     "data": {
      "text/plain": "  0%|          | 0/32 [00:00<?, ?it/s]",
      "application/vnd.jupyter.widget-view+json": {
       "version_major": 2,
       "version_minor": 0,
       "model_id": "bccefba9517748f6a92adc952f07c0a5"
      }
     },
     "metadata": {},
     "output_type": "display_data"
    },
    {
     "name": "stdout",
     "output_type": "stream",
     "text": [
      "32 records logged to http://localhost:6900/datasets/argilla/ag_news\n"
     ]
    },
    {
     "data": {
      "text/plain": "  0%|          | 0/32 [00:00<?, ?it/s]",
      "application/vnd.jupyter.widget-view+json": {
       "version_major": 2,
       "version_minor": 0,
       "model_id": "536b0411959541c5a3986f38b5704fd6"
      }
     },
     "metadata": {},
     "output_type": "display_data"
    },
    {
     "name": "stdout",
     "output_type": "stream",
     "text": [
      "32 records logged to http://localhost:6900/datasets/argilla/ag_news\n"
     ]
    },
    {
     "data": {
      "text/plain": "  0%|          | 0/32 [00:00<?, ?it/s]",
      "application/vnd.jupyter.widget-view+json": {
       "version_major": 2,
       "version_minor": 0,
       "model_id": "a21ebfd5be8148be9c07baf6e1659e5b"
      }
     },
     "metadata": {},
     "output_type": "display_data"
    },
    {
     "name": "stdout",
     "output_type": "stream",
     "text": [
      "32 records logged to http://localhost:6900/datasets/argilla/ag_news\n"
     ]
    },
    {
     "data": {
      "text/plain": "  0%|          | 0/32 [00:00<?, ?it/s]",
      "application/vnd.jupyter.widget-view+json": {
       "version_major": 2,
       "version_minor": 0,
       "model_id": "f223f68c4be14db19c7193e43824655a"
      }
     },
     "metadata": {},
     "output_type": "display_data"
    },
    {
     "name": "stdout",
     "output_type": "stream",
     "text": [
      "32 records logged to http://localhost:6900/datasets/argilla/ag_news\n"
     ]
    },
    {
     "data": {
      "text/plain": "  0%|          | 0/32 [00:00<?, ?it/s]",
      "application/vnd.jupyter.widget-view+json": {
       "version_major": 2,
       "version_minor": 0,
       "model_id": "5d095ce7d8094b4d873a9bec6a1babe1"
      }
     },
     "metadata": {},
     "output_type": "display_data"
    },
    {
     "name": "stdout",
     "output_type": "stream",
     "text": [
      "32 records logged to http://localhost:6900/datasets/argilla/ag_news\n"
     ]
    },
    {
     "data": {
      "text/plain": "  0%|          | 0/32 [00:00<?, ?it/s]",
      "application/vnd.jupyter.widget-view+json": {
       "version_major": 2,
       "version_minor": 0,
       "model_id": "1998c0611e544377a26a447910dddaa1"
      }
     },
     "metadata": {},
     "output_type": "display_data"
    },
    {
     "name": "stdout",
     "output_type": "stream",
     "text": [
      "32 records logged to http://localhost:6900/datasets/argilla/ag_news\n"
     ]
    },
    {
     "data": {
      "text/plain": "  0%|          | 0/32 [00:00<?, ?it/s]",
      "application/vnd.jupyter.widget-view+json": {
       "version_major": 2,
       "version_minor": 0,
       "model_id": "99a0cf77996f41ea9d43dfd824fdeb72"
      }
     },
     "metadata": {},
     "output_type": "display_data"
    },
    {
     "name": "stdout",
     "output_type": "stream",
     "text": [
      "32 records logged to http://localhost:6900/datasets/argilla/ag_news\n"
     ]
    },
    {
     "data": {
      "text/plain": "  0%|          | 0/32 [00:00<?, ?it/s]",
      "application/vnd.jupyter.widget-view+json": {
       "version_major": 2,
       "version_minor": 0,
       "model_id": "c995725df5d5480db9954e1c95ffdc58"
      }
     },
     "metadata": {},
     "output_type": "display_data"
    },
    {
     "name": "stdout",
     "output_type": "stream",
     "text": [
      "32 records logged to http://localhost:6900/datasets/argilla/ag_news\n"
     ]
    },
    {
     "data": {
      "text/plain": "  0%|          | 0/32 [00:00<?, ?it/s]",
      "application/vnd.jupyter.widget-view+json": {
       "version_major": 2,
       "version_minor": 0,
       "model_id": "6f2db06ebcc841c19029f974bbcbd720"
      }
     },
     "metadata": {},
     "output_type": "display_data"
    },
    {
     "name": "stdout",
     "output_type": "stream",
     "text": [
      "32 records logged to http://localhost:6900/datasets/argilla/ag_news\n"
     ]
    },
    {
     "data": {
      "text/plain": "  0%|          | 0/32 [00:00<?, ?it/s]",
      "application/vnd.jupyter.widget-view+json": {
       "version_major": 2,
       "version_minor": 0,
       "model_id": "2c0784d9eb714be8bb161183a88b9423"
      }
     },
     "metadata": {},
     "output_type": "display_data"
    },
    {
     "name": "stdout",
     "output_type": "stream",
     "text": [
      "32 records logged to http://localhost:6900/datasets/argilla/ag_news\n"
     ]
    },
    {
     "data": {
      "text/plain": "  0%|          | 0/32 [00:00<?, ?it/s]",
      "application/vnd.jupyter.widget-view+json": {
       "version_major": 2,
       "version_minor": 0,
       "model_id": "a9079923391b4f3187d3d7094ae6665d"
      }
     },
     "metadata": {},
     "output_type": "display_data"
    },
    {
     "name": "stdout",
     "output_type": "stream",
     "text": [
      "32 records logged to http://localhost:6900/datasets/argilla/ag_news\n"
     ]
    },
    {
     "data": {
      "text/plain": "  0%|          | 0/32 [00:00<?, ?it/s]",
      "application/vnd.jupyter.widget-view+json": {
       "version_major": 2,
       "version_minor": 0,
       "model_id": "2378852b2c1241f5b0422e2e5687d5a8"
      }
     },
     "metadata": {},
     "output_type": "display_data"
    },
    {
     "name": "stdout",
     "output_type": "stream",
     "text": [
      "32 records logged to http://localhost:6900/datasets/argilla/ag_news\n"
     ]
    },
    {
     "data": {
      "text/plain": "  0%|          | 0/32 [00:00<?, ?it/s]",
      "application/vnd.jupyter.widget-view+json": {
       "version_major": 2,
       "version_minor": 0,
       "model_id": "1a7caf1504a24b54bce79c310efb3944"
      }
     },
     "metadata": {},
     "output_type": "display_data"
    },
    {
     "name": "stdout",
     "output_type": "stream",
     "text": [
      "32 records logged to http://localhost:6900/datasets/argilla/ag_news\n"
     ]
    },
    {
     "data": {
      "text/plain": "  0%|          | 0/32 [00:00<?, ?it/s]",
      "application/vnd.jupyter.widget-view+json": {
       "version_major": 2,
       "version_minor": 0,
       "model_id": "3ba718f7e12444f781043ef461338ef4"
      }
     },
     "metadata": {},
     "output_type": "display_data"
    },
    {
     "name": "stdout",
     "output_type": "stream",
     "text": [
      "32 records logged to http://localhost:6900/datasets/argilla/ag_news\n"
     ]
    },
    {
     "data": {
      "text/plain": "  0%|          | 0/32 [00:00<?, ?it/s]",
      "application/vnd.jupyter.widget-view+json": {
       "version_major": 2,
       "version_minor": 0,
       "model_id": "2ced6ffe39bb42cc82abfc748a537233"
      }
     },
     "metadata": {},
     "output_type": "display_data"
    },
    {
     "name": "stdout",
     "output_type": "stream",
     "text": [
      "32 records logged to http://localhost:6900/datasets/argilla/ag_news\n"
     ]
    },
    {
     "data": {
      "text/plain": "  0%|          | 0/32 [00:00<?, ?it/s]",
      "application/vnd.jupyter.widget-view+json": {
       "version_major": 2,
       "version_minor": 0,
       "model_id": "71e0eb9ad9304f8781cc22149450ff93"
      }
     },
     "metadata": {},
     "output_type": "display_data"
    },
    {
     "name": "stdout",
     "output_type": "stream",
     "text": [
      "32 records logged to http://localhost:6900/datasets/argilla/ag_news\n"
     ]
    },
    {
     "data": {
      "text/plain": "  0%|          | 0/32 [00:00<?, ?it/s]",
      "application/vnd.jupyter.widget-view+json": {
       "version_major": 2,
       "version_minor": 0,
       "model_id": "7ea2a66d4f514aac95b34ce7dc92a648"
      }
     },
     "metadata": {},
     "output_type": "display_data"
    },
    {
     "name": "stdout",
     "output_type": "stream",
     "text": [
      "32 records logged to http://localhost:6900/datasets/argilla/ag_news\n"
     ]
    },
    {
     "data": {
      "text/plain": "  0%|          | 0/32 [00:00<?, ?it/s]",
      "application/vnd.jupyter.widget-view+json": {
       "version_major": 2,
       "version_minor": 0,
       "model_id": "bad6807cde6a40f3aea46a4db06cce2e"
      }
     },
     "metadata": {},
     "output_type": "display_data"
    },
    {
     "name": "stdout",
     "output_type": "stream",
     "text": [
      "32 records logged to http://localhost:6900/datasets/argilla/ag_news\n"
     ]
    },
    {
     "data": {
      "text/plain": "  0%|          | 0/32 [00:00<?, ?it/s]",
      "application/vnd.jupyter.widget-view+json": {
       "version_major": 2,
       "version_minor": 0,
       "model_id": "384153fa21c2404982ac605cb3d74b91"
      }
     },
     "metadata": {},
     "output_type": "display_data"
    },
    {
     "name": "stdout",
     "output_type": "stream",
     "text": [
      "32 records logged to http://localhost:6900/datasets/argilla/ag_news\n"
     ]
    },
    {
     "data": {
      "text/plain": "  0%|          | 0/32 [00:00<?, ?it/s]",
      "application/vnd.jupyter.widget-view+json": {
       "version_major": 2,
       "version_minor": 0,
       "model_id": "5071dbd4be354666b7a94423a02795c7"
      }
     },
     "metadata": {},
     "output_type": "display_data"
    },
    {
     "name": "stdout",
     "output_type": "stream",
     "text": [
      "32 records logged to http://localhost:6900/datasets/argilla/ag_news\n"
     ]
    },
    {
     "data": {
      "text/plain": "  0%|          | 0/32 [00:00<?, ?it/s]",
      "application/vnd.jupyter.widget-view+json": {
       "version_major": 2,
       "version_minor": 0,
       "model_id": "e855e0e713434b4b86acb52e4826991c"
      }
     },
     "metadata": {},
     "output_type": "display_data"
    },
    {
     "name": "stdout",
     "output_type": "stream",
     "text": [
      "32 records logged to http://localhost:6900/datasets/argilla/ag_news\n"
     ]
    },
    {
     "data": {
      "text/plain": "  0%|          | 0/32 [00:00<?, ?it/s]",
      "application/vnd.jupyter.widget-view+json": {
       "version_major": 2,
       "version_minor": 0,
       "model_id": "e183dae7b9564cb2ae53e10632a1382a"
      }
     },
     "metadata": {},
     "output_type": "display_data"
    },
    {
     "name": "stdout",
     "output_type": "stream",
     "text": [
      "32 records logged to http://localhost:6900/datasets/argilla/ag_news\n"
     ]
    },
    {
     "data": {
      "text/plain": "  0%|          | 0/32 [00:00<?, ?it/s]",
      "application/vnd.jupyter.widget-view+json": {
       "version_major": 2,
       "version_minor": 0,
       "model_id": "a2d98faa43354b72b89813ceb20e8f74"
      }
     },
     "metadata": {},
     "output_type": "display_data"
    },
    {
     "name": "stdout",
     "output_type": "stream",
     "text": [
      "32 records logged to http://localhost:6900/datasets/argilla/ag_news\n"
     ]
    },
    {
     "data": {
      "text/plain": "  0%|          | 0/32 [00:00<?, ?it/s]",
      "application/vnd.jupyter.widget-view+json": {
       "version_major": 2,
       "version_minor": 0,
       "model_id": "0e21a04570854d129226dc33ec2f54cb"
      }
     },
     "metadata": {},
     "output_type": "display_data"
    },
    {
     "name": "stdout",
     "output_type": "stream",
     "text": [
      "32 records logged to http://localhost:6900/datasets/argilla/ag_news\n"
     ]
    },
    {
     "data": {
      "text/plain": "  0%|          | 0/32 [00:00<?, ?it/s]",
      "application/vnd.jupyter.widget-view+json": {
       "version_major": 2,
       "version_minor": 0,
       "model_id": "e163e616e57c4e21aeed931b80a37dd0"
      }
     },
     "metadata": {},
     "output_type": "display_data"
    },
    {
     "name": "stdout",
     "output_type": "stream",
     "text": [
      "32 records logged to http://localhost:6900/datasets/argilla/ag_news\n"
     ]
    },
    {
     "data": {
      "text/plain": "  0%|          | 0/32 [00:00<?, ?it/s]",
      "application/vnd.jupyter.widget-view+json": {
       "version_major": 2,
       "version_minor": 0,
       "model_id": "8a89d4d37e0b4fd7b83b311c23dafb79"
      }
     },
     "metadata": {},
     "output_type": "display_data"
    },
    {
     "name": "stdout",
     "output_type": "stream",
     "text": [
      "32 records logged to http://localhost:6900/datasets/argilla/ag_news\n"
     ]
    },
    {
     "data": {
      "text/plain": "  0%|          | 0/32 [00:00<?, ?it/s]",
      "application/vnd.jupyter.widget-view+json": {
       "version_major": 2,
       "version_minor": 0,
       "model_id": "931d306b3d2049928694c6a90167a0f9"
      }
     },
     "metadata": {},
     "output_type": "display_data"
    },
    {
     "name": "stdout",
     "output_type": "stream",
     "text": [
      "32 records logged to http://localhost:6900/datasets/argilla/ag_news\n"
     ]
    },
    {
     "data": {
      "text/plain": "  0%|          | 0/32 [00:00<?, ?it/s]",
      "application/vnd.jupyter.widget-view+json": {
       "version_major": 2,
       "version_minor": 0,
       "model_id": "0af28723dcd8421ba677faa929630155"
      }
     },
     "metadata": {},
     "output_type": "display_data"
    },
    {
     "name": "stdout",
     "output_type": "stream",
     "text": [
      "32 records logged to http://localhost:6900/datasets/argilla/ag_news\n"
     ]
    },
    {
     "data": {
      "text/plain": "  0%|          | 0/32 [00:00<?, ?it/s]",
      "application/vnd.jupyter.widget-view+json": {
       "version_major": 2,
       "version_minor": 0,
       "model_id": "39525de9b40e49fd82093cd1cb321972"
      }
     },
     "metadata": {},
     "output_type": "display_data"
    },
    {
     "name": "stdout",
     "output_type": "stream",
     "text": [
      "32 records logged to http://localhost:6900/datasets/argilla/ag_news\n"
     ]
    },
    {
     "data": {
      "text/plain": "  0%|          | 0/32 [00:00<?, ?it/s]",
      "application/vnd.jupyter.widget-view+json": {
       "version_major": 2,
       "version_minor": 0,
       "model_id": "f1b2629d44b8473d861c05b9ff80551c"
      }
     },
     "metadata": {},
     "output_type": "display_data"
    },
    {
     "name": "stdout",
     "output_type": "stream",
     "text": [
      "32 records logged to http://localhost:6900/datasets/argilla/ag_news\n"
     ]
    },
    {
     "data": {
      "text/plain": "  0%|          | 0/32 [00:00<?, ?it/s]",
      "application/vnd.jupyter.widget-view+json": {
       "version_major": 2,
       "version_minor": 0,
       "model_id": "fd1b409fe9f54cf6822bc9f085b15957"
      }
     },
     "metadata": {},
     "output_type": "display_data"
    },
    {
     "name": "stdout",
     "output_type": "stream",
     "text": [
      "32 records logged to http://localhost:6900/datasets/argilla/ag_news\n"
     ]
    },
    {
     "data": {
      "text/plain": "  0%|          | 0/32 [00:00<?, ?it/s]",
      "application/vnd.jupyter.widget-view+json": {
       "version_major": 2,
       "version_minor": 0,
       "model_id": "7e7e1793f7c542dcbc8f7b354f783f05"
      }
     },
     "metadata": {},
     "output_type": "display_data"
    },
    {
     "name": "stdout",
     "output_type": "stream",
     "text": [
      "32 records logged to http://localhost:6900/datasets/argilla/ag_news\n"
     ]
    },
    {
     "data": {
      "text/plain": "  0%|          | 0/32 [00:00<?, ?it/s]",
      "application/vnd.jupyter.widget-view+json": {
       "version_major": 2,
       "version_minor": 0,
       "model_id": "21a99c97c2d440b7a8d0dea6e9029c05"
      }
     },
     "metadata": {},
     "output_type": "display_data"
    },
    {
     "name": "stdout",
     "output_type": "stream",
     "text": [
      "32 records logged to http://localhost:6900/datasets/argilla/ag_news\n"
     ]
    },
    {
     "data": {
      "text/plain": "  0%|          | 0/32 [00:00<?, ?it/s]",
      "application/vnd.jupyter.widget-view+json": {
       "version_major": 2,
       "version_minor": 0,
       "model_id": "84505b5aeba24fe6947cdfdeb6642ae6"
      }
     },
     "metadata": {},
     "output_type": "display_data"
    },
    {
     "name": "stdout",
     "output_type": "stream",
     "text": [
      "32 records logged to http://localhost:6900/datasets/argilla/ag_news\n"
     ]
    },
    {
     "data": {
      "text/plain": "  0%|          | 0/32 [00:00<?, ?it/s]",
      "application/vnd.jupyter.widget-view+json": {
       "version_major": 2,
       "version_minor": 0,
       "model_id": "b206b19c65dc4ed2b6f1aee41e15b856"
      }
     },
     "metadata": {},
     "output_type": "display_data"
    },
    {
     "name": "stdout",
     "output_type": "stream",
     "text": [
      "32 records logged to http://localhost:6900/datasets/argilla/ag_news\n"
     ]
    },
    {
     "data": {
      "text/plain": "  0%|          | 0/32 [00:00<?, ?it/s]",
      "application/vnd.jupyter.widget-view+json": {
       "version_major": 2,
       "version_minor": 0,
       "model_id": "51decb9308f4438f941a3c570f07c8c4"
      }
     },
     "metadata": {},
     "output_type": "display_data"
    },
    {
     "name": "stdout",
     "output_type": "stream",
     "text": [
      "32 records logged to http://localhost:6900/datasets/argilla/ag_news\n"
     ]
    },
    {
     "data": {
      "text/plain": "  0%|          | 0/32 [00:00<?, ?it/s]",
      "application/vnd.jupyter.widget-view+json": {
       "version_major": 2,
       "version_minor": 0,
       "model_id": "8a0958334c204f0693785b5958d167ac"
      }
     },
     "metadata": {},
     "output_type": "display_data"
    },
    {
     "name": "stdout",
     "output_type": "stream",
     "text": [
      "32 records logged to http://localhost:6900/datasets/argilla/ag_news\n"
     ]
    },
    {
     "data": {
      "text/plain": "  0%|          | 0/32 [00:00<?, ?it/s]",
      "application/vnd.jupyter.widget-view+json": {
       "version_major": 2,
       "version_minor": 0,
       "model_id": "43e2c96d43bf48f79b45bc22e5e6bcac"
      }
     },
     "metadata": {},
     "output_type": "display_data"
    },
    {
     "name": "stdout",
     "output_type": "stream",
     "text": [
      "32 records logged to http://localhost:6900/datasets/argilla/ag_news\n"
     ]
    },
    {
     "data": {
      "text/plain": "  0%|          | 0/32 [00:00<?, ?it/s]",
      "application/vnd.jupyter.widget-view+json": {
       "version_major": 2,
       "version_minor": 0,
       "model_id": "bee3cdc4601d4de8bb4a1c0dbf03ebe7"
      }
     },
     "metadata": {},
     "output_type": "display_data"
    },
    {
     "name": "stdout",
     "output_type": "stream",
     "text": [
      "32 records logged to http://localhost:6900/datasets/argilla/ag_news\n"
     ]
    },
    {
     "data": {
      "text/plain": "  0%|          | 0/32 [00:00<?, ?it/s]",
      "application/vnd.jupyter.widget-view+json": {
       "version_major": 2,
       "version_minor": 0,
       "model_id": "d285418a0e2444ffbae8e6f8fceb96b1"
      }
     },
     "metadata": {},
     "output_type": "display_data"
    },
    {
     "name": "stdout",
     "output_type": "stream",
     "text": [
      "32 records logged to http://localhost:6900/datasets/argilla/ag_news\n"
     ]
    },
    {
     "data": {
      "text/plain": "  0%|          | 0/32 [00:00<?, ?it/s]",
      "application/vnd.jupyter.widget-view+json": {
       "version_major": 2,
       "version_minor": 0,
       "model_id": "1215e500bbe34035a99814002d217bb4"
      }
     },
     "metadata": {},
     "output_type": "display_data"
    },
    {
     "name": "stdout",
     "output_type": "stream",
     "text": [
      "32 records logged to http://localhost:6900/datasets/argilla/ag_news\n"
     ]
    },
    {
     "data": {
      "text/plain": "  0%|          | 0/32 [00:00<?, ?it/s]",
      "application/vnd.jupyter.widget-view+json": {
       "version_major": 2,
       "version_minor": 0,
       "model_id": "27f2237deec44d7c99ef6dc2d3992c6f"
      }
     },
     "metadata": {},
     "output_type": "display_data"
    },
    {
     "name": "stdout",
     "output_type": "stream",
     "text": [
      "32 records logged to http://localhost:6900/datasets/argilla/ag_news\n"
     ]
    },
    {
     "data": {
      "text/plain": "  0%|          | 0/32 [00:00<?, ?it/s]",
      "application/vnd.jupyter.widget-view+json": {
       "version_major": 2,
       "version_minor": 0,
       "model_id": "d23e7516604d482f9fac6cffc30694bb"
      }
     },
     "metadata": {},
     "output_type": "display_data"
    },
    {
     "name": "stdout",
     "output_type": "stream",
     "text": [
      "32 records logged to http://localhost:6900/datasets/argilla/ag_news\n"
     ]
    },
    {
     "data": {
      "text/plain": "  0%|          | 0/32 [00:00<?, ?it/s]",
      "application/vnd.jupyter.widget-view+json": {
       "version_major": 2,
       "version_minor": 0,
       "model_id": "02cd9efa83e143c597617ba8a1062c98"
      }
     },
     "metadata": {},
     "output_type": "display_data"
    },
    {
     "name": "stdout",
     "output_type": "stream",
     "text": [
      "32 records logged to http://localhost:6900/datasets/argilla/ag_news\n"
     ]
    },
    {
     "data": {
      "text/plain": "  0%|          | 0/32 [00:00<?, ?it/s]",
      "application/vnd.jupyter.widget-view+json": {
       "version_major": 2,
       "version_minor": 0,
       "model_id": "2843b10bc9f848fe8efd027f424104ba"
      }
     },
     "metadata": {},
     "output_type": "display_data"
    },
    {
     "name": "stdout",
     "output_type": "stream",
     "text": [
      "32 records logged to http://localhost:6900/datasets/argilla/ag_news\n"
     ]
    },
    {
     "data": {
      "text/plain": "  0%|          | 0/32 [00:00<?, ?it/s]",
      "application/vnd.jupyter.widget-view+json": {
       "version_major": 2,
       "version_minor": 0,
       "model_id": "b2f5dd05da304b7ea8414a6cee8da578"
      }
     },
     "metadata": {},
     "output_type": "display_data"
    },
    {
     "name": "stdout",
     "output_type": "stream",
     "text": [
      "32 records logged to http://localhost:6900/datasets/argilla/ag_news\n"
     ]
    },
    {
     "data": {
      "text/plain": "  0%|          | 0/16 [00:00<?, ?it/s]",
      "application/vnd.jupyter.widget-view+json": {
       "version_major": 2,
       "version_minor": 0,
       "model_id": "7beaa63eb7d14eb886e5a1fffe42702b"
      }
     },
     "metadata": {},
     "output_type": "display_data"
    },
    {
     "name": "stdout",
     "output_type": "stream",
     "text": [
      "16 records logged to http://localhost:6900/datasets/argilla/ag_news\n"
     ]
    }
   ],
   "source": [
    "for batch in record_generator(agnews_valid, \"labeled\", \"text_mpnet\"):\n",
    "    rg.log(batch, name=\"ag_news\")"
   ],
   "metadata": {
    "collapsed": false
   }
  },
  {
   "cell_type": "code",
   "execution_count": 5,
   "outputs": [],
   "source": [],
   "metadata": {
    "collapsed": false
   }
  },
  {
   "cell_type": "code",
   "execution_count": null,
   "outputs": [],
   "source": [
    "#for batch in  record_generator(agnews_train, \"unlabeled\", \"text_mpnet\"):\n",
    "#    rg.log(batch, name=\"ag_news\")"
   ],
   "metadata": {
    "collapsed": false
   }
  },
  {
   "cell_type": "code",
   "execution_count": 6,
   "outputs": [],
   "source": [
    "from argilla.client.api import active_api"
   ],
   "metadata": {
    "collapsed": false
   }
  },
  {
   "cell_type": "code",
   "execution_count": 12,
   "outputs": [],
   "source": [
    "sample_text = \"Paul cracks code to go on mission for England THE perception now is that rugby leagues best qualities have been absorbed by rugby union, considering the influence of its former adherents in the England team that \""
   ],
   "metadata": {
    "collapsed": false
   }
  },
  {
   "cell_type": "code",
   "execution_count": 13,
   "outputs": [
    {
     "data": {
      "text/plain": "'Paul cracks code to go on mission for England THE perception now is that rugby leagues best qualities have been absorbed by rugby union, considering the influence of its former adherents in the England team that '"
     },
     "execution_count": 13,
     "metadata": {},
     "output_type": "execute_result"
    }
   ],
   "source": [
    "sample_text"
   ],
   "metadata": {
    "collapsed": false
   }
  },
  {
   "cell_type": "code",
   "execution_count": 14,
   "outputs": [],
   "source": [
    "sample_text_vector = model.encode(sample_text).tolist()"
   ],
   "metadata": {
    "collapsed": false
   }
  },
  {
   "cell_type": "code",
   "execution_count": 15,
   "outputs": [
    {
     "data": {
      "text/plain": "[-0.0067513566464185715,\n 0.06267336010932922,\n 0.009897441603243351,\n -0.00932123139500618,\n -0.01397413108497858,\n 0.009124597534537315,\n -0.045831698924303055,\n -0.011029998771846294,\n -0.08706124126911163,\n 0.052582740783691406,\n 0.03114667534828186,\n 0.04554060101509094,\n 0.02177317440509796,\n 0.08003310114145279,\n 0.019163887947797775,\n 0.02410205639898777,\n 0.021517222747206688,\n -0.030832480639219284,\n -0.009124770760536194,\n -0.030771585181355476,\n 0.005469172261655331,\n -0.004240055102854967,\n -0.0058704945258796215,\n 0.0014181017177179456,\n 0.03403152525424957,\n 0.0348907932639122,\n -0.0008813533931970596,\n 0.049513597041368484,\n -0.0017750299302861094,\n 0.010088885203003883,\n -0.02578848786652088,\n -0.014869848266243935,\n -0.03779062256217003,\n -0.07343820482492447,\n 1.7019436882037553e-06,\n -0.0036214240826666355,\n 0.01906927116215229,\n -0.04085075110197067,\n 0.01039506308734417,\n 0.028512589633464813,\n -0.05225078761577606,\n 0.026689782738685608,\n -0.021253427490592003,\n 0.027086244896054268,\n -0.019628280773758888,\n 0.05244122073054314,\n 0.014823085628449917,\n -0.005819802172482014,\n -0.02249898947775364,\n 0.011544942855834961,\n 0.01286885142326355,\n 0.023918604478240013,\n -0.030971398577094078,\n -0.027623405680060387,\n 0.015096825547516346,\n -0.09445767104625702,\n 0.03817341476678848,\n -0.012299729511141777,\n -0.020277708768844604,\n 0.04784458503127098,\n -0.03520477935671806,\n -0.019555190578103065,\n 0.040464408695697784,\n 0.014366928488016129,\n -0.0677836686372757,\n 0.03976823762059212,\n -0.05269986018538475,\n 0.01267299335449934,\n -0.029551943764090538,\n -0.12241815775632858,\n -0.014412392862141132,\n -0.002346825785934925,\n -0.0307929590344429,\n -0.004228292033076286,\n -0.03343852981925011,\n -0.02765357866883278,\n 0.019024888053536415,\n -0.03075191006064415,\n -0.005696851760149002,\n -0.014245862141251564,\n -0.03980645909905434,\n 0.030907856300473213,\n 0.030305586755275726,\n -0.0036899272818118334,\n -0.03323967382311821,\n -0.014328905381262302,\n 0.02623826265335083,\n -0.022233346477150917,\n 0.01153633650392294,\n 0.04734208807349205,\n 0.015464832074940205,\n 0.010801466181874275,\n -0.007714742794632912,\n -0.019458118826150894,\n 0.059947419911623,\n -0.015731215476989746,\n -0.021100526675581932,\n 0.05122952535748482,\n -0.009662868455052376,\n 0.08521956950426102,\n -0.09819898009300232,\n 0.035802826285362244,\n 0.0563848614692688,\n -0.01796828769147396,\n -0.014092961326241493,\n -0.01900899037718773,\n -0.043179403990507126,\n 8.829026046441868e-05,\n 0.006758067291229963,\n 0.04657716304063797,\n -0.02211752161383629,\n 0.029112113639712334,\n 0.00368549139238894,\n -0.003595986869186163,\n -0.004708806984126568,\n -0.024415118619799614,\n 0.014392748475074768,\n 0.02965368516743183,\n 0.06413149833679199,\n -0.03826531022787094,\n 0.06811896711587906,\n 0.024341173470020294,\n 0.00788091216236353,\n 0.01629512757062912,\n 0.05040973797440529,\n -0.01598658412694931,\n 0.023967662826180458,\n 0.00833963230252266,\n -0.005981891881674528,\n 0.03362461179494858,\n -0.0021548636723309755,\n -0.06824305653572083,\n -0.013321641832590103,\n 0.029996873810887337,\n -0.0165120679885149,\n -0.0022636111825704575,\n -0.0005893742782063782,\n 0.03267408162355423,\n 0.020449968054890633,\n -0.0033033706713467836,\n -0.04918088763952255,\n 0.046616680920124054,\n 0.00591916311532259,\n -0.010425872169435024,\n -0.04782980680465698,\n -0.018282560631632805,\n 0.010364030487835407,\n 0.0021813232451677322,\n -0.006127487868070602,\n 0.031304992735385895,\n 0.005201365333050489,\n 0.012128650210797787,\n -0.011815207079052925,\n 0.022555125877261162,\n -0.05961449071764946,\n 0.026608368381857872,\n -0.0063029564917087555,\n -0.06533273309469223,\n -0.04027029126882553,\n -0.027855414897203445,\n -0.0024409897159785032,\n 0.02207612618803978,\n -0.019245313480496407,\n 0.029504138976335526,\n -0.023752689361572266,\n 0.07577638328075409,\n 0.06257110089063644,\n -0.05051221698522568,\n 0.09008143842220306,\n 0.008754940703511238,\n -0.006136946380138397,\n 0.005407820921391249,\n -0.01735195517539978,\n -0.0018667690455913544,\n 0.0005316830356605351,\n -0.04005561023950577,\n 0.0677524134516716,\n -0.017565427348017693,\n -0.021767690777778625,\n 0.011855804361402988,\n 0.005659144837409258,\n -0.02514059655368328,\n 0.0007900543860159814,\n -0.030976008623838425,\n 0.07104617357254028,\n 0.038695044815540314,\n 0.03079971857368946,\n 0.003561817342415452,\n -0.017101140692830086,\n 0.007867678999900818,\n 0.00208451971411705,\n 0.003281554440036416,\n 0.0940873920917511,\n 0.04776015877723694,\n -0.0013668462634086609,\n 0.013508942909538746,\n 0.020663036033511162,\n -0.009038003161549568,\n -0.0029795528389513493,\n -0.017077818512916565,\n -0.016218053176999092,\n -0.05780966579914093,\n 0.022803880274295807,\n -0.01384084951132536,\n 0.004099278710782528,\n -0.0022282882127910852,\n 0.006369857117533684,\n 0.012946654111146927,\n 0.007832045666873455,\n 0.0406501367688179,\n 0.0005877400981262326,\n 0.005241635255515575,\n 0.03419163450598717,\n 0.00835307314991951,\n -0.005156076978892088,\n 0.02308519370853901,\n -0.02587553858757019,\n 0.00020208368368912488,\n -0.009389703162014484,\n 0.0049353293143212795,\n -0.018783915787935257,\n 0.06597302109003067,\n -0.05337340384721756,\n 0.0008803694508969784,\n -0.04291392117738724,\n 0.026976320892572403,\n 0.018907103687524796,\n 0.014152996242046356,\n -0.001355279004201293,\n 0.030293652787804604,\n -0.013471267186105251,\n -0.023699836805462837,\n 0.025247005745768547,\n -0.02458617463707924,\n 0.10764008015394211,\n -0.06551076471805573,\n 0.03617548570036888,\n -0.05164984241127968,\n 0.042423807084560394,\n -0.122678741812706,\n -0.04569166898727417,\n 0.07252286374568939,\n -0.007497361395508051,\n 0.014530759304761887,\n -0.00808716006577015,\n 0.025242965668439865,\n 0.0052754986099898815,\n -0.02139490656554699,\n -0.005342117976397276,\n -0.017693540081381798,\n -0.04172134771943092,\n 0.03392353653907776,\n -0.028144262731075287,\n 0.0016741885337978601,\n -0.046738818287849426,\n 0.0052263797260820866,\n -0.02618107758462429,\n 0.01341330073773861,\n 0.11046889424324036,\n 0.01253774669021368,\n 0.01827039010822773,\n -0.029497390612959862,\n -0.023727644234895706,\n 0.04561810567975044,\n 0.060850292444229126,\n -0.029543085023760796,\n -0.024140577763319016,\n 0.022131076082587242,\n 0.027668116614222527,\n 0.010466660372912884,\n 0.008846075274050236,\n 0.012689772993326187,\n -0.010690974071621895,\n 0.0032907663844525814,\n 0.0519699901342392,\n 0.01958566904067993,\n -0.0733414739370346,\n 0.01731606014072895,\n 0.0016709438059478998,\n -0.01622999645769596,\n 0.012372114695608616,\n -0.018076520413160324,\n 0.004168325569480658,\n 0.024496451020240784,\n 0.006008184049278498,\n 0.0034266309812664986,\n -0.035495396703481674,\n 0.04834103584289551,\n -0.02403371036052704,\n 0.013102161698043346,\n -0.03758544847369194,\n -0.02695312537252903,\n 0.005572694819420576,\n -0.05355909466743469,\n 0.010147581808269024,\n -0.031024644151329994,\n -0.04977291449904442,\n -0.10443337261676788,\n -0.005134605336934328,\n -0.03789588063955307,\n 0.022841235622763634,\n -0.024737684056162834,\n 0.0260328259319067,\n 0.017687398940324783,\n -0.01460584718734026,\n -0.05452275276184082,\n -0.02864067628979683,\n -0.06179862469434738,\n 0.0022105593234300613,\n 0.004078835714608431,\n 0.002657672157511115,\n 0.026449525728821754,\n -0.04241347685456276,\n 0.041387442499399185,\n 0.009810504503548145,\n -0.059070080518722534,\n -0.009685548953711987,\n -0.055941078811883926,\n -0.035828325897455215,\n -0.002053708303719759,\n -0.019463911652565002,\n 0.0017944949213415384,\n -0.020168954506516457,\n -0.02695886790752411,\n 0.031991757452487946,\n -0.0718262791633606,\n -0.023702336475253105,\n -0.0002751628344412893,\n 0.05573718994855881,\n -0.04120296984910965,\n 0.05161040648818016,\n 0.037799086421728134,\n -0.00645404914394021,\n 0.025853434577584267,\n 0.004062822088599205,\n -0.029447507113218307,\n 0.00034614084870554507,\n 0.023059088736772537,\n -0.002120687859132886,\n 0.01623968407511711,\n -0.02058684267103672,\n 0.022554481402039528,\n 0.05364353209733963,\n -0.06346383690834045,\n -0.05673559382557869,\n 0.02187231555581093,\n 0.056012291461229324,\n 0.013754039071500301,\n 0.04704899713397026,\n -0.022239994257688522,\n 0.05056718364357948,\n -0.041153356432914734,\n 0.018871136009693146,\n -0.020509779453277588,\n 0.05192195996642113,\n -0.007911091670393944,\n -0.0937517061829567,\n 0.00888985674828291,\n 0.03072604537010193,\n -0.056991420686244965,\n -0.0567055344581604,\n -0.015064168721437454,\n -0.009076493792235851,\n 0.04121691733598709,\n 0.0095467334613204,\n 0.042135145515203476,\n -0.020760731771588326,\n -0.014879114925861359,\n 0.008235576562583447,\n 0.03633679449558258,\n 0.025395656004548073,\n -0.05158644914627075,\n -0.07369730621576309,\n 0.017608990892767906,\n 0.01753595471382141,\n -0.058681417256593704,\n 0.01177024282515049,\n 0.014528106898069382,\n 0.03401122987270355,\n -0.008291037753224373,\n 0.014107034541666508,\n 0.05152439326047897,\n -0.017617130652070045,\n -0.035081904381513596,\n -0.0028028248343616724,\n -0.009235813282430172,\n 0.008335446007549763,\n 0.010935261845588684,\n 0.06755928695201874,\n 0.0114944688975811,\n 0.01215510256588459,\n 0.006480734329670668,\n -0.031888388097286224,\n 0.06388341635465622,\n -0.010907404124736786,\n 0.08670949935913086,\n -0.015099827200174332,\n -0.0071667833253741264,\n -0.025214307010173798,\n 0.006303402595221996,\n 0.0011710807448253036,\n 0.03184790536761284,\n -0.014175230637192726,\n 0.03285016864538193,\n 0.03025962971150875,\n 0.07728753983974457,\n 0.06730736047029495,\n 0.0015567352529615164,\n -0.018832027912139893,\n -0.06376254558563232,\n 0.014802333898842335,\n 0.06789366155862808,\n 0.06171222776174545,\n 0.012889286503195763,\n -0.0009857171680778265,\n -0.004686689004302025,\n -0.02761317417025566,\n 0.02248504012823105,\n -0.015023335814476013,\n -0.038445912301540375,\n -0.024138687178492546,\n 0.0011115043889731169,\n 0.037220507860183716,\n -0.003160338383167982,\n 0.014001433737576008,\n -0.005547296721488237,\n 0.0019254616927355528,\n -0.011357313022017479,\n -0.0022967203985899687,\n 0.036722712218761444,\n 0.009076138958334923,\n -0.010187815874814987,\n -0.007487606722861528,\n 0.015905248001217842,\n 0.009550301358103752,\n -0.10216183960437775,\n 0.047929029911756516,\n 0.05825483426451683,\n 0.04344888776540756,\n 0.043142568320035934,\n -0.03349416330456734,\n 0.07868773490190506,\n 0.03859598562121391,\n -0.005508809816092253,\n 0.02323867753148079,\n -0.11889975517988205,\n -0.005551126319915056,\n -0.03681664168834686,\n -0.07637624442577362,\n -0.02007269486784935,\n 0.02379510924220085,\n 0.0165773443877697,\n 0.06894195824861526,\n 0.03212852030992508,\n -0.10032472014427185,\n 0.01693095453083515,\n -0.043950729072093964,\n 0.04184203967452049,\n -0.01668722927570343,\n 0.07262568175792694,\n 0.004954024683684111,\n 0.024999720975756645,\n 0.013104952871799469,\n 0.021664917469024658,\n -0.03256490081548691,\n -0.11067119240760803,\n -0.03147134557366371,\n 0.015306420624256134,\n 0.038303472101688385,\n 0.00406881095841527,\n 0.04387802630662918,\n -0.03624672815203667,\n -0.010918382555246353,\n -0.026414869353175163,\n 0.01027567870914936,\n 0.014934125356376171,\n -0.00983220711350441,\n -0.03684065863490105,\n 0.0487244613468647,\n 0.022034863010048866,\n -0.04210589826107025,\n 0.008755166083574295,\n 0.02715211734175682,\n -0.0056666601449251175,\n 0.025273457169532776,\n 0.022346854209899902,\n -0.004359588958323002,\n -0.008461731486022472,\n 0.011553958989679813,\n -0.02892344631254673,\n 0.027834203094244003,\n -0.0037351432256400585,\n 0.02330234833061695,\n -0.021350419148802757,\n -0.011192127130925655,\n -0.0016886221710592508,\n -0.01489599235355854,\n 0.07329270988702774,\n 0.08389551937580109,\n 0.036626122891902924,\n -0.026666928082704544,\n -0.012334399856626987,\n 0.006899171508848667,\n 0.030384739860892296,\n -0.0003870362415909767,\n -0.013153566047549248,\n 0.04273189976811409,\n 0.004020730033516884,\n 0.0009822732536122203,\n -0.04378877580165863,\n -0.029043257236480713,\n -0.03759048506617546,\n -0.06811977922916412,\n -0.059838902205228806,\n 0.03155164793133736,\n -0.07771727442741394,\n -0.013047387823462486,\n 0.030468467622995377,\n -0.0024287074338644743,\n 0.0216979943215847,\n -0.03362486511468887,\n 0.011638408526778221,\n -0.024764709174633026,\n -0.012022222392261028,\n 0.01769908517599106,\n 0.005131271667778492,\n -0.0261852890253067,\n -0.0019470241386443377,\n -0.028374701738357544,\n -0.03412299603223801,\n 0.003951334394514561,\n -0.028017913922667503,\n -0.0035359670873731375,\n -0.009703469462692738,\n 0.0074905590154230595,\n 0.0023335437290370464,\n 0.021596956998109818,\n 0.003965538460761309,\n -0.008141150698065758,\n 0.024345315992832184,\n 0.0391237735748291,\n 0.059498514980077744,\n 0.03198136016726494,\n -0.02352708764374256,\n -0.01889457367360592,\n -0.027529040351510048,\n 0.03382837027311325,\n 0.03401409462094307,\n 0.025792406871914864,\n 0.07144813984632492,\n 0.0011059364769607782,\n -0.04637117683887482,\n -0.0030366252176463604,\n 0.0009092621621675789,\n -0.010591582395136356,\n -5.873064752321808e-33,\n 0.06070574000477791,\n -0.025601567700505257,\n -0.009636659175157547,\n -0.012403457425534725,\n -0.06766870617866516,\n 0.05422171205282211,\n -0.03762601315975189,\n -0.008207139559090137,\n -0.022893721237778664,\n -0.03107784315943718,\n -0.00029894401086494327,\n -0.05118737742304802,\n 0.01494480762630701,\n 0.0037057886365801096,\n 0.06438914686441422,\n -0.04877667874097824,\n 0.02192428708076477,\n 0.07503167539834976,\n 0.03812874108552933,\n 0.02933306060731411,\n -0.02551514469087124,\n 0.05332143232226372,\n 0.03424132615327835,\n -0.008347835391759872,\n -0.030075684189796448,\n -0.034348975867033005,\n -0.04784892871975899,\n 0.020661678165197372,\n 0.044486213475465775,\n -0.029760563746094704,\n 0.015038843266665936,\n -0.05985676869750023,\n -0.02399917133152485,\n -0.02666795626282692,\n -0.021339191123843193,\n 0.051680680364370346,\n 0.022116515785455704,\n -0.04405231028795242,\n -0.008068731054663658,\n -0.04751967638731003,\n 0.0063116722740232944,\n 0.0323350690305233,\n 0.02880997397005558,\n 0.003462312975898385,\n -0.019394494593143463,\n -0.02137663960456848,\n -0.02296150103211403,\n -0.024320123717188835,\n -0.033177755773067474,\n -0.09992031753063202,\n -0.007080248091369867,\n 0.014439047314226627,\n 0.023447250947356224,\n 0.012837301008403301,\n -0.06344358623027802,\n -0.005497445352375507,\n -0.016348063945770264,\n 0.008878839202225208,\n -0.05963711813092232,\n 0.0014697310980409384,\n 0.04736696183681488,\n 5.365524339140393e-05,\n -0.007217272184789181,\n 8.602751040598378e-05,\n -0.05690023675560951,\n 0.007856089621782303,\n 0.02201416715979576,\n 0.021999983116984367,\n 0.02388092502951622,\n -0.031694941222667694,\n -0.04157032072544098,\n -0.00829783733934164,\n 0.05280591547489166,\n -0.032770901918411255,\n -0.06351704150438309,\n 0.006684315390884876,\n -0.061020512133836746,\n 0.018803000450134277,\n 0.13018274307250977,\n 0.01050708256661892,\n -0.0021226981189101934,\n 0.02151690609753132,\n -0.07410955429077148,\n 0.0068241022527217865,\n -0.03787727281451225,\n 0.01584605500102043,\n 0.019955860450863838,\n -0.07787314057350159,\n 0.02493412233889103,\n -0.01341550424695015,\n -0.03952465578913689,\n 0.03313879668712616,\n 0.04064856469631195,\n 0.027503959834575653,\n -0.0016768684145063162,\n -0.04360746592283249,\n -0.011393043212592602,\n 0.04261381924152374,\n -0.021775025874376297,\n -0.05248158052563667,\n -0.03433762490749359,\n 0.034313369542360306,\n 0.013108315877616405,\n -0.030150815844535828,\n 0.0140871936455369,\n -0.048227451741695404,\n -0.04342561587691307,\n 0.028388570994138718,\n -0.07727780938148499,\n 0.0024476447142660618,\n -0.014653507620096207,\n 0.033869095146656036,\n -0.01438869908452034,\n -0.028496449813246727,\n 0.0014902210095897317,\n -0.0015687677077949047,\n 0.0008304993971250951,\n -0.07031112164258957,\n 0.012334645725786686,\n -0.0496487133204937,\n 0.02004982717335224,\n 0.10026626288890839,\n 0.021113688126206398,\n 0.022336920723319054,\n 0.0028302264399826527,\n -0.005170626565814018,\n -0.01929207146167755,\n 0.0761406421661377,\n 0.03817768394947052,\n -0.00922385323792696,\n -0.01677759364247322,\n 0.06949911266565323,\n 2.510133469968423e-07,\n 0.03672903776168823,\n -0.00540552195161581,\n -0.015617639757692814,\n -0.05915413424372673,\n 0.00028430845122784376,\n 0.01865915022790432,\n -0.01076366938650608,\n 0.04976452887058258,\n 0.035774100571870804,\n 0.004883551504462957,\n 0.02164415828883648,\n -0.023778200149536133,\n -0.0037309012841433287,\n 0.010954505763947964,\n 0.01109155360609293,\n -0.004599626176059246,\n -0.0032978409435600042,\n -0.06113043799996376,\n -0.013910859823226929,\n -0.0366663932800293,\n 0.030843518674373627,\n 0.018637387081980705,\n -0.026827994734048843,\n -0.02638097107410431,\n 0.018523674458265305,\n 0.004786858335137367,\n -0.03397590294480324,\n 0.019648080691695213,\n -0.03703818470239639,\n -0.034199703484773636,\n -0.13115300238132477,\n 0.013239610008895397,\n -0.011696601286530495,\n -0.004653342068195343,\n 0.010142536833882332,\n 0.02514559030532837,\n -0.020442575216293335,\n -0.05815805494785309,\n -0.003127973061054945,\n 0.04051272198557854,\n -0.00833134911954403,\n -0.02047717012465,\n 0.023185983300209045,\n 0.07405002415180206,\n -0.01752111315727234,\n 0.007795403245836496,\n 0.009167324751615524,\n 0.015148977749049664,\n -0.05173984542489052,\n -0.0011629740474745631,\n 0.03422163054347038,\n 0.023706402629613876,\n 0.002012368757277727,\n 0.0017411407316103578,\n -0.0022235719952732325,\n 0.04352288693189621,\n -0.03579854592680931,\n -0.012333209626376629,\n 0.005014035385102034,\n -0.021006092429161072,\n -0.03979511186480522,\n 0.0698474794626236,\n 0.005728201009333134,\n 0.03764490783214569,\n -0.0027511250227689743,\n -0.0927693322300911,\n -0.0016105520771816373,\n 1.7823892271823724e-34,\n 0.03631540387868881,\n -0.03769039735198021,\n -0.002273732330650091,\n 0.05998581275343895,\n -0.034132782369852066,\n 0.014586902223527431,\n 0.04089496657252312,\n -0.0010290726786479354,\n 0.03133329004049301,\n 0.003924067132174969,\n -0.017413603141903877]"
     },
     "execution_count": 15,
     "metadata": {},
     "output_type": "execute_result"
    }
   ],
   "source": [
    "sample_text_vector"
   ],
   "metadata": {
    "collapsed": false
   }
  },
  {
   "cell_type": "code",
   "execution_count": 17,
   "outputs": [],
   "source": [
    "response = active_api().client.post"
   ],
   "metadata": {
    "collapsed": false
   }
  },
  {
   "cell_type": "code",
   "execution_count": 26,
   "outputs": [],
   "source": [
    "a = rg.load(\"ag_news\")"
   ],
   "metadata": {
    "collapsed": false
   }
  },
  {
   "cell_type": "code",
   "execution_count": 29,
   "outputs": [
    {
     "data": {
      "text/plain": "TextClassificationRecord(text='Pedersen levels Gunners at last Arsenal #39;s bogey team got up their noses once again. Bolton Wanderers, and their manager Sam Allardyce, halted the champions #39; steamroller start to the season with a performance, which, as usual, showed scant regard for starry reputations.', inputs={'text': 'Pedersen levels Gunners at last Arsenal #39;s bogey team got up their noses once again. Bolton Wanderers, and their manager Sam Allardyce, halted the champions #39; steamroller start to the season with a performance, which, as usual, showed scant regard for starry reputations.'}, prediction=None, prediction_agent=None, annotation=None, annotation_agent=None, embeddings=None, multi_label=False, explanation=None, id='train_1899', metadata={'split': 'labeled'}, status='Default', event_timestamp=datetime.datetime(2022, 12, 2, 12, 25, 4, 871429), metrics={'text_length': 277}, search_keywords=None)"
     },
     "execution_count": 29,
     "metadata": {},
     "output_type": "execute_result"
    }
   ],
   "source": [
    "a[1000]"
   ],
   "metadata": {
    "collapsed": false
   }
  },
  {
   "cell_type": "code",
   "execution_count": null,
   "outputs": [],
   "source": [],
   "metadata": {
    "collapsed": false,
    "pycharm": {
     "is_executing": true
    }
   }
  },
  {
   "cell_type": "code",
   "execution_count": 30,
   "outputs": [],
   "source": [
    "record = rg.TextClassificationRecord(\n",
    "            text=sample_text,\n",
    "            embeddings = {\n",
    "                \"vector_mpnet\": {\n",
    "                    \"vector\": sample_text_vector\n",
    "                }\n",
    "            },\n",
    "            metadata={\"split\": \"labeled\"},\n",
    "            id=f\"train_{0}\",\n",
    "        )"
   ],
   "metadata": {
    "collapsed": false
   }
  },
  {
   "cell_type": "code",
   "execution_count": 31,
   "outputs": [
    {
     "data": {
      "text/plain": "TextClassificationRecord(text='Paul cracks code to go on mission for England THE perception now is that rugby leagues best qualities have been absorbed by rugby union, considering the influence of its former adherents in the England team that ', inputs={'text': 'Paul cracks code to go on mission for England THE perception now is that rugby leagues best qualities have been absorbed by rugby union, considering the influence of its former adherents in the England team that '}, prediction=None, prediction_agent=None, annotation=None, annotation_agent=None, embeddings={'vector_mpnet': {'vector': ['-0.0067513566464185715', '0.06267336010932922', '0.009897441603243351', '-0.00932123139500618', '-0.01397413108497858', '0.009124597534537315', '-0.045831698924303055', '-0.011029998771846294', '-0.08706124126911163', '0.052582740783691406', '0.03114667534828186', '0.04554060101509094', '0.02177317440509796', '0.08003310114145279', '0.019163887947797775', '0.02410205639898777', '0.021517222747206688', '-0.030832480639219284', '-0.009124770760536194', '-0.030771585181355476', '0.005469172261655331', '-0.004240055102854967', '-0.0058704945258796215', '0.0014181017177179456', '0.03403152525424957', '0.0348907932639122', '-0.0008813533931970596', '0.049513597041368484', '-0.0017750299302861094', '0.010088885203003883', '-0.02578848786652088', '-0.014869848266243935', '-0.03779062256217003', '-0.07343820482492447', '1.7019436882037553e-06', '-0.0036214240826666355', '0.01906927116215229', '-0.04085075110197067', '0.01039506308734417', '0.028512589633464813', '-0.05225078761577606', '0.026689782738685608', '-0.021253427490592003', '0.027086244896054268', '-0.019628280773758888', '0.05244122073054314', '0.014823085628449917', '-0.005819802172482014', '-0.02249898947775364', '0.011544942855834961', '0.01286885142326355', '0.023918604478240013', '-0.030971398577094078', '-0.027623405680060387', '0.015096825547516346', '-0.09445767104625702', '0.03817341476678848', '-0.012299729511141777', '-0.020277708768844604', '0.04784458503127098', '-0.03520477935671806', '-0.019555190578103065', '0.040464408695697784', '0.014366928488016129', '-0.0677836686372757', '0.03976823762059212', '-0.05269986018538475', '0.01267299335449934', '-0.029551943764090538', '-0.12241815775632858', '-0.014412392862141132', '-0.002346825785934925', '-0.0307929590344429', '-0.004228292033076286', '-0.03343852981925011', '-0.02765357866883278', '0.019024888053536415', '-0.03075191006064415', '-0.005696851760149002', '-0.014245862141251564', '-0.03980645909905434', '0.030907856300473213', '0.030305586755275726', '-0.0036899272818118334', '-0.03323967382311821', '-0.014328905381262302', '0.02623826265335083', '-0.022233346477150917', '0.01153633650392294', '0.04734208807349205', '0.015464832074940205', '0.010801466181874275', '-0.007714742794632912', '-0.019458118826150894', '0.059947419911623', '-0.015731215476989746', '-0.021100526675581932', '0.05122952535748482', '-0.009662868455052376', '0.08521956950426102', '-0.09819898009300232', '0.035802826285362244', '0.0563848614692688', '-0.01796828769147396', '-0.014092961326241493', '-0.01900899037718773', '-0.043179403990507126', '8.829026046441868e-05', '0.006758067291229963', '0.04657716304063797', '-0.02211752161383629', '0.029112113639712334', '0.00368549139238894', '-0.003595986869186163', '-0.004708806984126568', '-0.024415118619799614', '0.014392748475074768', '0.02965368516743183', '0.06413149833679199', '-0.03826531022787094', '0.06811896711587906', '0.024341173470020294', '0.00788091216236353', '0.01629512757062912', '0.05040973797440529', '-0.01598658412694931', '0.023967662826180458', '0.00833963230252266', '-0.005981891881674528', '0.03362461179494858', '-0.0021548636723309755', '-0.06824305653572083', '-0.013321641832590103', '0.029996873810887337', '-0.0165120679885149', '-0.0022636111825704575', '-0.0005893742782063782', '0.03267408162355423', '0.020449968054890633', '-0.0033033706713467836', '-0.04918088763952255', '0.046616680920124054', '0.00591916311532259', '-0.010425872169435024', '-0.04782980680465698', '-0.018282560631632805', '0.010364030487835407', '0.0021813232451677322', '-0.006127487868070602', '0.031304992735385895', '0.005201365333050489', '0.012128650210797787', '-0.011815207079052925', '0.022555125877261162', '-0.05961449071764946', '0.026608368381857872', '-0.0063029564917087555', '-0.06533273309469223', '-0.04027029126882553', '-0.027855414897203445', '-0.0024409897159785032', '0.02207612618803978', '-0.019245313480496407', '0.029504138976335526', '-0.023752689361572266', '0.07577638328075409', '0.06257110089063644', '-0.05051221698522568', '0.09008143842220306', '0.008754940703511238', '-0.006136946380138397', '0.005407820921391249', '-0.01735195517539978', '-0.0018667690455913544', '0.0005316830356605351', '-0.04005561023950577', '0.0677524134516716', '-0.017565427348017693', '-0.021767690777778625', '0.011855804361402988', '0.005659144837409258', '-0.02514059655368328', '0.0007900543860159814', '-0.030976008623838425', '0.07104617357254028', '0.038695044815540314', '0.03079971857368946', '0.003561817342415452', '-0.017101140692830086', '0.007867678999900818', '0.00208451971411705', '0.003281554440036416', '0.0940873920917511', '0.04776015877723694', '-0.0013668462634086609', '0.013508942909538746', '0.020663036033511162', '-0.009038003161549568', '-0.0029795528389513493', '-0.017077818512916565', '-0.016218053176999092', '-0.05780966579914093', '0.022803880274295807', '-0.01384084951132536', '0.004099278710782528', '-0.0022282882127910852', '0.006369857117533684', '0.012946654111146927', '0.007832045666873455', '0.0406501367688179', '0.0005877400981262326', '0.005241635255515575', '0.03419163450598717', '0.00835307314991951', '-0.005156076978892088', '0.02308519370853901', '-0.02587553858757019', '0.00020208368368912488', '-0.009389703162014484', '0.0049353293143212795', '-0.018783915787935257', '0.06597302109003067', '-0.05337340384721756', '0.0008803694508969784', '-0.04291392117738724', '0.026976320892572403', '0.018907103687524796', '0.014152996242046356', '-0.001355279004201293', '0.030293652787804604', '-0.013471267186105251', '-0.023699836805462837', '0.025247005745768547', '-0.02458617463707924', '0.10764008015394211', '-0.06551076471805573', '0.03617548570036888', '-0.05164984241127968', '0.042423807084560394', '-0.122678741812706', '-0.04569166898727417', '0.07252286374568939', '-0.007497361395508051', '0.014530759304761887', '-0.00808716006577015', '0.025242965668439865', '0.0052754986099898815', '-0.02139490656554699', '-0.005342117976397276', '-0.017693540081381798', '-0.04172134771943092', '0.03392353653907776', '-0.028144262731075287', '0.0016741885337978601', '-0.046738818287849426', '0.0052263797260820866', '-0.02618107758462429', '0.01341330073773861', '0.11046889424324036', '0.01253774669021368', '0.01827039010822773', '-0.029497390612959862', '-0.023727644234895706', '0.04561810567975044', '0.060850292444229126', '-0.029543085023760796', '-0.024140577763319016', '0.022131076082587242', '0.027668116614222527', '0.010466660372912884', '0.008846075274050236', '0.012689772993326187', '-0.010690974071621895', '0.0032907663844525814', '0.0519699901342392', '0.01958566904067993', '-0.0733414739370346', '0.01731606014072895', '0.0016709438059478998', '-0.01622999645769596', '0.012372114695608616', '-0.018076520413160324', '0.004168325569480658', '0.024496451020240784', '0.006008184049278498', '0.0034266309812664986', '-0.035495396703481674', '0.04834103584289551', '-0.02403371036052704', '0.013102161698043346', '-0.03758544847369194', '-0.02695312537252903', '0.005572694819420576', '-0.05355909466743469', '0.010147581808269024', '-0.031024644151329994', '-0.04977291449904442', '-0.10443337261676788', '-0.005134605336934328', '-0.03789588063955307', '0.022841235622763634', '-0.024737684056162834', '0.0260328259319067', '0.017687398940324783', '-0.01460584718734026', '-0.05452275276184082', '-0.02864067628979683', '-0.06179862469434738', '0.0022105593234300613', '0.004078835714608431', '0.002657672157511115', '0.026449525728821754', '-0.04241347685456276', '0.041387442499399185', '0.009810504503548145', '-0.059070080518722534', '-0.009685548953711987', '-0.055941078811883926', '-0.035828325897455215', '-0.002053708303719759', '-0.019463911652565002', '0.0017944949213415384', '-0.020168954506516457', '-0.02695886790752411', '0.031991757452487946', '-0.0718262791633606', '-0.023702336475253105', '-0.0002751628344412893', '0.05573718994855881', '-0.04120296984910965', '0.05161040648818016', '0.037799086421728134', '-0.00645404914394021', '0.025853434577584267', '0.004062822088599205', '-0.029447507113218307', '0.00034614084870554507', '0.023059088736772537', '-0.002120687859132886', '0.01623968407511711', '-0.02058684267103672', '0.022554481402039528', '0.05364353209733963', '-0.06346383690834045', '-0.05673559382557869', '0.02187231555581093', '0.056012291461229324', '0.013754039071500301', '0.04704899713397026', '-0.022239994257688522', '0.05056718364357948', '-0.041153356432914734', '0.018871136009693146', '-0.020509779453277588', '0.05192195996642113', '-0.007911091670393944', '-0.0937517061829567', '0.00888985674828291', '0.03072604537010193', '-0.056991420686244965', '-0.0567055344581604', '-0.015064168721437454', '-0.009076493792235851', '0.04121691733598709', '0.0095467334613204', '0.042135145515203476', '-0.020760731771588326', '-0.014879114925861359', '0.008235576562583447', '0.03633679449558258', '0.025395656004548073', '-0.05158644914627075', '-0.07369730621576309', '0.017608990892767906', '0.01753595471382141', '-0.058681417256593704', '0.01177024282515049', '0.014528106898069382', '0.03401122987270355', '-0.008291037753224373', '0.014107034541666508', '0.05152439326047897', '-0.017617130652070045', '-0.035081904381513596', '-0.0028028248343616724', '-0.009235813282430172', '0.008335446007549763', '0.010935261845588684', '0.06755928695201874', '0.0114944688975811', '0.01215510256588459', '0.006480734329670668', '-0.031888388097286224', '0.06388341635465622', '-0.010907404124736786', '0.08670949935913086', '-0.015099827200174332', '-0.0071667833253741264', '-0.025214307010173798', '0.006303402595221996', '0.0011710807448253036', '0.03184790536761284', '-0.014175230637192726', '0.03285016864538193', '0.03025962971150875', '0.07728753983974457', '0.06730736047029495', '0.0015567352529615164', '-0.018832027912139893', '-0.06376254558563232', '0.014802333898842335', '0.06789366155862808', '0.06171222776174545', '0.012889286503195763', '-0.0009857171680778265', '-0.004686689004302025', '-0.02761317417025566', '0.02248504012823105', '-0.015023335814476013', '-0.038445912301540375', '-0.024138687178492546', '0.0011115043889731169', '0.037220507860183716', '-0.003160338383167982', '0.014001433737576008', '-0.005547296721488237', '0.0019254616927355528', '-0.011357313022017479', '-0.0022967203985899687', '0.036722712218761444', '0.009076138958334923', '-0.010187815874814987', '-0.007487606722861528', '0.015905248001217842', '0.009550301358103752', '-0.10216183960437775', '0.047929029911756516', '0.05825483426451683', '0.04344888776540756', '0.043142568320035934', '-0.03349416330456734', '0.07868773490190506', '0.03859598562121391', '-0.005508809816092253', '0.02323867753148079', '-0.11889975517988205', '-0.005551126319915056', '-0.03681664168834686', '-0.07637624442577362', '-0.02007269486784935', '0.02379510924220085', '0.0165773443877697', '0.06894195824861526', '0.03212852030992508', '-0.10032472014427185', '0.01693095453083515', '-0.043950729072093964', '0.04184203967452049', '-0.01668722927570343', '0.07262568175792694', '0.004954024683684111', '0.024999720975756645', '0.013104952871799469', '0.021664917469024658', '-0.03256490081548691', '-0.11067119240760803', '-0.03147134557366371', '0.015306420624256134', '0.038303472101688385', '0.00406881095841527', '0.04387802630662918', '-0.03624672815203667', '-0.010918382555246353', '-0.026414869353175163', '0.01027567870914936', '0.014934125356376171', '-0.00983220711350441', '-0.03684065863490105', '0.0487244613468647', '0.022034863010048866', '-0.04210589826107025', '0.008755166083574295', '0.02715211734175682', '-0.0056666601449251175', '0.025273457169532776', '0.022346854209899902', '-0.004359588958323002', '-0.008461731486022472', '0.011553958989679813', '-0.02892344631254673', '0.027834203094244003', '-0.0037351432256400585', '0.02330234833061695', '-0.021350419148802757', '-0.011192127130925655', '-0.0016886221710592508', '-0.01489599235355854', '0.07329270988702774', '0.08389551937580109', '0.036626122891902924', '-0.026666928082704544', '-0.012334399856626987', '0.006899171508848667', '0.030384739860892296', '-0.0003870362415909767', '-0.013153566047549248', '0.04273189976811409', '0.004020730033516884', '0.0009822732536122203', '-0.04378877580165863', '-0.029043257236480713', '-0.03759048506617546', '-0.06811977922916412', '-0.059838902205228806', '0.03155164793133736', '-0.07771727442741394', '-0.013047387823462486', '0.030468467622995377', '-0.0024287074338644743', '0.0216979943215847', '-0.03362486511468887', '0.011638408526778221', '-0.024764709174633026', '-0.012022222392261028', '0.01769908517599106', '0.005131271667778492', '-0.0261852890253067', '-0.0019470241386443377', '-0.028374701738357544', '-0.03412299603223801', '0.003951334394514561', '-0.028017913922667503', '-0.0035359670873731375', '-0.009703469462692738', '0.0074905590154230595', '0.0023335437290370464', '0.021596956998109818', '0.003965538460761309', '-0.008141150698065758', '0.024345315992832184', '0.0391237735748291', '0.059498514980077744', '0.03198136016726494', '-0.02352708764374256', '-0.01889457367360592', '-0.027529040351510048', '0.03382837027311325', '0.03401409462094307', '0.025792406871914864', '0.07144813984632492', '0.0011059364769607782', '-0.04637117683887482', '-0.0030366252176463604', '0.0009092621621675789', '-0.010591582395136356', '-5.873064752321808e-33', '0.06070574000477791', '-0.025601567700505257', '-0.009636659175157547', '-0.012403457425534725', '-0.06766870617866516', '0.05422171205282211', '-0.03762601315975189', '-0.008207139559090137', '-0.022893721237778664', '-0.03107784315943718', '-0.00029894401086494327', '-0.05118737742304802', '0.01494480762630701', '0.0037057886365801096', '0.06438914686441422', '-0.04877667874097824', '0.02192428708076477', '0.07503167539834976', '0.03812874108552933', '0.02933306060731411', '-0.02551514469087124', '0.05332143232226372', '0.03424132615327835', '-0.008347835391759872', '-0.030075684189796448', '-0.034348975867033005', '-0.04784892871975899', '0.020661678165197372', '0.044486213475465775', '-0.029760563746094704', '0.015038843266665936', '-0.05985676869750023', '-0.02399917133152485', '-0.02666795626282692', '-0.021339191123843193', '0.051680680364370346', '0.022116515785455704', '-0.04405231028795242', '-0.008068731054663658', '-0.04751967638731003', '0.0063116722740232944', '0.0323350690305233', '0.02880997397005558', '0.003462312975898385', '-0.019394494593143463', '-0.02137663960456848', '-0.02296150103211403', '-0.024320123717188835', '-0.033177755773067474', '-0.09992031753063202', '-0.007080248091369867', '0.014439047314226627', '0.023447250947356224', '0.012837301008403301', '-0.06344358623027802', '-0.005497445352375507', '-0.016348063945770264', '0.008878839202225208', '-0.05963711813092232', '0.0014697310980409384', '0.04736696183681488', '5.365524339140393e-05', '-0.007217272184789181', '8.602751040598378e-05', '-0.05690023675560951', '0.007856089621782303', '0.02201416715979576', '0.021999983116984367', '0.02388092502951622', '-0.031694941222667694', '-0.04157032072544098', '-0.00829783733934164', '0.05280591547489166', '-0.032770901918411255', '-0.06351704150438309', '0.006684315390884876', '-0.061020512133836746', '0.018803000450134277', '0.13018274307250977', '0.01050708256661892', '-0.0021226981189101934', '0.02151690609753132', '-0.07410955429077148', '0.0068241022527217865', '-0.03787727281451225', '0.01584605500102043', '0.019955860450863838', '-0.07787314057350159', '0.02493412233889103', '-0.01341550424695015', '-0.03952465578913689', '0.03313879668712616', '0.04064856469631195', '0.027503959834575653', '-0.0016768684145063162', '-0.04360746592283249', '-0.011393043212592602', '0.04261381924152374', '-0.021775025874376297', '-0.05248158052563667', '-0.03433762490749359', '0.034313369542360306', '0.013108315877616405', '-0.030150815844535828', '0.0140871936455369', '-0.048227451741695404', '-0.04342561587691307', '0.028388570994138718', '-0.07727780938148499', '0.0024476447142660618', '-0.014653507620096207', '0.033869095146656036', '-0.01438869908452034', '-0.028496449813246727', '0.0014902210095897317', '-0.0015687677077949047', '0.0008304993971250951', '-0.07031112164258957', '0.012334645725786686', '-0.0496487133204937', '0.02004982717335224', '0.10026626288890839', '0.021113688126206398', '0.022336920723319054', '0.0028302264399826527', '-0.005170626565814018', '-0.01929207146167755', '0.0761406421661377', '0.03817768394947052', '-0.00922385323792696', '-0.01677759364247322', '0.06949911266565323', '2.510133469968423e-07', '0.03672903776168823', '-0.00540552195161581', '-0.015617639757692814', '-0.05915413424372673', '0.00028430845122784376', '0.01865915022790432', '-0.01076366938650608', '0.04976452887058258', '0.035774100571870804', '0.004883551504462957', '0.02164415828883648', '-0.023778200149536133', '-0.0037309012841433287', '0.010954505763947964', '0.01109155360609293', '-0.004599626176059246', '-0.0032978409435600042', '-0.06113043799996376', '-0.013910859823226929', '-0.0366663932800293', '0.030843518674373627', '0.018637387081980705', '-0.026827994734048843', '-0.02638097107410431', '0.018523674458265305', '0.004786858335137367', '-0.03397590294480324', '0.019648080691695213', '-0.03703818470239639', '-0.034199703484773636', '-0.13115300238132477', '0.013239610008895397', '-0.011696601286530495', '-0.004653342068195343', '0.010142536833882332', '0.02514559030532837', '-0.020442575216293335', '-0.05815805494785309', '-0.003127973061054945', '0.04051272198557854', '-0.00833134911954403', '-0.02047717012465', '0.023185983300209045', '0.07405002415180206', '-0.01752111315727234', '0.007795403245836496', '0.009167324751615524', '0.015148977749049664', '-0.05173984542489052', '-0.0011629740474745631', '0.03422163054347038', '0.023706402629613876', '0.002012368757277727', '0.0017411407316103578', '-0.0022235719952732325', '0.04352288693189621', '-0.03579854592680931', '-0.012333209626376629', '0.005014035385102034', '-0.021006092429161072', '-0.03979511186480522', '0.0698474794626236', '0.005728201009333134', '0.03764490783214569', '-0.0027511250227689743', '-0.0927693322300911', '-0.0016105520771816373', '1.7823892271823724e-34', '0.03631540387868881', '-0.03769039735198021', '-0.002273732330650091', '0.05998581275343895', '-0.034132782369852066', '0.014586902223527431', '0.04089496657252312', '-0.0010290726786479354', '0.03133329004049301', '0.003924067132174969', '-0.017413603141903877']}}, multi_label=False, explanation=None, id='train_0', metadata={'split': 'labeled'}, status='Default', event_timestamp=datetime.datetime(2022, 12, 2, 12, 42, 17, 358785), metrics=None, search_keywords=None)"
     },
     "execution_count": 31,
     "metadata": {},
     "output_type": "execute_result"
    }
   ],
   "source": [
    "record"
   ],
   "metadata": {
    "collapsed": false
   }
  },
  {
   "cell_type": "code",
   "execution_count": 32,
   "outputs": [
    {
     "data": {
      "text/plain": "  0%|          | 0/1 [00:00<?, ?it/s]",
      "application/vnd.jupyter.widget-view+json": {
       "version_major": 2,
       "version_minor": 0,
       "model_id": "b4a56f0bfbb34c3ea4092eaf51763a0d"
      }
     },
     "metadata": {},
     "output_type": "display_data"
    },
    {
     "name": "stdout",
     "output_type": "stream",
     "text": [
      "1 records logged to http://localhost:6900/datasets/argilla/ag_news_with_vectors\n"
     ]
    },
    {
     "data": {
      "text/plain": "BulkResponse(dataset='ag_news_with_vectors', processed=1, failed=0)"
     },
     "execution_count": 32,
     "metadata": {},
     "output_type": "execute_result"
    }
   ],
   "source": [
    "rg.log(record, \"ag_news_with_vectors\")"
   ],
   "metadata": {
    "collapsed": false
   }
  },
  {
   "cell_type": "code",
   "execution_count": 33,
   "outputs": [],
   "source": [
    "xx = rg.load(\"ag_news_with_vectors\")"
   ],
   "metadata": {
    "collapsed": false
   }
  },
  {
   "cell_type": "code",
   "execution_count": 36,
   "outputs": [
    {
     "data": {
      "text/plain": "TextClassificationRecord(text='Paul cracks code to go on mission for England THE perception now is that rugby leagues best qualities have been absorbed by rugby union, considering the influence of its former adherents in the England team that ', inputs={'text': 'Paul cracks code to go on mission for England THE perception now is that rugby leagues best qualities have been absorbed by rugby union, considering the influence of its former adherents in the England team that '}, prediction=None, prediction_agent=None, annotation=None, annotation_agent=None, embeddings=None, multi_label=False, explanation=None, id='train_0', metadata={'split': 'labeled'}, status='Default', event_timestamp=datetime.datetime(2022, 12, 2, 12, 42, 17, 358785), metrics={'text_length': 212}, search_keywords=None)"
     },
     "execution_count": 36,
     "metadata": {},
     "output_type": "execute_result"
    }
   ],
   "source": [
    "xx[0]"
   ],
   "metadata": {
    "collapsed": false
   }
  },
  {
   "cell_type": "code",
   "execution_count": 37,
   "outputs": [
    {
     "data": {
      "text/plain": "  0%|          | 0/1 [00:00<?, ?it/s]",
      "application/vnd.jupyter.widget-view+json": {
       "version_major": 2,
       "version_minor": 0,
       "model_id": "a12c0e36fa44481da4300761e9dd3834"
      }
     },
     "metadata": {},
     "output_type": "display_data"
    },
    {
     "name": "stdout",
     "output_type": "stream",
     "text": [
      "1 records logged to http://localhost:6900/datasets/argilla/ag_news_vector_search\n"
     ]
    },
    {
     "data": {
      "text/plain": "BulkResponse(dataset='ag_news_vector_search', processed=1, failed=0)"
     },
     "execution_count": 37,
     "metadata": {},
     "output_type": "execute_result"
    }
   ],
   "source": [
    "active_api().log(record, \"ag_news_vector_search\")"
   ],
   "metadata": {
    "collapsed": false
   }
  },
  {
   "cell_type": "code",
   "execution_count": 38,
   "outputs": [],
   "source": [
    "x = active_api().load(\"ag_news_vector_search\")"
   ],
   "metadata": {
    "collapsed": false
   }
  },
  {
   "cell_type": "code",
   "execution_count": 40,
   "outputs": [
    {
     "data": {
      "text/plain": "TextClassificationRecord(text='Paul cracks code to go on mission for England THE perception now is that rugby leagues best qualities have been absorbed by rugby union, considering the influence of its former adherents in the England team that ', inputs={'text': 'Paul cracks code to go on mission for England THE perception now is that rugby leagues best qualities have been absorbed by rugby union, considering the influence of its former adherents in the England team that '}, prediction=None, prediction_agent=None, annotation=None, annotation_agent=None, embeddings=None, multi_label=False, explanation=None, id='train_0', metadata={'split': 'labeled'}, status='Default', event_timestamp=datetime.datetime(2022, 12, 2, 12, 42, 17, 358785), metrics={'text_length': 212}, search_keywords=None)"
     },
     "execution_count": 40,
     "metadata": {},
     "output_type": "execute_result"
    }
   ],
   "source": [
    "x[0]"
   ],
   "metadata": {
    "collapsed": false
   }
  },
  {
   "cell_type": "code",
   "execution_count": null,
   "outputs": [],
   "source": [],
   "metadata": {
    "collapsed": false
   }
  }
 ],
 "metadata": {
  "kernelspec": {
   "display_name": "Python 3.9.13 ('argilla')",
   "language": "python",
   "name": "python3"
  },
  "language_info": {
   "codemirror_mode": {
    "name": "ipython",
    "version": 3
   },
   "file_extension": ".py",
   "mimetype": "text/x-python",
   "name": "python",
   "nbconvert_exporter": "python",
   "pygments_lexer": "ipython3",
   "version": "3.9.13"
  },
  "orig_nbformat": 4,
  "vscode": {
   "interpreter": {
    "hash": "83e13ff0de9ea08cace169d1016bf08ce368842307fd88824f08736a0a9ca04b"
   }
  }
 },
 "nbformat": 4,
 "nbformat_minor": 2
}
