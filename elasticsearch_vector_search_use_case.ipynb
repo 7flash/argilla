{
 "cells": [
  {
   "cell_type": "code",
   "execution_count": 1,
   "metadata": {},
   "outputs": [],
   "source": [
    "from src.argilla.server.daos.backend.generic_elastic import GenericElasticEngineBackend"
   ]
  },
  {
   "cell_type": "code",
   "execution_count": 2,
   "metadata": {},
   "outputs": [],
   "source": [
    "elastic_backend = GenericElasticEngineBackend.get_instance()"
   ]
  },
  {
   "cell_type": "code",
   "execution_count": 3,
   "metadata": {},
   "outputs": [
    {
     "data": {
      "text/plain": "ElasticsearchClient(vector_search_supported=True, index_shards=1, config_backend={'hosts': 'http://localhost:9200', 'verify_certs': True, 'ca_certs': None, 'retry_on_timeout': True, 'max_retries': 5})"
     },
     "execution_count": 3,
     "metadata": {},
     "output_type": "execute_result"
    }
   ],
   "source": [
    "elastic_backend.client"
   ]
  },
  {
   "cell_type": "code",
   "execution_count": 4,
   "metadata": {},
   "outputs": [
    {
     "name": "stdout",
     "output_type": "stream",
     "text": [
      "Requirement already satisfied: faiss-cpu in /home/ufuk/anaconda3/envs/argilla/lib/python3.9/site-packages (1.7.3)\r\n",
      "Requirement already satisfied: sentence_transformers in /home/ufuk/anaconda3/envs/argilla/lib/python3.9/site-packages (2.2.2)\r\n",
      "Requirement already satisfied: transformers in /home/ufuk/anaconda3/envs/argilla/lib/python3.9/site-packages (4.18.0)\r\n",
      "Requirement already satisfied: datasets in /home/ufuk/anaconda3/envs/argilla/lib/python3.9/site-packages (2.2.2)\r\n",
      "Requirement already satisfied: tqdm in /home/ufuk/anaconda3/envs/argilla/lib/python3.9/site-packages (from sentence_transformers) (4.64.1)\r\n",
      "Requirement already satisfied: torch>=1.6.0 in /home/ufuk/anaconda3/envs/argilla/lib/python3.9/site-packages (from sentence_transformers) (1.13.0)\r\n",
      "Requirement already satisfied: torchvision in /home/ufuk/anaconda3/envs/argilla/lib/python3.9/site-packages (from sentence_transformers) (0.14.0)\r\n",
      "Requirement already satisfied: nltk in /home/ufuk/anaconda3/envs/argilla/lib/python3.9/site-packages (from sentence_transformers) (3.7)\r\n",
      "Requirement already satisfied: scipy in /home/ufuk/anaconda3/envs/argilla/lib/python3.9/site-packages (from sentence_transformers) (1.9.3)\r\n",
      "Requirement already satisfied: sentencepiece in /home/ufuk/anaconda3/envs/argilla/lib/python3.9/site-packages (from sentence_transformers) (0.1.95)\r\n",
      "Requirement already satisfied: numpy in /home/ufuk/anaconda3/envs/argilla/lib/python3.9/site-packages (from sentence_transformers) (1.23.5)\r\n",
      "Requirement already satisfied: scikit-learn in /home/ufuk/anaconda3/envs/argilla/lib/python3.9/site-packages (from sentence_transformers) (1.1.3)\r\n",
      "Requirement already satisfied: huggingface-hub>=0.4.0 in /home/ufuk/anaconda3/envs/argilla/lib/python3.9/site-packages (from sentence_transformers) (0.11.0)\r\n",
      "Requirement already satisfied: filelock in /home/ufuk/anaconda3/envs/argilla/lib/python3.9/site-packages (from transformers) (3.8.0)\r\n",
      "Requirement already satisfied: regex!=2019.12.17 in /home/ufuk/anaconda3/envs/argilla/lib/python3.9/site-packages (from transformers) (2022.10.31)\r\n",
      "Requirement already satisfied: tokenizers!=0.11.3,<0.13,>=0.11.1 in /home/ufuk/anaconda3/envs/argilla/lib/python3.9/site-packages (from transformers) (0.12.1)\r\n",
      "Requirement already satisfied: packaging>=20.0 in /home/ufuk/anaconda3/envs/argilla/lib/python3.9/site-packages (from transformers) (21.3)\r\n",
      "Requirement already satisfied: requests in /home/ufuk/anaconda3/envs/argilla/lib/python3.9/site-packages (from transformers) (2.28.1)\r\n",
      "Requirement already satisfied: sacremoses in /home/ufuk/anaconda3/envs/argilla/lib/python3.9/site-packages (from transformers) (0.0.53)\r\n",
      "Requirement already satisfied: pyyaml>=5.1 in /home/ufuk/anaconda3/envs/argilla/lib/python3.9/site-packages (from transformers) (5.4.1)\r\n",
      "Requirement already satisfied: dill<0.3.5 in /home/ufuk/anaconda3/envs/argilla/lib/python3.9/site-packages (from datasets) (0.3.4)\r\n",
      "Requirement already satisfied: aiohttp in /home/ufuk/anaconda3/envs/argilla/lib/python3.9/site-packages (from datasets) (3.8.3)\r\n",
      "Requirement already satisfied: responses<0.19 in /home/ufuk/anaconda3/envs/argilla/lib/python3.9/site-packages (from datasets) (0.18.0)\r\n",
      "Requirement already satisfied: multiprocess in /home/ufuk/anaconda3/envs/argilla/lib/python3.9/site-packages (from datasets) (0.70.12.2)\r\n",
      "Requirement already satisfied: fsspec[http]>=2021.05.0 in /home/ufuk/anaconda3/envs/argilla/lib/python3.9/site-packages (from datasets) (2022.11.0)\r\n",
      "Requirement already satisfied: pandas in /home/ufuk/anaconda3/envs/argilla/lib/python3.9/site-packages (from datasets) (1.5.2)\r\n",
      "Requirement already satisfied: xxhash in /home/ufuk/anaconda3/envs/argilla/lib/python3.9/site-packages (from datasets) (3.1.0)\r\n",
      "Requirement already satisfied: pyarrow>=6.0.0 in /home/ufuk/anaconda3/envs/argilla/lib/python3.9/site-packages (from datasets) (10.0.1)\r\n",
      "Requirement already satisfied: yarl<2.0,>=1.0 in /home/ufuk/anaconda3/envs/argilla/lib/python3.9/site-packages (from aiohttp->datasets) (1.8.1)\r\n",
      "Requirement already satisfied: charset-normalizer<3.0,>=2.0 in /home/ufuk/anaconda3/envs/argilla/lib/python3.9/site-packages (from aiohttp->datasets) (2.1.1)\r\n",
      "Requirement already satisfied: multidict<7.0,>=4.5 in /home/ufuk/anaconda3/envs/argilla/lib/python3.9/site-packages (from aiohttp->datasets) (6.0.2)\r\n",
      "Requirement already satisfied: aiosignal>=1.1.2 in /home/ufuk/anaconda3/envs/argilla/lib/python3.9/site-packages (from aiohttp->datasets) (1.3.1)\r\n",
      "Requirement already satisfied: async-timeout<5.0,>=4.0.0a3 in /home/ufuk/anaconda3/envs/argilla/lib/python3.9/site-packages (from aiohttp->datasets) (4.0.2)\r\n",
      "Requirement already satisfied: attrs>=17.3.0 in /home/ufuk/anaconda3/envs/argilla/lib/python3.9/site-packages (from aiohttp->datasets) (22.1.0)\r\n",
      "Requirement already satisfied: frozenlist>=1.1.1 in /home/ufuk/anaconda3/envs/argilla/lib/python3.9/site-packages (from aiohttp->datasets) (1.3.3)\r\n",
      "Requirement already satisfied: typing-extensions>=3.7.4.3 in /home/ufuk/anaconda3/envs/argilla/lib/python3.9/site-packages (from huggingface-hub>=0.4.0->sentence_transformers) (4.4.0)\r\n",
      "Requirement already satisfied: pyparsing!=3.0.5,>=2.0.2 in /home/ufuk/anaconda3/envs/argilla/lib/python3.9/site-packages (from packaging>=20.0->transformers) (3.0.9)\r\n",
      "Requirement already satisfied: idna<4,>=2.5 in /home/ufuk/anaconda3/envs/argilla/lib/python3.9/site-packages (from requests->transformers) (3.4)\r\n",
      "Requirement already satisfied: certifi>=2017.4.17 in /home/ufuk/anaconda3/envs/argilla/lib/python3.9/site-packages (from requests->transformers) (2022.9.24)\r\n",
      "Requirement already satisfied: urllib3<1.27,>=1.21.1 in /home/ufuk/anaconda3/envs/argilla/lib/python3.9/site-packages (from requests->transformers) (1.26.12)\r\n",
      "Requirement already satisfied: nvidia-cudnn-cu11==8.5.0.96 in /home/ufuk/anaconda3/envs/argilla/lib/python3.9/site-packages (from torch>=1.6.0->sentence_transformers) (8.5.0.96)\r\n",
      "Requirement already satisfied: nvidia-cuda-runtime-cu11==11.7.99 in /home/ufuk/anaconda3/envs/argilla/lib/python3.9/site-packages (from torch>=1.6.0->sentence_transformers) (11.7.99)\r\n",
      "Requirement already satisfied: nvidia-cublas-cu11==11.10.3.66 in /home/ufuk/anaconda3/envs/argilla/lib/python3.9/site-packages (from torch>=1.6.0->sentence_transformers) (11.10.3.66)\r\n",
      "Requirement already satisfied: nvidia-cuda-nvrtc-cu11==11.7.99 in /home/ufuk/anaconda3/envs/argilla/lib/python3.9/site-packages (from torch>=1.6.0->sentence_transformers) (11.7.99)\r\n",
      "Requirement already satisfied: setuptools in /home/ufuk/anaconda3/envs/argilla/lib/python3.9/site-packages (from nvidia-cublas-cu11==11.10.3.66->torch>=1.6.0->sentence_transformers) (65.5.1)\r\n",
      "Requirement already satisfied: wheel in /home/ufuk/anaconda3/envs/argilla/lib/python3.9/site-packages (from nvidia-cublas-cu11==11.10.3.66->torch>=1.6.0->sentence_transformers) (0.38.4)\r\n",
      "Requirement already satisfied: click in /home/ufuk/anaconda3/envs/argilla/lib/python3.9/site-packages (from nltk->sentence_transformers) (7.1.2)\r\n",
      "Requirement already satisfied: joblib in /home/ufuk/anaconda3/envs/argilla/lib/python3.9/site-packages (from nltk->sentence_transformers) (1.2.0)\r\n",
      "Requirement already satisfied: python-dateutil>=2.8.1 in /home/ufuk/anaconda3/envs/argilla/lib/python3.9/site-packages (from pandas->datasets) (2.8.2)\r\n",
      "Requirement already satisfied: pytz>=2020.1 in /home/ufuk/anaconda3/envs/argilla/lib/python3.9/site-packages (from pandas->datasets) (2022.6)\r\n",
      "Requirement already satisfied: six in /home/ufuk/anaconda3/envs/argilla/lib/python3.9/site-packages (from sacremoses->transformers) (1.16.0)\r\n",
      "Requirement already satisfied: threadpoolctl>=2.0.0 in /home/ufuk/anaconda3/envs/argilla/lib/python3.9/site-packages (from scikit-learn->sentence_transformers) (3.1.0)\r\n",
      "Requirement already satisfied: pillow!=8.3.*,>=5.3.0 in /home/ufuk/anaconda3/envs/argilla/lib/python3.9/site-packages (from torchvision->sentence_transformers) (9.3.0)\r\n",
      "Note: you may need to restart the kernel to use updated packages.\n"
     ]
    }
   ],
   "source": [
    "%pip install faiss-cpu sentence_transformers transformers datasets"
   ]
  },
  {
   "cell_type": "code",
   "execution_count": 7,
   "outputs": [
    {
     "name": "stderr",
     "output_type": "stream",
     "text": [
      "2022-11-24 18:46:20.136 | WARNING  | datasets.builder:_create_builder_config:412 - Using custom data configuration default\n",
      "2022-11-24 18:46:20.141 | WARNING  | datasets.builder:download_and_prepare:577 - Reusing dataset ag_news (/home/ufuk/.cache/huggingface/datasets/ag_news/default/0.0.0/bc2bcb40336ace1a0374767fc29bb0296cdaf8a6da7298436239c54d79180548)\n"
     ]
    },
    {
     "data": {
      "text/plain": "  0%|          | 0/2 [00:00<?, ?it/s]",
      "application/vnd.jupyter.widget-view+json": {
       "version_major": 2,
       "version_minor": 0,
       "model_id": "1a6933ebf80e4b6ab0774ed41288971c"
      }
     },
     "metadata": {},
     "output_type": "display_data"
    },
    {
     "name": "stderr",
     "output_type": "stream",
     "text": [
      "2022-11-24 18:46:20.216 | WARNING  | datasets.arrow_dataset:train_test_split:3426 - Loading cached split indices for dataset at /home/ufuk/.cache/huggingface/datasets/ag_news/default/0.0.0/bc2bcb40336ace1a0374767fc29bb0296cdaf8a6da7298436239c54d79180548/cache-0fb8fdf64cc3fcc4.arrow and /home/ufuk/.cache/huggingface/datasets/ag_news/default/0.0.0/bc2bcb40336ace1a0374767fc29bb0296cdaf8a6da7298436239c54d79180548/cache-80423eae5320d3cb.arrow\n"
     ]
    }
   ],
   "source": [
    "from datasets import load_dataset\n",
    "\n",
    "agnews = load_dataset(\"ag_news\")\n",
    "\n",
    "agnews_train, agnews_valid = (\n",
    "    agnews[\"train\"].train_test_split(test_size=7600, seed=43).values()\n",
    ")\n"
   ],
   "metadata": {
    "collapsed": false
   }
  },
  {
   "cell_type": "code",
   "execution_count": null,
   "outputs": [
    {
     "ename": "BaseClientError",
     "evalue": "Your Api endpoint at http://localhost:6900 is not available or not responding.",
     "output_type": "error",
     "traceback": [
      "\u001B[0;31m---------------------------------------------------------------------------\u001B[0m",
      "\u001B[0;31mBaseClientError\u001B[0m                           Traceback (most recent call last)",
      "\u001B[0;32m/tmp/ipykernel_13912/2221057616.py\u001B[0m in \u001B[0;36m<cell line: 25>\u001B[0;34m()\u001B[0m\n\u001B[1;32m     23\u001B[0m \u001B[0;34m\u001B[0m\u001B[0m\n\u001B[1;32m     24\u001B[0m \u001B[0;31m# log the records to Argilla\u001B[0m\u001B[0;34m\u001B[0m\u001B[0;34m\u001B[0m\u001B[0m\n\u001B[0;32m---> 25\u001B[0;31m \u001B[0mrg\u001B[0m\u001B[0;34m.\u001B[0m\u001B[0mlog\u001B[0m\u001B[0;34m(\u001B[0m\u001B[0mrecords\u001B[0m\u001B[0;34m,\u001B[0m \u001B[0mname\u001B[0m\u001B[0;34m=\u001B[0m\u001B[0;34m\"news2\"\u001B[0m\u001B[0;34m)\u001B[0m\u001B[0;34m\u001B[0m\u001B[0;34m\u001B[0m\u001B[0m\n\u001B[0m",
      "\u001B[0;32m~/argilla_workspace/argilla/src/argilla/client/api.py\u001B[0m in \u001B[0;36mwrapped_func\u001B[0;34m(*args, **kwargs)\u001B[0m\n\u001B[1;32m    655\u001B[0m             \u001B[0;34m@\u001B[0m\u001B[0mwraps\u001B[0m\u001B[0;34m(\u001B[0m\u001B[0mapi_method\u001B[0m\u001B[0;34m)\u001B[0m\u001B[0;34m\u001B[0m\u001B[0;34m\u001B[0m\u001B[0m\n\u001B[1;32m    656\u001B[0m             \u001B[0;32mdef\u001B[0m \u001B[0mwrapped_func\u001B[0m\u001B[0;34m(\u001B[0m\u001B[0;34m*\u001B[0m\u001B[0margs\u001B[0m\u001B[0;34m,\u001B[0m \u001B[0;34m**\u001B[0m\u001B[0mkwargs\u001B[0m\u001B[0;34m)\u001B[0m\u001B[0;34m:\u001B[0m\u001B[0;34m\u001B[0m\u001B[0;34m\u001B[0m\u001B[0m\n\u001B[0;32m--> 657\u001B[0;31m                 \u001B[0;32mreturn\u001B[0m \u001B[0mfunc\u001B[0m\u001B[0;34m(\u001B[0m\u001B[0;34m*\u001B[0m\u001B[0margs\u001B[0m\u001B[0;34m,\u001B[0m \u001B[0;34m**\u001B[0m\u001B[0mkwargs\u001B[0m\u001B[0;34m)\u001B[0m\u001B[0;34m\u001B[0m\u001B[0;34m\u001B[0m\u001B[0m\n\u001B[0m\u001B[1;32m    658\u001B[0m \u001B[0;34m\u001B[0m\u001B[0m\n\u001B[1;32m    659\u001B[0m         \u001B[0msign\u001B[0m \u001B[0;34m=\u001B[0m \u001B[0msignature\u001B[0m\u001B[0;34m(\u001B[0m\u001B[0mapi_method\u001B[0m\u001B[0;34m)\u001B[0m\u001B[0;34m\u001B[0m\u001B[0;34m\u001B[0m\u001B[0m\n",
      "\u001B[0;32m~/argilla_workspace/argilla/src/argilla/client/api.py\u001B[0m in \u001B[0;36mlog\u001B[0;34m(*args, **kwargs)\u001B[0m\n\u001B[1;32m    694\u001B[0m \u001B[0;34m@\u001B[0m\u001B[0mapi_wrapper\u001B[0m\u001B[0;34m(\u001B[0m\u001B[0mApi\u001B[0m\u001B[0;34m.\u001B[0m\u001B[0mlog\u001B[0m\u001B[0;34m)\u001B[0m\u001B[0;34m\u001B[0m\u001B[0;34m\u001B[0m\u001B[0m\n\u001B[1;32m    695\u001B[0m \u001B[0;32mdef\u001B[0m \u001B[0mlog\u001B[0m\u001B[0;34m(\u001B[0m\u001B[0;34m*\u001B[0m\u001B[0margs\u001B[0m\u001B[0;34m,\u001B[0m \u001B[0;34m**\u001B[0m\u001B[0mkwargs\u001B[0m\u001B[0;34m)\u001B[0m\u001B[0;34m:\u001B[0m\u001B[0;34m\u001B[0m\u001B[0;34m\u001B[0m\u001B[0m\n\u001B[0;32m--> 696\u001B[0;31m     \u001B[0;32mreturn\u001B[0m \u001B[0mactive_api\u001B[0m\u001B[0;34m(\u001B[0m\u001B[0;34m)\u001B[0m\u001B[0;34m.\u001B[0m\u001B[0mlog\u001B[0m\u001B[0;34m(\u001B[0m\u001B[0;34m*\u001B[0m\u001B[0margs\u001B[0m\u001B[0;34m,\u001B[0m \u001B[0;34m**\u001B[0m\u001B[0mkwargs\u001B[0m\u001B[0;34m)\u001B[0m\u001B[0;34m\u001B[0m\u001B[0;34m\u001B[0m\u001B[0m\n\u001B[0m\u001B[1;32m    697\u001B[0m \u001B[0;34m\u001B[0m\u001B[0m\n\u001B[1;32m    698\u001B[0m \u001B[0;34m\u001B[0m\u001B[0m\n",
      "\u001B[0;32m~/argilla_workspace/argilla/src/argilla/client/api.py\u001B[0m in \u001B[0;36mactive_api\u001B[0;34m()\u001B[0m\n\u001B[1;32m    634\u001B[0m     \u001B[0;32mglobal\u001B[0m \u001B[0m__ACTIVE_API__\u001B[0m\u001B[0;34m\u001B[0m\u001B[0;34m\u001B[0m\u001B[0m\n\u001B[1;32m    635\u001B[0m     \u001B[0;32mif\u001B[0m \u001B[0m__ACTIVE_API__\u001B[0m \u001B[0;32mis\u001B[0m \u001B[0;32mNone\u001B[0m\u001B[0;34m:\u001B[0m\u001B[0;34m\u001B[0m\u001B[0;34m\u001B[0m\u001B[0m\n\u001B[0;32m--> 636\u001B[0;31m         \u001B[0m__ACTIVE_API__\u001B[0m \u001B[0;34m=\u001B[0m \u001B[0mApi\u001B[0m\u001B[0;34m(\u001B[0m\u001B[0;34m)\u001B[0m\u001B[0;34m\u001B[0m\u001B[0;34m\u001B[0m\u001B[0m\n\u001B[0m\u001B[1;32m    637\u001B[0m     \u001B[0;32mreturn\u001B[0m \u001B[0m__ACTIVE_API__\u001B[0m\u001B[0;34m\u001B[0m\u001B[0;34m\u001B[0m\u001B[0m\n\u001B[1;32m    638\u001B[0m \u001B[0;34m\u001B[0m\u001B[0m\n",
      "\u001B[0;32m~/argilla_workspace/argilla/src/argilla/client/api.py\u001B[0m in \u001B[0;36m__init__\u001B[0;34m(self, api_url, api_key, workspace, timeout, extra_headers)\u001B[0m\n\u001B[1;32m    155\u001B[0m         )\n\u001B[1;32m    156\u001B[0m \u001B[0;34m\u001B[0m\u001B[0m\n\u001B[0;32m--> 157\u001B[0;31m         \u001B[0mself\u001B[0m\u001B[0;34m.\u001B[0m\u001B[0m_user\u001B[0m\u001B[0;34m:\u001B[0m \u001B[0mUser\u001B[0m \u001B[0;34m=\u001B[0m \u001B[0musers_api\u001B[0m\u001B[0;34m.\u001B[0m\u001B[0mwhoami\u001B[0m\u001B[0;34m(\u001B[0m\u001B[0mclient\u001B[0m\u001B[0;34m=\u001B[0m\u001B[0mself\u001B[0m\u001B[0;34m.\u001B[0m\u001B[0m_client\u001B[0m\u001B[0;34m)\u001B[0m\u001B[0;34m\u001B[0m\u001B[0;34m\u001B[0m\u001B[0m\n\u001B[0m\u001B[1;32m    158\u001B[0m         \u001B[0;32mif\u001B[0m \u001B[0mworkspace\u001B[0m \u001B[0;32mis\u001B[0m \u001B[0;32mnot\u001B[0m \u001B[0;32mNone\u001B[0m\u001B[0;34m:\u001B[0m\u001B[0;34m\u001B[0m\u001B[0;34m\u001B[0m\u001B[0m\n\u001B[1;32m    159\u001B[0m             \u001B[0mself\u001B[0m\u001B[0;34m.\u001B[0m\u001B[0mset_workspace\u001B[0m\u001B[0;34m(\u001B[0m\u001B[0mworkspace\u001B[0m\u001B[0;34m)\u001B[0m\u001B[0;34m\u001B[0m\u001B[0;34m\u001B[0m\u001B[0m\n",
      "\u001B[0;32m~/argilla_workspace/argilla/src/argilla/client/sdk/users/api.py\u001B[0m in \u001B[0;36mwhoami\u001B[0;34m(client)\u001B[0m\n\u001B[1;32m     21\u001B[0m \u001B[0;34m\u001B[0m\u001B[0m\n\u001B[1;32m     22\u001B[0m \u001B[0;32mdef\u001B[0m \u001B[0mwhoami\u001B[0m\u001B[0;34m(\u001B[0m\u001B[0mclient\u001B[0m\u001B[0;34m:\u001B[0m \u001B[0mAuthenticatedClient\u001B[0m\u001B[0;34m)\u001B[0m \u001B[0;34m->\u001B[0m \u001B[0mUser\u001B[0m\u001B[0;34m:\u001B[0m\u001B[0;34m\u001B[0m\u001B[0;34m\u001B[0m\u001B[0m\n\u001B[0;32m---> 23\u001B[0;31m     \u001B[0mresponse\u001B[0m \u001B[0;34m=\u001B[0m \u001B[0mclient\u001B[0m\u001B[0;34m.\u001B[0m\u001B[0mget\u001B[0m\u001B[0;34m(\u001B[0m\u001B[0;34m\"/api/me\"\u001B[0m\u001B[0;34m)\u001B[0m\u001B[0;34m\u001B[0m\u001B[0;34m\u001B[0m\u001B[0m\n\u001B[0m\u001B[1;32m     24\u001B[0m     \u001B[0;32mreturn\u001B[0m \u001B[0mUser\u001B[0m\u001B[0;34m(\u001B[0m\u001B[0;34m**\u001B[0m\u001B[0mresponse\u001B[0m\u001B[0;34m)\u001B[0m\u001B[0;34m\u001B[0m\u001B[0;34m\u001B[0m\u001B[0m\n",
      "\u001B[0;32m~/argilla_workspace/argilla/src/argilla/client/sdk/client.py\u001B[0m in \u001B[0;36minner\u001B[0;34m(self, *args, **kwargs)\u001B[0m\n\u001B[1;32m     83\u001B[0m             \u001B[0;32mexcept\u001B[0m \u001B[0mhttpx\u001B[0m\u001B[0;34m.\u001B[0m\u001B[0mConnectError\u001B[0m \u001B[0;32mas\u001B[0m \u001B[0merr\u001B[0m\u001B[0;34m:\u001B[0m\u001B[0;34m\u001B[0m\u001B[0;34m\u001B[0m\u001B[0m\n\u001B[1;32m     84\u001B[0m                 \u001B[0merr_str\u001B[0m \u001B[0;34m=\u001B[0m \u001B[0;34mf\"Your Api endpoint at {self.base_url} is not available or not responding.\"\u001B[0m\u001B[0;34m\u001B[0m\u001B[0;34m\u001B[0m\u001B[0m\n\u001B[0;32m---> 85\u001B[0;31m                 \u001B[0;32mraise\u001B[0m \u001B[0mBaseClientError\u001B[0m\u001B[0;34m(\u001B[0m\u001B[0merr_str\u001B[0m\u001B[0;34m)\u001B[0m \u001B[0;32mfrom\u001B[0m \u001B[0;32mNone\u001B[0m\u001B[0;34m\u001B[0m\u001B[0;34m\u001B[0m\u001B[0m\n\u001B[0m\u001B[1;32m     86\u001B[0m \u001B[0;34m\u001B[0m\u001B[0m\n\u001B[1;32m     87\u001B[0m         \u001B[0;32mreturn\u001B[0m \u001B[0minner\u001B[0m\u001B[0;34m\u001B[0m\u001B[0;34m\u001B[0m\u001B[0m\n",
      "\u001B[0;31mBaseClientError\u001B[0m: Your Api endpoint at http://localhost:6900 is not available or not responding."
     ]
    }
   ],
   "source": [
    "import argilla as rg\n",
    "\n",
    "# build our labelled records to evaluate our heuristic rules and optimize the thresholds\n",
    "records = [\n",
    "    rg.TextClassificationRecord(\n",
    "        text=record[\"text\"],\n",
    "        metadata={\"split\": \"labelled\"},\n",
    "        annotation=agnews_valid.features[\"label\"].int2str(record[\"label\"]),\n",
    "        id=f\"valid_{idx}\",\n",
    "    )\n",
    "    for idx, record in enumerate(agnews_valid)\n",
    "]\n",
    "\n",
    "# build our unlabelled records\n",
    "records += [\n",
    "    rg.TextClassificationRecord(\n",
    "        text=record[\"text\"],\n",
    "        metadata={\"split\": \"unlabelled\"},\n",
    "        id=f\"train_{idx}\",\n",
    "    )\n",
    "    for idx, record in enumerate(agnews_train)\n",
    "]\n",
    "\n",
    "# log the records to Argilla\n",
    "rg.log(records, name=\"news2\")"
   ],
   "metadata": {
    "collapsed": false
   }
  },
  {
   "cell_type": "code",
   "execution_count": null,
   "outputs": [],
   "source": [],
   "metadata": {
    "collapsed": false
   }
  }
 ],
 "metadata": {
  "kernelspec": {
   "display_name": "Python 3.9.13 ('argilla')",
   "language": "python",
   "name": "python3"
  },
  "language_info": {
   "codemirror_mode": {
    "name": "ipython",
    "version": 3
   },
   "file_extension": ".py",
   "mimetype": "text/x-python",
   "name": "python",
   "nbconvert_exporter": "python",
   "pygments_lexer": "ipython3",
   "version": "3.9.13"
  },
  "orig_nbformat": 4,
  "vscode": {
   "interpreter": {
    "hash": "83e13ff0de9ea08cace169d1016bf08ce368842307fd88824f08736a0a9ca04b"
   }
  }
 },
 "nbformat": 4,
 "nbformat_minor": 2
}
